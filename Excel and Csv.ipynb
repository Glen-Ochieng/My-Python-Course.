{
 "cells": [
  {
   "cell_type": "markdown",
   "id": "1d5db186-7658-4ba7-a311-fbc1e3521543",
   "metadata": {},
   "source": [
    "## Input\n",
    "read_csv: https://pandas.pydata.org/docs/reference/api/pandas.read_csv.html\n",
    "\n",
    "read_excel: https://pandas.pydata.org/docs/reference/api/pandas.read_excel.html"
   ]
  },
  {
   "cell_type": "code",
   "execution_count": 4,
   "id": "4ebe7e88-55c3-4d48-b18c-dbc1af8830ca",
   "metadata": {},
   "outputs": [],
   "source": [
    "import pandas as pd"
   ]
  },
  {
   "cell_type": "code",
   "execution_count": 5,
   "id": "53349bcc-8d95-49ec-9cf0-548ee5e9f362",
   "metadata": {},
   "outputs": [],
   "source": [
    "countries_excel = pd.read_excel(r'C:\\Users\\ADMIN\\Desktop\\MY COURSES\\PYTHON KNOWLEDGE\\Course Resurces-Python for Data Analysis and Visualization\\11 Data Sources\\01 Excel and CSV\\top_10_countries.xls', sheet_name='data')"
   ]
  },
  {
   "cell_type": "code",
   "execution_count": 4,
   "id": "8c39a036-339e-4526-b12b-1ebebee6e7e8",
   "metadata": {},
   "outputs": [
    {
     "data": {
      "text/html": [
       "<div>\n",
       "<style scoped>\n",
       "    .dataframe tbody tr th:only-of-type {\n",
       "        vertical-align: middle;\n",
       "    }\n",
       "\n",
       "    .dataframe tbody tr th {\n",
       "        vertical-align: top;\n",
       "    }\n",
       "\n",
       "    .dataframe thead th {\n",
       "        text-align: right;\n",
       "    }\n",
       "</style>\n",
       "<table border=\"1\" class=\"dataframe\">\n",
       "  <thead>\n",
       "    <tr style=\"text-align: right;\">\n",
       "      <th></th>\n",
       "      <th>Rank</th>\n",
       "      <th>Country / Dependency</th>\n",
       "      <th>Region</th>\n",
       "      <th>Population</th>\n",
       "      <th>% of world</th>\n",
       "      <th>Date</th>\n",
       "    </tr>\n",
       "  </thead>\n",
       "  <tbody>\n",
       "    <tr>\n",
       "      <th>0</th>\n",
       "      <td>1</td>\n",
       "      <td>China</td>\n",
       "      <td>Asia</td>\n",
       "      <td>1412600000</td>\n",
       "      <td>0.1780</td>\n",
       "      <td>2021-12-31</td>\n",
       "    </tr>\n",
       "    <tr>\n",
       "      <th>1</th>\n",
       "      <td>2</td>\n",
       "      <td>India</td>\n",
       "      <td>Asia</td>\n",
       "      <td>1386946912</td>\n",
       "      <td>0.1750</td>\n",
       "      <td>2022-01-18</td>\n",
       "    </tr>\n",
       "    <tr>\n",
       "      <th>2</th>\n",
       "      <td>3</td>\n",
       "      <td>United States</td>\n",
       "      <td>Americas</td>\n",
       "      <td>333073186</td>\n",
       "      <td>0.0420</td>\n",
       "      <td>2022-01-18</td>\n",
       "    </tr>\n",
       "    <tr>\n",
       "      <th>3</th>\n",
       "      <td>4</td>\n",
       "      <td>Indonesia</td>\n",
       "      <td>Asia</td>\n",
       "      <td>271350000</td>\n",
       "      <td>0.0342</td>\n",
       "      <td>2020-12-31</td>\n",
       "    </tr>\n",
       "    <tr>\n",
       "      <th>4</th>\n",
       "      <td>5</td>\n",
       "      <td>Pakistan</td>\n",
       "      <td>Asia</td>\n",
       "      <td>225200000</td>\n",
       "      <td>0.0284</td>\n",
       "      <td>2021-07-01</td>\n",
       "    </tr>\n",
       "  </tbody>\n",
       "</table>\n",
       "</div>"
      ],
      "text/plain": [
       "   Rank Country / Dependency    Region  Population  % of world       Date\n",
       "0     1                China      Asia  1412600000      0.1780 2021-12-31\n",
       "1     2                India      Asia  1386946912      0.1750 2022-01-18\n",
       "2     3        United States  Americas   333073186      0.0420 2022-01-18\n",
       "3     4            Indonesia      Asia   271350000      0.0342 2020-12-31\n",
       "4     5             Pakistan      Asia   225200000      0.0284 2021-07-01"
      ]
     },
     "execution_count": 4,
     "metadata": {},
     "output_type": "execute_result"
    }
   ],
   "source": [
    "countries_excel.head()"
   ]
  },
  {
   "cell_type": "code",
   "execution_count": 5,
   "id": "50b8aed1-94cb-4bde-b575-0dab92d0c675",
   "metadata": {},
   "outputs": [],
   "source": [
    "countries_csv = pd.read_csv(r'C:\\Users\\ADMIN\\Desktop\\MY COURSES\\PYTHON KNOWLEDGE\\Course Resurces-Python for Data Analysis and Visualization\\11 Data Sources\\01 Excel and CSV\\top_10_countries.csv')"
   ]
  },
  {
   "cell_type": "code",
   "execution_count": 6,
   "id": "8431c7e7-81e3-4520-888c-4e3b2d75ff2f",
   "metadata": {},
   "outputs": [
    {
     "data": {
      "text/html": [
       "<div>\n",
       "<style scoped>\n",
       "    .dataframe tbody tr th:only-of-type {\n",
       "        vertical-align: middle;\n",
       "    }\n",
       "\n",
       "    .dataframe tbody tr th {\n",
       "        vertical-align: top;\n",
       "    }\n",
       "\n",
       "    .dataframe thead th {\n",
       "        text-align: right;\n",
       "    }\n",
       "</style>\n",
       "<table border=\"1\" class=\"dataframe\">\n",
       "  <thead>\n",
       "    <tr style=\"text-align: right;\">\n",
       "      <th></th>\n",
       "      <th>Rank</th>\n",
       "      <th>Country / Dependency</th>\n",
       "      <th>Region</th>\n",
       "      <th>Population</th>\n",
       "      <th>% of world</th>\n",
       "      <th>Date</th>\n",
       "    </tr>\n",
       "  </thead>\n",
       "  <tbody>\n",
       "    <tr>\n",
       "      <th>0</th>\n",
       "      <td>1</td>\n",
       "      <td>China</td>\n",
       "      <td>Asia</td>\n",
       "      <td>1412600000</td>\n",
       "      <td>17.80%</td>\n",
       "      <td>31-Dec-21</td>\n",
       "    </tr>\n",
       "    <tr>\n",
       "      <th>1</th>\n",
       "      <td>2</td>\n",
       "      <td>India</td>\n",
       "      <td>Asia</td>\n",
       "      <td>1386946912</td>\n",
       "      <td>17.50%</td>\n",
       "      <td>18-Jan-22</td>\n",
       "    </tr>\n",
       "    <tr>\n",
       "      <th>2</th>\n",
       "      <td>3</td>\n",
       "      <td>United States</td>\n",
       "      <td>Americas</td>\n",
       "      <td>333073186</td>\n",
       "      <td>4.20%</td>\n",
       "      <td>18-Jan-22</td>\n",
       "    </tr>\n",
       "    <tr>\n",
       "      <th>3</th>\n",
       "      <td>4</td>\n",
       "      <td>Indonesia</td>\n",
       "      <td>Asia</td>\n",
       "      <td>271350000</td>\n",
       "      <td>3.42%</td>\n",
       "      <td>31-Dec-20</td>\n",
       "    </tr>\n",
       "    <tr>\n",
       "      <th>4</th>\n",
       "      <td>5</td>\n",
       "      <td>Pakistan</td>\n",
       "      <td>Asia</td>\n",
       "      <td>225200000</td>\n",
       "      <td>2.84%</td>\n",
       "      <td>01-Jul-21</td>\n",
       "    </tr>\n",
       "  </tbody>\n",
       "</table>\n",
       "</div>"
      ],
      "text/plain": [
       "   Rank Country / Dependency    Region  Population % of world       Date\n",
       "0     1                China      Asia  1412600000     17.80%  31-Dec-21\n",
       "1     2                India      Asia  1386946912     17.50%  18-Jan-22\n",
       "2     3        United States  Americas   333073186      4.20%  18-Jan-22\n",
       "3     4            Indonesia      Asia   271350000      3.42%  31-Dec-20\n",
       "4     5             Pakistan      Asia   225200000      2.84%  01-Jul-21"
      ]
     },
     "execution_count": 6,
     "metadata": {},
     "output_type": "execute_result"
    }
   ],
   "source": [
    "countries_csv.head()"
   ]
  },
  {
   "cell_type": "markdown",
   "id": "9517fa74-7e06-4702-a87e-d1ea40191838",
   "metadata": {},
   "source": [
    "The dates are recorded differently."
   ]
  },
  {
   "cell_type": "markdown",
   "id": "99103973-b6a8-493e-a040-cc3b3dedebd1",
   "metadata": {},
   "source": [
    "## Output\n",
    "to_excel: https://pandas.pydata.org/docs/reference/api/pandas.DataFrame.to_excel.html\n",
    "\n",
    "to_csv: https://pandas.pydata.org/docs/reference/api/pandas.DataFrame.to_csv.html"
   ]
  },
  {
   "cell_type": "markdown",
   "id": "2b02358c-9ab4-4b21-be64-2b181c68c2f4",
   "metadata": {},
   "source": [
    "<b> It is possible to save these mutated datasets as either csv, excel etc"
   ]
  },
  {
   "cell_type": "code",
   "execution_count": 6,
   "id": "a2af3092-d5b2-4b21-91ff-a2d24d0b3e50",
   "metadata": {},
   "outputs": [],
   "source": [
    "countries_out = countries_excel.pivot_table(index='Region', values='Population', aggfunc='sum')"
   ]
  },
  {
   "cell_type": "code",
   "execution_count": 9,
   "id": "0246843f-9be2-4cf1-b74b-ba54fa1f2ace",
   "metadata": {},
   "outputs": [
    {
     "data": {
      "text/html": [
       "<div>\n",
       "<style scoped>\n",
       "    .dataframe tbody tr th:only-of-type {\n",
       "        vertical-align: middle;\n",
       "    }\n",
       "\n",
       "    .dataframe tbody tr th {\n",
       "        vertical-align: top;\n",
       "    }\n",
       "\n",
       "    .dataframe thead th {\n",
       "        text-align: right;\n",
       "    }\n",
       "</style>\n",
       "<table border=\"1\" class=\"dataframe\">\n",
       "  <thead>\n",
       "    <tr style=\"text-align: right;\">\n",
       "      <th></th>\n",
       "      <th>Population</th>\n",
       "    </tr>\n",
       "    <tr>\n",
       "      <th>Region</th>\n",
       "      <th></th>\n",
       "    </tr>\n",
       "  </thead>\n",
       "  <tbody>\n",
       "    <tr>\n",
       "      <th>Africa</th>\n",
       "      <td>211401000</td>\n",
       "    </tr>\n",
       "    <tr>\n",
       "      <th>Americas</th>\n",
       "      <td>673318851</td>\n",
       "    </tr>\n",
       "    <tr>\n",
       "      <th>Asia</th>\n",
       "      <td>3468159488</td>\n",
       "    </tr>\n",
       "    <tr>\n",
       "      <th>Europe</th>\n",
       "      <td>146171015</td>\n",
       "    </tr>\n",
       "  </tbody>\n",
       "</table>\n",
       "</div>"
      ],
      "text/plain": [
       "          Population\n",
       "Region              \n",
       "Africa     211401000\n",
       "Americas   673318851\n",
       "Asia      3468159488\n",
       "Europe     146171015"
      ]
     },
     "execution_count": 9,
     "metadata": {},
     "output_type": "execute_result"
    }
   ],
   "source": [
    "countries_out"
   ]
  },
  {
   "cell_type": "code",
   "execution_count": 10,
   "id": "73060632-fc41-4d6a-a762-7b774e520011",
   "metadata": {},
   "outputs": [],
   "source": [
    "# Change this to be the directory and filename of your choice\n",
    "# Note:the last element should be the filename.  So start with the file path then finish with the file \n",
    "\n",
    "countries_out.to_csv(r'C:\\Users\\ADMIN\\Desktop\\MY COURSES\\PYTHON KNOWLEDGE\\My Notes\\countries_out.csv')"
   ]
  },
  {
   "cell_type": "code",
   "execution_count": 2,
   "id": "ef5e50af-e036-40e5-986f-f380d6865ffb",
   "metadata": {},
   "outputs": [],
   "source": [
    "# install this first if you are using jupyter desktop which is offline\n",
    "#pip install openpyxl"
   ]
  },
  {
   "cell_type": "code",
   "execution_count": 7,
   "id": "efe28c3b-ae8a-4cab-92f9-33f4ddb24e6c",
   "metadata": {},
   "outputs": [],
   "source": [
    "# Change this to be the directory and filename of your choice\n",
    "\n",
    "countries_out.to_excel(r'C:\\Users\\ADMIN\\Desktop\\MY COURSES\\PYTHON KNOWLEDGE\\My Notes\\countries_out.xlsx')"
   ]
  }
 ],
 "metadata": {
  "kernelspec": {
   "display_name": "Python 3 (ipykernel)",
   "language": "python",
   "name": "python3"
  },
  "language_info": {
   "codemirror_mode": {
    "name": "ipython",
    "version": 3
   },
   "file_extension": ".py",
   "mimetype": "text/x-python",
   "name": "python",
   "nbconvert_exporter": "python",
   "pygments_lexer": "ipython3",
   "version": "3.8.18"
  }
 },
 "nbformat": 4,
 "nbformat_minor": 5
}
