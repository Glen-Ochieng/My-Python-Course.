{
 "cells": [
  {
   "cell_type": "markdown",
   "id": "c2d61ab0-e251-4504-8d7d-33a2ea62f833",
   "metadata": {},
   "source": [
    "As discovered aready strings have to be enclosed with quotation marks either single,double or even tripple. "
   ]
  },
  {
   "cell_type": "code",
   "execution_count": 2,
   "id": "28512e5b-b9d5-441d-9570-649647e849db",
   "metadata": {},
   "outputs": [
    {
     "data": {
      "text/plain": [
       "str"
      ]
     },
     "execution_count": 2,
     "metadata": {},
     "output_type": "execute_result"
    }
   ],
   "source": [
    "# Actually anything enclosed in quotation marks is considered a string.\n",
    "type(\"33\")"
   ]
  },
  {
   "cell_type": "code",
   "execution_count": 4,
   "id": "0305c6cd-2b44-48b1-b25d-a3057c6aa95b",
   "metadata": {},
   "outputs": [
    {
     "ename": "SyntaxError",
     "evalue": "invalid syntax (1970556921.py, line 4)",
     "output_type": "error",
     "traceback": [
      "\u001b[1;36m  Cell \u001b[1;32mIn[4], line 4\u001b[1;36m\u001b[0m\n\u001b[1;33m    'This won't work'\u001b[0m\n\u001b[1;37m              ^\u001b[0m\n\u001b[1;31mSyntaxError\u001b[0m\u001b[1;31m:\u001b[0m invalid syntax\n"
     ]
    }
   ],
   "source": [
    "# To overcome the problem of quotation marks due to shortforms such as don't, won't, can't etc then use double qoutation marks \n",
    "# at the begginning and end\n",
    "\n",
    "'This won't work'"
   ]
  },
  {
   "cell_type": "code",
   "execution_count": 6,
   "id": "44ba0187-73a6-4d4a-898a-767022e8825c",
   "metadata": {},
   "outputs": [
    {
     "data": {
      "text/plain": [
       "\"But this won't won't work.\""
      ]
     },
     "execution_count": 6,
     "metadata": {},
     "output_type": "execute_result"
    }
   ],
   "source": [
    "\"But this won't won't work.\""
   ]
  },
  {
   "cell_type": "code",
   "execution_count": 7,
   "id": "28f55565-bf33-4a77-babb-76203f00f007",
   "metadata": {},
   "outputs": [
    {
     "data": {
      "text/plain": [
       "'The student said,\"Learning Python is fun\"'"
      ]
     },
     "execution_count": 7,
     "metadata": {},
     "output_type": "execute_result"
    }
   ],
   "source": [
    "# To solve the opposite problem where by we have double qoutation marks inside then we enclose the whole thing \n",
    "# using single quotation  marks.\n",
    "\n",
    "'The student said,\"Learning Python is fun\"'\n"
   ]
  },
  {
   "cell_type": "code",
   "execution_count": 12,
   "id": "65d6802a-0e9e-4827-885d-59b36dc85295",
   "metadata": {},
   "outputs": [],
   "source": [
    "# Another way to overcome this quotation dilemma is to introduce an escape character \\ (backward slash). \n",
    "# What the escape character does is it differentiates the apostrophe from the quotatiion marks.\n",
    "# Syntax: Place the backward slash before the apostrophe."
   ]
  },
  {
   "cell_type": "code",
   "execution_count": 15,
   "id": "6278ce86-0964-4e24-98bd-d338dfa48231",
   "metadata": {},
   "outputs": [
    {
     "data": {
      "text/plain": [
       "\"This isn't what I was expecting \""
      ]
     },
     "execution_count": 15,
     "metadata": {},
     "output_type": "execute_result"
    }
   ],
   "source": [
    "'This isn\\'t what I was expecting '"
   ]
  },
  {
   "cell_type": "code",
   "execution_count": 17,
   "id": "9d7c4a17-e8f6-4ad9-a6a3-bed431557379",
   "metadata": {},
   "outputs": [
    {
     "ename": "SyntaxError",
     "evalue": "EOL while scanning string literal (2651080566.py, line 3)",
     "output_type": "error",
     "traceback": [
      "\u001b[1;36m  Cell \u001b[1;32mIn[17], line 3\u001b[1;36m\u001b[0m\n\u001b[1;33m    print(\"This is to appear\u001b[0m\n\u001b[1;37m                             ^\u001b[0m\n\u001b[1;31mSyntaxError\u001b[0m\u001b[1;31m:\u001b[0m EOL while scanning string literal\n"
     ]
    }
   ],
   "source": [
    "# Escape characters can also be used to join two strings written across two different lines\n",
    "\n",
    "print(\"This is to appear \n",
    "in two lines\")"
   ]
  },
  {
   "cell_type": "code",
   "execution_count": 21,
   "id": "8ff6bd46-9e96-4420-abfa-83136d37e3e9",
   "metadata": {},
   "outputs": [
    {
     "name": "stdout",
     "output_type": "stream",
     "text": [
      "This shouldn't appear across two lines\n"
     ]
    }
   ],
   "source": [
    "print(\"This shouldn't appear\\\n",
    " across two lines\")"
   ]
  },
  {
   "cell_type": "code",
   "execution_count": 29,
   "id": "e1b4409a-7f7c-447f-ad7c-f56e79fd7549",
   "metadata": {},
   "outputs": [
    {
     "name": "stdout",
     "output_type": "stream",
     "text": [
      "This should appear \n",
      " across two lines\n",
      "This should appear \n",
      "across two lines\n"
     ]
    }
   ],
   "source": [
    "# It can also seperate one line of code into two lines but the syntax changes to \\n where n stands for new line\n",
    "\n",
    "print(\"This should appear \\n across two lines\")\n",
    "\n",
    "# However, to remove the white space in the second line; do not include a space between the escape operator and the next string\n",
    "print(\"This should appear \\nacross two lines\")"
   ]
  },
  {
   "cell_type": "markdown",
   "id": "1241803d-268d-467e-8310-c5916dee851e",
   "metadata": {},
   "source": [
    "#### More escape sequences"
   ]
  },
  {
   "cell_type": "code",
   "execution_count": 37,
   "id": "f06d9531-fb6c-498e-9a57-5bd771177b73",
   "metadata": {},
   "outputs": [
    {
     "name": "stdout",
     "output_type": "stream",
     "text": [
      "This will be \t spaced out\n"
     ]
    }
   ],
   "source": [
    "# There is also \\t where t stands for Tab thus a large white space between the strings \n",
    "\n",
    "print(\"This will be\\t spaced out\")"
   ]
  },
  {
   "cell_type": "code",
   "execution_count": 40,
   "id": "7a54677e-95e8-4fe6-bb50-475edd2b4162",
   "metadata": {},
   "outputs": [
    {
     "name": "stdout",
     "output_type": "stream",
     "text": [
      "This will b spaced out\n"
     ]
    }
   ],
   "source": [
    "# There is also \\b with deletes the letter or white space of the string before. Here b stands for backspace.\\\n",
    "print(\"This will be\\b spaced out\")"
   ]
  },
  {
   "cell_type": "code",
   "execution_count": 42,
   "id": "683daac4-ef2a-4553-96a7-35713e04c076",
   "metadata": {},
   "outputs": [
    {
     "name": "stdout",
     "output_type": "stream",
     "text": [
      "This will be \\ spaced out\n"
     ]
    }
   ],
   "source": [
    "# To insert a backslash then use two  escape characters (\\\\)\n",
    "print(\"This will be \\\\ spaced out\")"
   ]
  },
  {
   "cell_type": "markdown",
   "id": "7b502789-50b0-46d4-b936-959fc64251ae",
   "metadata": {},
   "source": [
    "### String indexing\n",
    "\n",
    "String indexing allows you to acess a particular character in a string.\n",
    "\n",
    "Syntax\n",
    "\n",
    "string[the number of that character starting from left to right - 1 as the first character is indexed 0]"
   ]
  },
  {
   "cell_type": "code",
   "execution_count": 2,
   "id": "d55fd09d-de14-4121-86eb-034673222c2b",
   "metadata": {},
   "outputs": [],
   "source": [
    "x=\"This is a string\""
   ]
  },
  {
   "cell_type": "code",
   "execution_count": 50,
   "id": "334a669b-9f6c-4014-b2a4-3c54f9173b48",
   "metadata": {},
   "outputs": [
    {
     "data": {
      "text/plain": [
       "'T'"
      ]
     },
     "execution_count": 50,
     "metadata": {},
     "output_type": "execute_result"
    }
   ],
   "source": [
    "x[0]\n"
   ]
  },
  {
   "cell_type": "code",
   "execution_count": 53,
   "id": "81c81496-843a-4d41-9491-83e865fec0b7",
   "metadata": {},
   "outputs": [
    {
     "data": {
      "text/plain": [
       "'i'"
      ]
     },
     "execution_count": 53,
     "metadata": {},
     "output_type": "execute_result"
    }
   ],
   "source": [
    "# Thus for the third character we would use index 2\n",
    "x[2]"
   ]
  },
  {
   "cell_type": "markdown",
   "id": "e111817f-7b34-4098-9f63-4d2fc993490a",
   "metadata": {},
   "source": [
    "### String slicing  \n",
    "\n",
    "This is basically extracting a set of characters from a string variable.\n",
    "\n",
    "*Syntax*\n",
    "\n",
    "string[start:stop:step]\n",
    "\n",
    "where:\n",
    "* start is the starting character index.\n",
    "* stop is the last character index. However, this exclude that last string, thus, use the next character over from where you actually want to stop at.\n",
    "* step indicates how many steps to skip between start ans stop. By default, this is 1."
   ]
  },
  {
   "cell_type": "code",
   "execution_count": 58,
   "id": "17bf7855-4a44-46d6-a4af-0ea787ac462d",
   "metadata": {},
   "outputs": [
    {
     "data": {
      "text/plain": [
       "'This'"
      ]
     },
     "execution_count": 58,
     "metadata": {},
     "output_type": "execute_result"
    }
   ],
   "source": [
    "x[0:4:1]# NB, s is actually the 3-rd index but since it would have been excluded that's why we go to 4 as the stop index"
   ]
  },
  {
   "cell_type": "code",
   "execution_count": 59,
   "id": "fdc93250-03e9-4a7c-a1b5-fb89fdeefba4",
   "metadata": {},
   "outputs": [
    {
     "data": {
      "text/plain": [
       "'This'"
      ]
     },
     "execution_count": 59,
     "metadata": {},
     "output_type": "execute_result"
    }
   ],
   "source": [
    "x[0:4] # Assuming the default value of 1"
   ]
  },
  {
   "cell_type": "code",
   "execution_count": 64,
   "id": "b4c5b599-6293-4c42-beb1-3c4814b41f6e",
   "metadata": {},
   "outputs": [
    {
     "data": {
      "text/plain": [
       "'This'"
      ]
     },
     "execution_count": 64,
     "metadata": {},
     "output_type": "execute_result"
    }
   ],
   "source": [
    "# Another default is the starting index which is assumed to be 0. Thus alternatively,\n",
    "x[:4]"
   ]
  },
  {
   "cell_type": "code",
   "execution_count": 66,
   "id": "96813b2c-4a0a-40c5-9e1f-0eb791f23f40",
   "metadata": {},
   "outputs": [
    {
     "data": {
      "text/plain": [
       "'This is a string'"
      ]
     },
     "execution_count": 66,
     "metadata": {},
     "output_type": "execute_result"
    }
   ],
   "source": [
    "# To bring the entire string the leave the the start and stop blank.\n",
    "x[::1]"
   ]
  },
  {
   "cell_type": "code",
   "execution_count": 67,
   "id": "31aecb78-e963-4bfb-b63b-816c571595ab",
   "metadata": {},
   "outputs": [
    {
     "data": {
      "text/plain": [
       "' is'"
      ]
     },
     "execution_count": 67,
     "metadata": {},
     "output_type": "execute_result"
    }
   ],
   "source": [
    "# Extracting is \n",
    "x[4:7]"
   ]
  },
  {
   "cell_type": "code",
   "execution_count": 69,
   "id": "372dede4-2e58-4809-9cef-fd288fb8b145",
   "metadata": {},
   "outputs": [
    {
     "data": {
      "text/plain": [
       "'Ti sasrn'"
      ]
     },
     "execution_count": 69,
     "metadata": {},
     "output_type": "execute_result"
    }
   ],
   "source": [
    "# To extract every other letter\n",
    "x[::2]"
   ]
  },
  {
   "cell_type": "code",
   "execution_count": 72,
   "id": "be83d8c9-d627-4ca7-a160-b05d3d9340c4",
   "metadata": {},
   "outputs": [
    {
     "data": {
      "text/plain": [
       "'g'"
      ]
     },
     "execution_count": 72,
     "metadata": {},
     "output_type": "execute_result"
    }
   ],
   "source": [
    "# You  can also start inedxing from right to left. Just include a negative sign before the digit. \n",
    "# This time around, you start from -1 as the last index moving upward\n",
    "x[-1]"
   ]
  },
  {
   "cell_type": "code",
   "execution_count": 74,
   "id": "642d7013-6d76-4bb8-956e-53a423089622",
   "metadata": {},
   "outputs": [
    {
     "data": {
      "text/plain": [
       "'gnirts a si sihT'"
      ]
     },
     "execution_count": 74,
     "metadata": {},
     "output_type": "execute_result"
    }
   ],
   "source": [
    "# Something cool you can do with this reverse ordering is you can re-write you string from right to left \n",
    "# where the last becomes the first and the last becomes the first.\n",
    "\n",
    "x[::-1]"
   ]
  },
  {
   "cell_type": "code",
   "execution_count": 88,
   "id": "b3a77042-29d9-4d2d-b074-d3a551fb74bf",
   "metadata": {},
   "outputs": [],
   "source": [
    "y=\"My name is John\""
   ]
  },
  {
   "cell_type": "code",
   "execution_count": 92,
   "id": "13e268d8-78cb-46c6-aa1c-6443983d0b97",
   "metadata": {},
   "outputs": [
    {
     "data": {
      "text/plain": [
       "'John'"
      ]
     },
     "execution_count": 92,
     "metadata": {},
     "output_type": "execute_result"
    }
   ],
   "source": [
    "y[-4::]"
   ]
  },
  {
   "cell_type": "markdown",
   "id": "10de8714-7700-4024-a665-2dce6a110907",
   "metadata": {},
   "source": [
    "### String Methods"
   ]
  },
  {
   "cell_type": "code",
   "execution_count": 15,
   "id": "79124fe2-8ad7-4cbf-b56d-0f8bd04c01ee",
   "metadata": {},
   "outputs": [],
   "source": [
    "# To go over just a few. The other methods will be called upon when needed.\n"
   ]
  },
  {
   "cell_type": "code",
   "execution_count": 17,
   "id": "2b4d32e8-604a-49c5-91ad-694d68c1c303",
   "metadata": {},
   "outputs": [
    {
     "data": {
      "text/plain": [
       "'THIS IS A STRING'"
      ]
     },
     "execution_count": 17,
     "metadata": {},
     "output_type": "execute_result"
    }
   ],
   "source": [
    "# 1. upper()\n",
    "\n",
    "x.upper()"
   ]
  },
  {
   "cell_type": "code",
   "execution_count": 7,
   "id": "1e01ed78-02fb-4c44-9adc-551468fec5c3",
   "metadata": {},
   "outputs": [
    {
     "data": {
      "text/plain": [
       "'THIS IS A STRING'"
      ]
     },
     "execution_count": 7,
     "metadata": {},
     "output_type": "execute_result"
    }
   ],
   "source": [
    "# However this isn't stored, if we wanted to store this change we would have to reassign this output to the variable\n",
    "# or assign this output to a new variable.\n",
    "x=x.upper()\n",
    "x"
   ]
  },
  {
   "cell_type": "code",
   "execution_count": 28,
   "id": "6121cf6c-7ebe-46e4-bfe8-107211631fa3",
   "metadata": {},
   "outputs": [],
   "source": [
    "# 2. find()\n",
    "\n",
    "# Finding a text in a string. Sometimes, you may wish to search if a particular word or phrase is in a string. \n",
    "\n",
    "# To do this we can use the find method. It will provide you with a yes or no type of answer.\n",
    "\n",
    "#  Syntax\n",
    "\n",
    "# find(text,start,stop)\n",
    "\n",
    "#  Results: 0= Match -1= Is not a match\n",
    "\n",
    "# N/B- The text is case senstive. The start and stop arguements are optional, if not included the entire string will be searched."
   ]
  },
  {
   "cell_type": "code",
   "execution_count": 20,
   "id": "daac8c2c-510f-42e1-a4b8-bd99cb4b5076",
   "metadata": {},
   "outputs": [],
   "source": [
    "y='Red Flag'"
   ]
  },
  {
   "cell_type": "code",
   "execution_count": 11,
   "id": "858283c2-981f-49dd-bf29-459dc514b6be",
   "metadata": {},
   "outputs": [
    {
     "data": {
      "text/plain": [
       "0"
      ]
     },
     "execution_count": 11,
     "metadata": {},
     "output_type": "execute_result"
    }
   ],
   "source": [
    "y.find('Red')"
   ]
  },
  {
   "cell_type": "code",
   "execution_count": 13,
   "id": "6e9b671f-dc8f-4de4-9f81-43ce8981353f",
   "metadata": {},
   "outputs": [
    {
     "data": {
      "text/plain": [
       "-1"
      ]
     },
     "execution_count": 13,
     "metadata": {},
     "output_type": "execute_result"
    }
   ],
   "source": [
    "# if we use the wrong case or type it not exactly as entered it will return -1\n",
    "y.find(\"RED\")"
   ]
  },
  {
   "cell_type": "code",
   "execution_count": 14,
   "id": "c276230f-4007-479e-8920-89532b02c157",
   "metadata": {},
   "outputs": [
    {
     "data": {
      "text/plain": [
       "0"
      ]
     },
     "execution_count": 14,
     "metadata": {},
     "output_type": "execute_result"
    }
   ],
   "source": [
    "# Let's try ot a phrase\n",
    "y.find(\"Red Flag\")"
   ]
  },
  {
   "cell_type": "code",
   "execution_count": 30,
   "id": "1457129c-971c-48a9-bc7d-d7262b25eeb5",
   "metadata": {},
   "outputs": [],
   "source": [
    "# 3. replace()\n",
    "\n",
    "# This method can replace a word or phrase with another one in a given string.\n",
    "\n",
    "#  Syntax\n",
    "\n",
    "# replace(oldtext,newtext,count)\n",
    "\n",
    "#     count= number of occurences of the old text you wish to be replaced. By default it's all the occurences of the old text \n",
    "\n",
    "#            are replaced."
   ]
  },
  {
   "cell_type": "code",
   "execution_count": 32,
   "id": "0e1ff8ab-8509-4161-93f7-1d96c4a47084",
   "metadata": {},
   "outputs": [
    {
     "data": {
      "text/plain": [
       "'Red Flag'"
      ]
     },
     "execution_count": 32,
     "metadata": {},
     "output_type": "execute_result"
    }
   ],
   "source": [
    "y"
   ]
  },
  {
   "cell_type": "code",
   "execution_count": 34,
   "id": "be71b4ba-bd14-48ed-b428-97f23dd704b8",
   "metadata": {},
   "outputs": [
    {
     "data": {
      "text/plain": [
       "'Green Flag'"
      ]
     },
     "execution_count": 34,
     "metadata": {},
     "output_type": "execute_result"
    }
   ],
   "source": [
    "y.replace('Red','Green')"
   ]
  },
  {
   "cell_type": "code",
   "execution_count": 36,
   "id": "26f44ffc-3fa9-45df-9321-7562d99ca7e6",
   "metadata": {},
   "outputs": [
    {
     "data": {
      "text/plain": [
       "'Red Flag'"
      ]
     },
     "execution_count": 36,
     "metadata": {},
     "output_type": "execute_result"
    }
   ],
   "source": [
    "# Again note that the original variable has not been replaced. To do so we would need to reassign the variable.\n",
    "y"
   ]
  },
  {
   "cell_type": "code",
   "execution_count": 39,
   "id": "6b5fede6-fc67-49ba-813b-da4aeef3bfa7",
   "metadata": {},
   "outputs": [
    {
     "data": {
      "text/plain": [
       "'Green Flag'"
      ]
     },
     "execution_count": 39,
     "metadata": {},
     "output_type": "execute_result"
    }
   ],
   "source": [
    "y=y.replace('Red','Green')\n",
    "y"
   ]
  },
  {
   "cell_type": "code",
   "execution_count": null,
   "id": "4b935a65-4843-4442-a13d-7d5dc4e138e7",
   "metadata": {},
   "outputs": [],
   "source": [
    "#  4. split()\n",
    "\n",
    "# This is used to split a string into a list, by default the string will be separated by each whitespace character."
   ]
  },
  {
   "cell_type": "code",
   "execution_count": 41,
   "id": "d064f12a-e638-4464-9bf0-47676f0ff361",
   "metadata": {},
   "outputs": [
    {
     "data": {
      "text/plain": [
       "'THIS IS A STRING'"
      ]
     },
     "execution_count": 41,
     "metadata": {},
     "output_type": "execute_result"
    }
   ],
   "source": [
    "x"
   ]
  },
  {
   "cell_type": "code",
   "execution_count": 43,
   "id": "a46726e2-c51a-4382-9c1e-29fc3bb9559e",
   "metadata": {},
   "outputs": [
    {
     "data": {
      "text/plain": [
       "['THIS', 'IS', 'A', 'STRING']"
      ]
     },
     "execution_count": 43,
     "metadata": {},
     "output_type": "execute_result"
    }
   ],
   "source": [
    "x.split()"
   ]
  },
  {
   "cell_type": "code",
   "execution_count": 44,
   "id": "1a18ab53-b671-49be-874e-715420fdd19b",
   "metadata": {},
   "outputs": [],
   "source": [
    "# As mentioned above the separator is white space by default. However, if we had a different separato/delimiter e.g commas\n",
    "# we would insert it quotation marks inside the brackets i.e.\n",
    "# x.split(',')"
   ]
  },
  {
   "cell_type": "code",
   "execution_count": 47,
   "id": "2ea47bf5-a200-4dbf-b9d7-4fc0d2d5a30f",
   "metadata": {},
   "outputs": [],
   "source": [
    "x='This, is a , string '"
   ]
  },
  {
   "cell_type": "code",
   "execution_count": 49,
   "id": "5a9a1132-8c2f-4984-ad7d-68ab050ad2ba",
   "metadata": {},
   "outputs": [
    {
     "data": {
      "text/plain": [
       "['This', ' is a ', ' string ']"
      ]
     },
     "execution_count": 49,
     "metadata": {},
     "output_type": "execute_result"
    }
   ],
   "source": [
    "x.split(',')"
   ]
  },
  {
   "cell_type": "markdown",
   "id": "b1a6da08-95b2-4869-bf79-f1bf6a818cdc",
   "metadata": {},
   "source": [
    "Unlike other languages in Python, string elements cannot be changed.\n",
    "\n",
    "For example\n",
    "    x='Hello'\n",
    "    \n",
    "You cannot change the H to be P    "
   ]
  },
  {
   "cell_type": "code",
   "execution_count": 51,
   "id": "249cdc8e-d096-40cd-a2a2-066721d84ba9",
   "metadata": {},
   "outputs": [
    {
     "data": {
      "text/plain": [
       "'H'"
      ]
     },
     "execution_count": 51,
     "metadata": {},
     "output_type": "execute_result"
    }
   ],
   "source": [
    "x=\"Hello\"\n",
    "x[0]"
   ]
  },
  {
   "cell_type": "code",
   "execution_count": 53,
   "id": "549ee12c-ca35-40a9-afe2-6a83d2e9028c",
   "metadata": {},
   "outputs": [
    {
     "ename": "TypeError",
     "evalue": "'str' object does not support item assignment",
     "output_type": "error",
     "traceback": [
      "\u001b[1;31m---------------------------------------------------------------------------\u001b[0m",
      "\u001b[1;31mTypeError\u001b[0m                                 Traceback (most recent call last)",
      "Cell \u001b[1;32mIn[53], line 1\u001b[0m\n\u001b[1;32m----> 1\u001b[0m \u001b[43mx\u001b[49m\u001b[43m[\u001b[49m\u001b[38;5;241;43m0\u001b[39;49m\u001b[43m]\u001b[49m\u001b[38;5;241m=\u001b[39m\u001b[38;5;124m'\u001b[39m\u001b[38;5;124mP\u001b[39m\u001b[38;5;124m'\u001b[39m\n",
      "\u001b[1;31mTypeError\u001b[0m: 'str' object does not support item assignment"
     ]
    }
   ],
   "source": [
    "x[0]='P'"
   ]
  },
  {
   "cell_type": "markdown",
   "id": "70ab81a9-8565-44e3-aff7-ed68a3e06f00",
   "metadata": {},
   "source": [
    " ### String concatenation\n",
    "\n",
    " This can be done using the plus operator."
   ]
  },
  {
   "cell_type": "code",
   "execution_count": 55,
   "id": "6acf0948-a08a-49fe-9249-47e547904982",
   "metadata": {},
   "outputs": [
    {
     "data": {
      "text/plain": [
       "'This stringthat string'"
      ]
     },
     "execution_count": 55,
     "metadata": {},
     "output_type": "execute_result"
    }
   ],
   "source": [
    "'This string' + 'that string'"
   ]
  },
  {
   "cell_type": "code",
   "execution_count": 57,
   "id": "2bdc087f-183f-492f-9ece-0a3fc15af519",
   "metadata": {},
   "outputs": [],
   "source": [
    "# As you have seen you probably should add a whhite space before the starting character of the second string. "
   ]
  },
  {
   "cell_type": "code",
   "execution_count": 59,
   "id": "c7356539-6a12-4e5c-ab8e-1c67b15a112e",
   "metadata": {},
   "outputs": [
    {
     "data": {
      "text/plain": [
       "'This string that string'"
      ]
     },
     "execution_count": 59,
     "metadata": {},
     "output_type": "execute_result"
    }
   ],
   "source": [
    "'This string' + ' that string'"
   ]
  },
  {
   "cell_type": "code",
   "execution_count": 62,
   "id": "adb858b5-b4a9-4378-b769-5a2b9ab68afb",
   "metadata": {},
   "outputs": [
    {
     "data": {
      "text/plain": [
       "'This string that string'"
      ]
     },
     "execution_count": 62,
     "metadata": {},
     "output_type": "execute_result"
    }
   ],
   "source": [
    "# Sticking to the same matter, we could add a white space as another string in between the two original strings.\n",
    "# Remember to space out those middle qoutation marks. Don't write '' but rather ' '\n",
    "'This string' + ' ' + 'that string'"
   ]
  },
  {
   "cell_type": "code",
   "execution_count": 64,
   "id": "179cb851-d8b2-45be-97ca-c48c9d2c7bef",
   "metadata": {},
   "outputs": [],
   "source": [
    "x='My name is'\n",
    "y='Joe'"
   ]
  },
  {
   "cell_type": "code",
   "execution_count": 66,
   "id": "3688f637-229a-4bbf-b978-70a4a6a03b2e",
   "metadata": {},
   "outputs": [
    {
     "data": {
      "text/plain": [
       "'My name is Joe'"
      ]
     },
     "execution_count": 66,
     "metadata": {},
     "output_type": "execute_result"
    }
   ],
   "source": [
    "x+ ' ' + y"
   ]
  },
  {
   "cell_type": "code",
   "execution_count": 69,
   "id": "ce8fc88d-51d5-4d12-87c7-634efbabda2c",
   "metadata": {},
   "outputs": [
    {
     "data": {
      "text/plain": [
       "'My name is Joe'"
      ]
     },
     "execution_count": 69,
     "metadata": {},
     "output_type": "execute_result"
    }
   ],
   "source": [
    "z= x+ ' ' + y\n",
    "z"
   ]
  },
  {
   "cell_type": "markdown",
   "id": "2a915997-366a-4f31-9d59-0e9739bde025",
   "metadata": {},
   "source": [
    "### String formatting\n",
    "\n",
    "You can use the f string method to embed expressions inside a string.\n",
    "\n",
    "*Syntax*\n",
    "\n",
    "f 'new_text {the_existing_string}'\n",
    "\n",
    "###### *Use curly brackets*"
   ]
  },
  {
   "cell_type": "code",
   "execution_count": 71,
   "id": "4cb222b0-7563-41fa-8f1f-aed8c6be5206",
   "metadata": {},
   "outputs": [
    {
     "data": {
      "text/plain": [
       "'Joe'"
      ]
     },
     "execution_count": 71,
     "metadata": {},
     "output_type": "execute_result"
    }
   ],
   "source": [
    "y"
   ]
  },
  {
   "cell_type": "code",
   "execution_count": 72,
   "id": "27a458c7-b69f-4795-a744-3397487ed296",
   "metadata": {},
   "outputs": [
    {
     "data": {
      "text/plain": [
       "'Hi, my name is Joe'"
      ]
     },
     "execution_count": 72,
     "metadata": {},
     "output_type": "execute_result"
    }
   ],
   "source": [
    "f'Hi, my name is {y}'"
   ]
  },
  {
   "cell_type": "code",
   "execution_count": 74,
   "id": "9f40532b-1942-4e47-9478-0257410c678d",
   "metadata": {},
   "outputs": [
    {
     "data": {
      "text/plain": [
       "'Hi, my name is Joe, Joe, Joe'"
      ]
     },
     "execution_count": 74,
     "metadata": {},
     "output_type": "execute_result"
    }
   ],
   "source": [
    "# It can be chained\n",
    "\n",
    "f'Hi, my name is {y}, {y}, {y}'"
   ]
  }
 ],
 "metadata": {
  "kernelspec": {
   "display_name": "Python 3 (ipykernel)",
   "language": "python",
   "name": "python3"
  },
  "language_info": {
   "codemirror_mode": {
    "name": "ipython",
    "version": 3
   },
   "file_extension": ".py",
   "mimetype": "text/x-python",
   "name": "python",
   "nbconvert_exporter": "python",
   "pygments_lexer": "ipython3",
   "version": "3.8.18"
  }
 },
 "nbformat": 4,
 "nbformat_minor": 5
}
