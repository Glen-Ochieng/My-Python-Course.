{
 "cells": [
  {
   "cell_type": "code",
   "execution_count": 2,
   "id": "5df38c81-613b-48d5-9398-0a3c9caaeecc",
   "metadata": {},
   "outputs": [
    {
     "data": {
      "text/plain": [
       "int"
      ]
     },
     "execution_count": 2,
     "metadata": {},
     "output_type": "execute_result"
    }
   ],
   "source": [
    "# to check the datatype of an input we use the command type and insert the object inside parentheses.\n",
    "#Equivalent to class in R. \n",
    "type(1)\n"
   ]
  },
  {
   "cell_type": "code",
   "execution_count": 5,
   "id": "a4ba69ec-6461-4a85-99bf-f42a272414d8",
   "metadata": {},
   "outputs": [
    {
     "data": {
      "text/plain": [
       "str"
      ]
     },
     "execution_count": 5,
     "metadata": {},
     "output_type": "execute_result"
    }
   ],
   "source": [
    "type('hello World') \n",
    "# do not mix the type of quotation marks in one statement. \n",
    "#Either both the opening and closing quotation marks are double or both are single. \n"
   ]
  },
  {
   "cell_type": "code",
   "execution_count": 4,
   "id": "d46eaedb-c1ff-4b76-859f-60a6b2473b38",
   "metadata": {},
   "outputs": [
    {
     "data": {
      "text/plain": [
       "'Hello'"
      ]
     },
     "execution_count": 4,
     "metadata": {},
     "output_type": "execute_result"
    }
   ],
   "source": [
    "'Hello'\n",
    "#If you type the string variable without the print the outcome will come out as 'Hello' in stead if Hello.\n",
    "#So ensure if you want the correct output you include the print command."
   ]
  },
  {
   "cell_type": "markdown",
   "id": "d29293f9-58c1-4707-8891-bf585a0b27a5",
   "metadata": {},
   "source": [
    "Commands and functions work for all data objects. Let's call them objects in short from now on. But, there are object specific functions and we can call them out using the dot notation. We call these methods.\n",
    "\n",
    "To do so, you place the dot at the end of the object and press tab.\n",
    "\n",
    "*Sometimes it takes a few presses of the Tab to get it working the first time.*"
   ]
  },
  {
   "cell_type": "code",
   "execution_count": 1,
   "id": "3f76b606-4ca0-4d3d-bb22-b05cbe206a37",
   "metadata": {},
   "outputs": [
    {
     "data": {
      "text/plain": [
       "<function str.upper()>"
      ]
     },
     "execution_count": 1,
     "metadata": {},
     "output_type": "execute_result"
    }
   ],
   "source": [
    "'hello'.upper\n"
   ]
  },
  {
   "cell_type": "code",
   "execution_count": null,
   "id": "40189a9d-329a-4581-a871-6e9e8ef8105a",
   "metadata": {},
   "outputs": [],
   "source": [
    "# However, as demonstrated above the method has to be followed by parentheses to call it into action"
   ]
  },
  {
   "cell_type": "markdown",
   "id": "5aaa50b1-9332-4783-a41e-a6f85cd0cb29",
   "metadata": {},
   "source": [
    "'hello'.upper()"
   ]
  },
  {
   "cell_type": "code",
   "execution_count": 5,
   "id": "e063a668-b246-4a0d-9c1b-f3f7c9666851",
   "metadata": {},
   "outputs": [
    {
     "data": {
      "text/plain": [
       "'Hello'"
      ]
     },
     "execution_count": 5,
     "metadata": {},
     "output_type": "execute_result"
    }
   ],
   "source": [
    "'hello'.capitalize()"
   ]
  },
  {
   "cell_type": "markdown",
   "id": "70de4247-43bc-4ed3-8949-4a665457c17b",
   "metadata": {},
   "source": [
    "If you wish to find out exactly what is what with these methods, then try out the help function.\n",
    "\n",
    "Syntax\n",
    " help(object type)\n",
    "\n"
   ]
  },
  {
   "cell_type": "markdown",
   "id": "432d2fa1-7bd6-4bc6-a053-09da75a05190",
   "metadata": {},
   "source": [
    "help(str)"
   ]
  },
  {
   "cell_type": "code",
   "execution_count": 8,
   "id": "1075909a-c0a3-4c38-baf4-0dbcec57fd42",
   "metadata": {},
   "outputs": [
    {
     "name": "stdout",
     "output_type": "stream",
     "text": [
      "Help on method_descriptor:\n",
      "\n",
      "upper(self, /)\n",
      "    Return a copy of the string converted to uppercase.\n",
      "\n"
     ]
    }
   ],
   "source": [
    "# You can also be specific with your help searches for a method if you know its object type.\n",
    "help(str.upper)"
   ]
  }
 ],
 "metadata": {
  "kernelspec": {
   "display_name": "Python 3 (ipykernel)",
   "language": "python",
   "name": "python3"
  },
  "language_info": {
   "codemirror_mode": {
    "name": "ipython",
    "version": 3
   },
   "file_extension": ".py",
   "mimetype": "text/x-python",
   "name": "python",
   "nbconvert_exporter": "python",
   "pygments_lexer": "ipython3",
   "version": "3.8.18"
  }
 },
 "nbformat": 4,
 "nbformat_minor": 5
}
