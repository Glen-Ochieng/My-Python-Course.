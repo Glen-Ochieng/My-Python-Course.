{
 "cells": [
  {
   "cell_type": "code",
   "execution_count": 3,
   "id": "0f8cb6c3-8e33-4e9d-a9db-a0c71a7e482f",
   "metadata": {},
   "outputs": [
    {
     "data": {
      "text/plain": [
       "8"
      ]
     },
     "execution_count": 3,
     "metadata": {},
     "output_type": "execute_result"
    }
   ],
   "source": [
    "2**3"
   ]
  },
  {
   "cell_type": "markdown",
   "id": "a90d0f39-51a8-4951-92af-83bd26efe14c",
   "metadata": {},
   "source": [
    "<b> A function to perform exponentiation in python is power abbreviated as pow.\n",
    "\n",
    "*Syntax*\n",
    "\n",
    "pow(base,exponent)\n",
    "\n",
    ">pow(2,3) = 8"
   ]
  },
  {
   "cell_type": "markdown",
   "id": "28b98262-7e7a-42db-8177-d6808040afa8",
   "metadata": {},
   "source": [
    "**<u>sum**\n",
    "\n",
    "Sums integer elements in an object."
   ]
  },
  {
   "cell_type": "code",
   "execution_count": 6,
   "id": "b29e9af8-e9a5-4327-ac7d-ce29f4fd697e",
   "metadata": {},
   "outputs": [],
   "source": [
    "list_num=[3,7,10]\n",
    "set_num={3,7,10}\n",
    "tup_num=(3,7,10)"
   ]
  },
  {
   "cell_type": "code",
   "execution_count": 7,
   "id": "97c99093-6012-46fb-ae35-6427f82e0729",
   "metadata": {},
   "outputs": [
    {
     "data": {
      "text/plain": [
       "20"
      ]
     },
     "execution_count": 7,
     "metadata": {},
     "output_type": "execute_result"
    }
   ],
   "source": [
    "sum(list_num)"
   ]
  },
  {
   "cell_type": "markdown",
   "id": "d1b229ac-7e41-4fb5-8684-71a7a16fedf1",
   "metadata": {},
   "source": [
    "The same result is expected for the other data types."
   ]
  },
  {
   "cell_type": "markdown",
   "id": "03a6159b-001c-4f81-ab40-72a8f3f5c6df",
   "metadata": {},
   "source": [
    "**<u>max and min**"
   ]
  },
  {
   "cell_type": "code",
   "execution_count": 9,
   "id": "63925289-267e-4964-af5f-443dfe46f7e1",
   "metadata": {},
   "outputs": [
    {
     "data": {
      "text/plain": [
       "10"
      ]
     },
     "execution_count": 9,
     "metadata": {},
     "output_type": "execute_result"
    }
   ],
   "source": [
    "max(tup_num)"
   ]
  },
  {
   "cell_type": "code",
   "execution_count": 10,
   "id": "b77e7403-de13-4985-8fbc-b5715365ded7",
   "metadata": {},
   "outputs": [
    {
     "data": {
      "text/plain": [
       "3"
      ]
     },
     "execution_count": 10,
     "metadata": {},
     "output_type": "execute_result"
    }
   ],
   "source": [
    "min(set_num)"
   ]
  },
  {
   "cell_type": "code",
   "execution_count": 14,
   "id": "d9c1c63e-c48c-43f6-afbc-9b6f6c9497e1",
   "metadata": {},
   "outputs": [
    {
     "data": {
      "text/plain": [
       "'z'"
      ]
     },
     "execution_count": 14,
     "metadata": {},
     "output_type": "execute_result"
    }
   ],
   "source": [
    "max('a','b','z')"
   ]
  },
  {
   "cell_type": "code",
   "execution_count": 16,
   "id": "4f56682c-768e-4c97-a7fa-ac9a2fbfaa14",
   "metadata": {},
   "outputs": [
    {
     "data": {
      "text/plain": [
       "'e'"
      ]
     },
     "execution_count": 16,
     "metadata": {},
     "output_type": "execute_result"
    }
   ],
   "source": [
    "min('hello')"
   ]
  },
  {
   "cell_type": "markdown",
   "id": "9b95fbbd-6f3e-4c27-825f-0198c0905e17",
   "metadata": {},
   "source": [
    "However if you mix upper and lower case letters, the upper case letters will be regarded as the smaller. Thus, be careful when applying the min and max functions to strings.\n",
    "\n",
    ">min('Hello')='H'"
   ]
  },
  {
   "cell_type": "markdown",
   "id": "4641881e-9b7a-419b-8873-1d1850672245",
   "metadata": {},
   "source": [
    "### THERE ISN'T A BUILT-IN FUNCTION IN PYTHON TO FIND  THE AVERAGE! \n",
    "\n",
    "You have to use numerical modules to find the mean."
   ]
  },
  {
   "cell_type": "markdown",
   "id": "f1bcd101-556d-47c5-986d-4741c654b650",
   "metadata": {},
   "source": [
    "**<u> len**\n",
    "\n",
    "This stands for the length. It counts the number of elements in an object."
   ]
  },
  {
   "cell_type": "code",
   "execution_count": 19,
   "id": "88964080-de8b-4874-8696-066c7808028f",
   "metadata": {},
   "outputs": [
    {
     "data": {
      "text/plain": [
       "3"
      ]
     },
     "execution_count": 19,
     "metadata": {},
     "output_type": "execute_result"
    }
   ],
   "source": [
    "len(tup_num)"
   ]
  },
  {
   "cell_type": "code",
   "execution_count": 20,
   "id": "ee0c9019-40cc-4da0-9e85-93dd8065e14f",
   "metadata": {},
   "outputs": [
    {
     "data": {
      "text/plain": [
       "11"
      ]
     },
     "execution_count": 20,
     "metadata": {},
     "output_type": "execute_result"
    }
   ],
   "source": [
    "len('Hello world')"
   ]
  },
  {
   "cell_type": "markdown",
   "id": "d00bee7b-1e6c-4f77-ab9e-aada613e5df8",
   "metadata": {},
   "source": [
    "**The white spaces between characters are also counted**"
   ]
  },
  {
   "cell_type": "markdown",
   "id": "c687e51f-e4f5-499a-980f-62a7b0554e3c",
   "metadata": {},
   "source": [
    "**<u> round**\n",
    "\n",
    "Rounds off a number to the specified number of decimal places.\n",
    "\n",
    ">round(number,dp)"
   ]
  },
  {
   "cell_type": "code",
   "execution_count": 21,
   "id": "a308fde7-4e76-495f-a01c-b0d2dfa9374a",
   "metadata": {},
   "outputs": [],
   "source": [
    "x=4.4662"
   ]
  },
  {
   "cell_type": "code",
   "execution_count": 22,
   "id": "454183a3-5990-4763-a2b1-f6408314c8b7",
   "metadata": {},
   "outputs": [
    {
     "data": {
      "text/plain": [
       "4.47"
      ]
     },
     "execution_count": 22,
     "metadata": {},
     "output_type": "execute_result"
    }
   ],
   "source": [
    "round(x,2)"
   ]
  },
  {
   "cell_type": "markdown",
   "id": "d631c94e-65bf-46af-bf1e-a4d9e0cafba1",
   "metadata": {},
   "source": [
    "**<u>range**\n",
    "\n",
    "Creates a sequence.\n",
    "\n",
    ">range(start,stop,step)\n",
    "\n",
    "*Again remember the stop is the number next over. If i wanted 1 to 10 then stop would be 11.*"
   ]
  },
  {
   "cell_type": "code",
   "execution_count": 23,
   "id": "f21c689d-06f0-4746-a00d-5e1919ecd9b7",
   "metadata": {},
   "outputs": [
    {
     "data": {
      "text/plain": [
       "(2, 4, 6, 8, 10)"
      ]
     },
     "execution_count": 23,
     "metadata": {},
     "output_type": "execute_result"
    }
   ],
   "source": [
    "# Create a tuple of even numbers from an integer set [0-10]\n",
    "\n",
    "x=range(2,11,2)\n",
    "tuple(x)"
   ]
  },
  {
   "cell_type": "code",
   "execution_count": 24,
   "id": "22c40d29-a3dc-4712-abd9-ac5a378653fd",
   "metadata": {},
   "outputs": [
    {
     "data": {
      "text/plain": [
       "[2, 4, 6, 8, 10]"
      ]
     },
     "execution_count": 24,
     "metadata": {},
     "output_type": "execute_result"
    }
   ],
   "source": [
    "list(x)"
   ]
  },
  {
   "cell_type": "code",
   "execution_count": 25,
   "id": "296b048d-9a9a-415b-a19c-9f1b431bb1b5",
   "metadata": {},
   "outputs": [
    {
     "name": "stdout",
     "output_type": "stream",
     "text": [
      "2\n",
      "4\n",
      "6\n",
      "8\n",
      "10\n"
     ]
    }
   ],
   "source": [
    "# Printing out every element.\n",
    "\n",
    "for i in x:\n",
    "    print(i)"
   ]
  },
  {
   "cell_type": "markdown",
   "id": "1c816db6-ae3a-4f7c-8404-ba4cc20e2827",
   "metadata": {},
   "source": [
    "**<u> sorted**\n",
    "\n",
    "Sorts elements in an object in ascending order."
   ]
  },
  {
   "cell_type": "code",
   "execution_count": 27,
   "id": "ebec02d8-b6e5-458c-990f-58bcd422def3",
   "metadata": {},
   "outputs": [
    {
     "data": {
      "text/plain": [
       "[3, 7, 10]"
      ]
     },
     "execution_count": 27,
     "metadata": {},
     "output_type": "execute_result"
    }
   ],
   "source": [
    "sorted(list_num)"
   ]
  },
  {
   "cell_type": "code",
   "execution_count": 28,
   "id": "81b00595-548c-4a59-84c6-0b2b391b9fee",
   "metadata": {},
   "outputs": [
    {
     "data": {
      "text/plain": [
       "['e', 'h', 'l', 'l', 'o']"
      ]
     },
     "execution_count": 28,
     "metadata": {},
     "output_type": "execute_result"
    }
   ],
   "source": [
    "sorted('hello')"
   ]
  },
  {
   "cell_type": "markdown",
   "id": "ada2b632-d710-4949-afe3-220a971da90d",
   "metadata": {},
   "source": [
    "The letters have been arranged alphabetically."
   ]
  },
  {
   "cell_type": "code",
   "execution_count": 31,
   "id": "a345fda7-5fd6-4abe-b968-54fe1c5a9b56",
   "metadata": {},
   "outputs": [
    {
     "data": {
      "text/plain": [
       "['o', 'l', 'l', 'h', 'e']"
      ]
     },
     "execution_count": 31,
     "metadata": {},
     "output_type": "execute_result"
    }
   ],
   "source": [
    "# To get in descending order you use the reverse arguemnt. i.e set it to True.\n",
    "\n",
    "sorted('hello',reverse=True)"
   ]
  },
  {
   "cell_type": "markdown",
   "id": "ba69d7b5-9819-49e0-983d-6cfb64a21921",
   "metadata": {},
   "source": [
    "**<u> input**\n",
    "\n",
    "This basically works the same as an assignment operator(=). But, it stores everything as a string!\n",
    "\n",
    "I find this one not useful, to be honest!"
   ]
  },
  {
   "cell_type": "code",
   "execution_count": 35,
   "id": "ec3d7263-6223-48a9-aef5-dd7a652ea6ba",
   "metadata": {},
   "outputs": [
    {
     "name": "stdin",
     "output_type": "stream",
     "text": [
      " [1,2,3,4,4]\n"
     ]
    }
   ],
   "source": [
    "x=input()"
   ]
  },
  {
   "cell_type": "code",
   "execution_count": 36,
   "id": "4619c18e-47f5-435f-aaee-3a821bad5f78",
   "metadata": {},
   "outputs": [
    {
     "data": {
      "text/plain": [
       "'[1,2,3,4,4]'"
      ]
     },
     "execution_count": 36,
     "metadata": {},
     "output_type": "execute_result"
    }
   ],
   "source": [
    "x"
   ]
  },
  {
   "cell_type": "code",
   "execution_count": 37,
   "id": "e0000640-7ff6-4e82-9680-61b58299776d",
   "metadata": {},
   "outputs": [
    {
     "data": {
      "text/plain": [
       "str"
      ]
     },
     "execution_count": 37,
     "metadata": {},
     "output_type": "execute_result"
    }
   ],
   "source": [
    "type(x)"
   ]
  },
  {
   "cell_type": "code",
   "execution_count": 40,
   "id": "89d2b923-6343-4ec9-9eed-a9b950d7191b",
   "metadata": {},
   "outputs": [
    {
     "name": "stdin",
     "output_type": "stream",
     "text": [
      " 234\n"
     ]
    }
   ],
   "source": [
    "# To convert the input from string to an integer, you can use the int function.\n",
    "\n",
    "x=int(input())"
   ]
  },
  {
   "cell_type": "code",
   "execution_count": 42,
   "id": "4605117f-a1b1-4fe3-bb57-812914e68f35",
   "metadata": {},
   "outputs": [
    {
     "data": {
      "text/plain": [
       "int"
      ]
     },
     "execution_count": 42,
     "metadata": {},
     "output_type": "execute_result"
    }
   ],
   "source": [
    "type(x)"
   ]
  },
  {
   "cell_type": "markdown",
   "id": "6b1ff8d3-994d-4dc2-86f4-72836b0c619f",
   "metadata": {},
   "source": [
    "**<u>int**\n",
    "\n",
    "Converts the entry into an integer."
   ]
  },
  {
   "cell_type": "markdown",
   "id": "de9168f2-f00d-427c-b0da-1cc625ba30b5",
   "metadata": {},
   "source": [
    "**<u>float**\n",
    "\n",
    "Converts the entry into a floating number.(number which decimal places)"
   ]
  },
  {
   "cell_type": "code",
   "execution_count": 46,
   "id": "1ff74bc0-89e7-475e-af88-7d0154f32e1b",
   "metadata": {},
   "outputs": [
    {
     "data": {
      "text/plain": [
       "234.0"
      ]
     },
     "execution_count": 46,
     "metadata": {},
     "output_type": "execute_result"
    }
   ],
   "source": [
    "float(x)"
   ]
  },
  {
   "cell_type": "markdown",
   "id": "b34c42d6-1027-4e1c-a06e-0f3752227b4f",
   "metadata": {},
   "source": [
    "Just like how the functions list,tuple,set convert objects into those data types,\n",
    "\n",
    ">str() - converts objects into string objects."
   ]
  },
  {
   "cell_type": "code",
   "execution_count": 50,
   "id": "2a6f831f-a861-4e60-9b32-90f79d0bc2ed",
   "metadata": {},
   "outputs": [
    {
     "data": {
      "text/plain": [
       "'234'"
      ]
     },
     "execution_count": 50,
     "metadata": {},
     "output_type": "execute_result"
    }
   ],
   "source": [
    "str(x)"
   ]
  },
  {
   "cell_type": "markdown",
   "id": "ad600a0c-5c09-4a02-8e50-d2dde6e327fd",
   "metadata": {},
   "source": [
    "**However, the dict() cannot convert other objects into dictionaries**\n",
    "\n",
    "In stead, the dict() can be used as an alternative to creating dictionaries."
   ]
  },
  {
   "cell_type": "code",
   "execution_count": 49,
   "id": "0a0bb789-2768-4701-86e3-175708405d40",
   "metadata": {},
   "outputs": [
    {
     "name": "stdout",
     "output_type": "stream",
     "text": [
      "{'a': 1, 'b': 2, 'c': 3, 'd': 4}\n"
     ]
    }
   ],
   "source": [
    "# passing keyword arguments to dict() method \n",
    "myDict = dict(a=1, b=2, c=3, d=4) \n",
    "\n",
    "print(myDict) "
   ]
  },
  {
   "cell_type": "markdown",
   "id": "f06b517d-f9f5-445b-96f4-6e086b0d7a8b",
   "metadata": {},
   "source": [
    "**<u>zip**\n",
    "\n",
    "This is function you use as a merger of a data types. Because it saves things as almost a geographical pin in the pyhton code. Thereafter, the zip can be converted into an output of your choosing e.g. list."
   ]
  },
  {
   "cell_type": "code",
   "execution_count": 51,
   "id": "9446084e-71ec-4f15-81d1-d24dc7d19483",
   "metadata": {},
   "outputs": [],
   "source": [
    "list_1=[1,2,3,4]\n",
    "tupl_1=(1,2,3,4,5)\n",
    "string_1='hello'"
   ]
  },
  {
   "cell_type": "code",
   "execution_count": 58,
   "id": "2454e774-cecb-4276-a730-5b71e78bba61",
   "metadata": {},
   "outputs": [
    {
     "data": {
      "text/plain": [
       "<zip at 0x2ec67f391c0>"
      ]
     },
     "execution_count": 58,
     "metadata": {},
     "output_type": "execute_result"
    }
   ],
   "source": [
    "x=zip(list_1,tupl_1,string_1)\n",
    "x"
   ]
  },
  {
   "cell_type": "code",
   "execution_count": 53,
   "id": "d89b9bc2-7903-477c-8039-b499d9a366f0",
   "metadata": {},
   "outputs": [
    {
     "data": {
      "text/plain": [
       "zip"
      ]
     },
     "execution_count": 53,
     "metadata": {},
     "output_type": "execute_result"
    }
   ],
   "source": [
    "type(x)"
   ]
  },
  {
   "cell_type": "code",
   "execution_count": 59,
   "id": "14a36b9e-9f54-443a-8cfb-798738e92d3f",
   "metadata": {},
   "outputs": [
    {
     "data": {
      "text/plain": [
       "((1, 1, 'h'), (2, 2, 'e'), (3, 3, 'l'), (4, 4, 'l'))"
      ]
     },
     "execution_count": 59,
     "metadata": {},
     "output_type": "execute_result"
    }
   ],
   "source": [
    "tuple(x)"
   ]
  },
  {
   "cell_type": "markdown",
   "id": "c5f8f467-e6aa-441a-9890-a7a75798c2f6",
   "metadata": {},
   "source": [
    "<b> The number 5 and the remaining letters of hello have been excluded because a zip stores elements to the index of the smallest object type."
   ]
  },
  {
   "cell_type": "markdown",
   "id": "89064ab6-4c5c-449d-84c9-d6544e8e47e6",
   "metadata": {},
   "source": [
    "**<u>enumerate**\n",
    "\n",
    "This takes an object and converts it an object that can be iterated(lists,tuples, dictionaries).\n",
    "\n",
    "It returns elements alongside their indices.\n",
    "\n",
    "*Syntax*\n",
    "\n",
    "exact_iterable_object_you_specify(enumerate(any_object))\n",
    "\n",
    "**For a dictionary, the index will be a key and the value will be the element.*"
   ]
  },
  {
   "cell_type": "code",
   "execution_count": 61,
   "id": "5b8a2838-4cac-4c7f-a209-c3cc3c751ea8",
   "metadata": {},
   "outputs": [],
   "source": [
    "list1=[1,2,3,'random']\n",
    "str1='hello'"
   ]
  },
  {
   "cell_type": "code",
   "execution_count": 63,
   "id": "e7902a1d-ade8-4866-ace2-191db96275f5",
   "metadata": {},
   "outputs": [
    {
     "data": {
      "text/plain": [
       "[(0, 1), (1, 2), (2, 3), (3, 'random')]"
      ]
     },
     "execution_count": 63,
     "metadata": {},
     "output_type": "execute_result"
    }
   ],
   "source": [
    "list(enumerate(list1))\n",
    "# The first of the pairs are the elements' indices then the second is the elements themselves."
   ]
  },
  {
   "cell_type": "code",
   "execution_count": 64,
   "id": "5772572f-6bb1-4b49-b68f-77734bf38616",
   "metadata": {},
   "outputs": [
    {
     "data": {
      "text/plain": [
       "((0, 'h'), (1, 'e'), (2, 'l'), (3, 'l'), (4, 'o'))"
      ]
     },
     "execution_count": 64,
     "metadata": {},
     "output_type": "execute_result"
    }
   ],
   "source": [
    "tuple(enumerate(str1))"
   ]
  },
  {
   "cell_type": "code",
   "execution_count": 65,
   "id": "5ecb8d9a-a3c1-4161-9c5f-c8696fe8e43d",
   "metadata": {},
   "outputs": [
    {
     "data": {
      "text/plain": [
       "{0: 1, 1: 2, 2: 3, 3: 'random'}"
      ]
     },
     "execution_count": 65,
     "metadata": {},
     "output_type": "execute_result"
    }
   ],
   "source": [
    "dict(enumerate(list1))"
   ]
  },
  {
   "cell_type": "markdown",
   "id": "f3626001-5eea-4215-a108-16e805a8348c",
   "metadata": {},
   "source": [
    "### For more built-in functions\n",
    "\n",
    "* https://docs.python.org/3/library/functions.html"
   ]
  }
 ],
 "metadata": {
  "kernelspec": {
   "display_name": "Python 3 (ipykernel)",
   "language": "python",
   "name": "python3"
  },
  "language_info": {
   "codemirror_mode": {
    "name": "ipython",
    "version": 3
   },
   "file_extension": ".py",
   "mimetype": "text/x-python",
   "name": "python",
   "nbconvert_exporter": "python",
   "pygments_lexer": "ipython3",
   "version": "3.8.18"
  }
 },
 "nbformat": 4,
 "nbformat_minor": 5
}
