{
 "cells": [
  {
   "cell_type": "markdown",
   "id": "54f056a0-6fef-4e76-9cbe-9cd8f2de9e91",
   "metadata": {},
   "source": [
    "Boolean is a data type with two possible values:\n",
    "\n",
    "* True\n",
    "* False\n",
    "\n",
    "#### True and False must be written exactly this way, with the first letter capitalized!!  \n",
    "\n",
    "            true and false are not booleans!"
   ]
  },
  {
   "cell_type": "code",
   "execution_count": 3,
   "id": "4a7fa813-b832-4558-a02f-309404355ef8",
   "metadata": {},
   "outputs": [
    {
     "data": {
      "text/plain": [
       "bool"
      ]
     },
     "execution_count": 3,
     "metadata": {},
     "output_type": "execute_result"
    }
   ],
   "source": [
    "# True and False are not strings therefore don't enclose them in quotation marks. \n",
    "type(True)"
   ]
  },
  {
   "cell_type": "code",
   "execution_count": 2,
   "id": "46213a96-dcfe-43d1-9cdb-822498bd5aaa",
   "metadata": {},
   "outputs": [
    {
     "data": {
      "text/plain": [
       "bool"
      ]
     },
     "execution_count": 2,
     "metadata": {},
     "output_type": "execute_result"
    }
   ],
   "source": [
    "type(False)"
   ]
  },
  {
   "cell_type": "code",
   "execution_count": 5,
   "id": "7dc9083c-0faa-4bee-a19f-cdced0d71f93",
   "metadata": {},
   "outputs": [
    {
     "data": {
      "text/plain": [
       "False"
      ]
     },
     "execution_count": 5,
     "metadata": {},
     "output_type": "execute_result"
    }
   ],
   "source": [
    "# Check whether 5 is greater than 7\n",
    "5>7"
   ]
  }
 ],
 "metadata": {
  "kernelspec": {
   "display_name": "Python 3 (ipykernel)",
   "language": "python",
   "name": "python3"
  },
  "language_info": {
   "codemirror_mode": {
    "name": "ipython",
    "version": 3
   },
   "file_extension": ".py",
   "mimetype": "text/x-python",
   "name": "python",
   "nbconvert_exporter": "python",
   "pygments_lexer": "ipython3",
   "version": "3.8.18"
  }
 },
 "nbformat": 4,
 "nbformat_minor": 5
}
