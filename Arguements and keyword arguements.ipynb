{
 "cells": [
  {
   "cell_type": "markdown",
   "id": "7d745ca6-aaa4-472b-8b8d-ce4945251801",
   "metadata": {},
   "source": [
    "## *<b>args and **kwargs"
   ]
  },
  {
   "cell_type": "code",
   "execution_count": 1,
   "id": "6c435273-cdd2-42d7-82a3-96ac2bb04310",
   "metadata": {},
   "outputs": [],
   "source": [
    "# When creating a function, \n",
    "# intially we the objects we can pass through can only be exactly the same as the number of arguements.\n",
    "\n",
    "def sum_func(x,y):\n",
    "    return x+y\n",
    "\n",
    "# This function can only handle an input of two, less than it returns an error and more than 2 it also returns an error."
   ]
  },
  {
   "cell_type": "code",
   "execution_count": 9,
   "id": "1b7dfa2f-41f0-4280-8a43-22cceabf45cf",
   "metadata": {},
   "outputs": [],
   "source": [
    "# The solution that allows you to varying arguements is to add an asterix before the arguement\n",
    "\n",
    "def sum_func(*args):\n",
    "    return sum(args)\n",
    "\n",
    "# The name args is optional btw, you can write whatever other name."
   ]
  },
  {
   "cell_type": "code",
   "execution_count": 6,
   "id": "713dcf4c-ab91-4bf5-8aaf-536fe2188b0e",
   "metadata": {},
   "outputs": [
    {
     "data": {
      "text/plain": [
       "10"
      ]
     },
     "execution_count": 6,
     "metadata": {},
     "output_type": "execute_result"
    }
   ],
   "source": [
    "sum_func(1,2,3,4)"
   ]
  },
  {
   "cell_type": "code",
   "execution_count": 7,
   "id": "cb0bd155-bb86-40a2-975d-d7d0ebd5a765",
   "metadata": {},
   "outputs": [
    {
     "data": {
      "text/plain": [
       "6"
      ]
     },
     "execution_count": 7,
     "metadata": {},
     "output_type": "execute_result"
    }
   ],
   "source": [
    "sum_func(1,2,3)"
   ]
  },
  {
   "cell_type": "markdown",
   "id": "1b60939c-ea0b-4ffc-a6d0-e97a03aaa555",
   "metadata": {},
   "source": [
    "### **kwargs\n",
    "\n",
    "These are used when you want to input something that contains a keyword ie.list as an arguement. Basically the syntax that is usually highlighted.\n",
    "\n",
    "However, you cannot repeat keywords."
   ]
  },
  {
   "cell_type": "code",
   "execution_count": 11,
   "id": "2b264091-c06f-4732-a580-b0523b5d81eb",
   "metadata": {},
   "outputs": [],
   "source": [
    "def key_word_func(**kwargs): # Two asterix this time!\n",
    "    print(type(kwargs))\n",
    "    return kwargs"
   ]
  },
  {
   "cell_type": "code",
   "execution_count": 12,
   "id": "61aeca31-fb12-40f8-bb61-fff2580d3dc3",
   "metadata": {},
   "outputs": [
    {
     "name": "stdout",
     "output_type": "stream",
     "text": [
      "<class 'dict'>\n"
     ]
    },
    {
     "data": {
      "text/plain": [
       "{'name': 'Linda', 'age': 52}"
      ]
     },
     "execution_count": 12,
     "metadata": {},
     "output_type": "execute_result"
    }
   ],
   "source": [
    "key_word_func(name='Linda',age=52)\n",
    "\n",
    "#For arguements python is expected a keyword and an assignment operator along with a value. And it will convert\n",
    "# the key value arguements into a dictionary object."
   ]
  },
  {
   "cell_type": "code",
   "execution_count": 18,
   "id": "84e890b2-1828-42e9-a15c-c34f166cbed1",
   "metadata": {},
   "outputs": [],
   "source": [
    "# Assume that you want to make a function that asks for someone's name favourite food \n",
    "# and if they only give either of the answers, it returns the given answer.  \n",
    "\n",
    "def key_word_func(**kwargs):\n",
    "    if 'food' in kwargs:\n",
    "        return f\"My name is {kwargs['name']} and my favourite food is {kwargs['food']}\"\n",
    "    else:\n",
    "        return f\"My name is {kwargs['name']} and I have no favourite food\"\n",
    "\n",
    "# Special thing to remember any time you are using qoutation marks twice you have to alternate for it not to cause an error.          "
   ]
  },
  {
   "cell_type": "code",
   "execution_count": 19,
   "id": "70f7280f-1b69-4ec1-b27b-aa87357f9a07",
   "metadata": {},
   "outputs": [
    {
     "data": {
      "text/plain": [
       "'My name is John and my favourite food is pizza'"
      ]
     },
     "execution_count": 19,
     "metadata": {},
     "output_type": "execute_result"
    }
   ],
   "source": [
    "key_word_func(name='John',food='pizza')"
   ]
  },
  {
   "cell_type": "code",
   "execution_count": 22,
   "id": "7af13e0f-15bf-4243-9b06-8b1caf3dd701",
   "metadata": {},
   "outputs": [
    {
     "data": {
      "text/plain": [
       "'My name is John and my favourite food is pizza'"
      ]
     },
     "execution_count": 22,
     "metadata": {},
     "output_type": "execute_result"
    }
   ],
   "source": [
    "key_word_func(name='John',food='pizza')"
   ]
  },
  {
   "cell_type": "code",
   "execution_count": 23,
   "id": "2704378c-943c-4a75-b97c-ce2f4261f48f",
   "metadata": {},
   "outputs": [
    {
     "data": {
      "text/plain": [
       "'My name is John and I have no favourite food'"
      ]
     },
     "execution_count": 23,
     "metadata": {},
     "output_type": "execute_result"
    }
   ],
   "source": [
    "key_word_func(name='John')"
   ]
  },
  {
   "cell_type": "markdown",
   "id": "b4541572-18bf-47e7-8085-22fa313d7543",
   "metadata": {},
   "source": [
    "<b> You can even pass both *args and **kwargs "
   ]
  },
  {
   "cell_type": "code",
   "execution_count": 26,
   "id": "2a4eb473-2991-41df-999c-1ce5391a50d5",
   "metadata": {},
   "outputs": [],
   "source": [
    "def args_kwargs(*args,**kwargs):\n",
    "    print (args)\n",
    "    print (kwargs)"
   ]
  },
  {
   "cell_type": "code",
   "execution_count": 30,
   "id": "ff571d21-9574-430a-8080-70c4980494e5",
   "metadata": {},
   "outputs": [
    {
     "name": "stdout",
     "output_type": "stream",
     "text": [
      "(1, 2, 3, 'hello', 'world')\n",
      "{'name': 'John'}\n"
     ]
    }
   ],
   "source": [
    "args_kwargs(1,2,3,'hello','world',name='John')\n",
    "# If you add a keyword before a non-keyword, we get an error. The order must remain as specified inside the brackets"
   ]
  }
 ],
 "metadata": {
  "kernelspec": {
   "display_name": "Python 3 (ipykernel)",
   "language": "python",
   "name": "python3"
  },
  "language_info": {
   "codemirror_mode": {
    "name": "ipython",
    "version": 3
   },
   "file_extension": ".py",
   "mimetype": "text/x-python",
   "name": "python",
   "nbconvert_exporter": "python",
   "pygments_lexer": "ipython3",
   "version": "3.8.18"
  }
 },
 "nbformat": 4,
 "nbformat_minor": 5
}
