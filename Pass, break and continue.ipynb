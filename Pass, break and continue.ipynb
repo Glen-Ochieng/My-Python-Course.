{
 "cells": [
  {
   "cell_type": "markdown",
   "id": "815beb5d-4fd8-40a9-9e47-5b8a9094d450",
   "metadata": {},
   "source": [
    "### Pass\n",
    "\n",
    "The pass keyword is like a null statement. It results in no operation being performed.\n",
    "\n",
    "This is quite useful if you have parts of a code and you want to come back to it later."
   ]
  },
  {
   "cell_type": "code",
   "execution_count": 1,
   "id": "90301e4b-a1fe-4c70-8604-c8047f6b0c45",
   "metadata": {},
   "outputs": [],
   "source": [
    "number=2"
   ]
  },
  {
   "cell_type": "code",
   "execution_count": 2,
   "id": "922bc8ee-8713-4df4-bb01-c34e5492d9af",
   "metadata": {},
   "outputs": [
    {
     "ename": "IndentationError",
     "evalue": "expected an indented block (368249393.py, line 3)",
     "output_type": "error",
     "traceback": [
      "\u001b[1;36m  Cell \u001b[1;32mIn[2], line 3\u001b[1;36m\u001b[0m\n\u001b[1;33m    else:\u001b[0m\n\u001b[1;37m    ^\u001b[0m\n\u001b[1;31mIndentationError\u001b[0m\u001b[1;31m:\u001b[0m expected an indented block\n"
     ]
    }
   ],
   "source": [
    "if number == 2:\n",
    "# um, i forgot what goes in here\n",
    "else:\n",
    "    print(number)"
   ]
  },
  {
   "cell_type": "code",
   "execution_count": 5,
   "id": "74262e39-56db-4a70-b8dd-54bc8b0fa578",
   "metadata": {},
   "outputs": [],
   "source": [
    "if number == 2:\n",
    "    pass #This has to be indented to as it is filling in for what should be here. Therefore it should match in terms of format.\n",
    "# um, I forgot what goes in here. I'll come back to this later.\n",
    "else:\n",
    "    print(number)"
   ]
  },
  {
   "cell_type": "markdown",
   "id": "7cf79871-477f-482f-a02a-6ed59087cf13",
   "metadata": {},
   "source": [
    "**Another brilliant use of the pass statement is use it as defacto continue statement. i.e make it skip to the next.**"
   ]
  },
  {
   "cell_type": "code",
   "execution_count": 7,
   "id": "c842640d-a9d0-483b-bc4e-49d36368cfaa",
   "metadata": {},
   "outputs": [],
   "source": [
    "num=[0,1,2,3,4,5,6,7,8,9,10]"
   ]
  },
  {
   "cell_type": "code",
   "execution_count": 17,
   "id": "bc03929d-4c87-48b4-808f-f963f045a9a9",
   "metadata": {},
   "outputs": [
    {
     "name": "stdout",
     "output_type": "stream",
     "text": [
      "0\n",
      "1\n",
      "2\n",
      "3\n",
      "4\n",
      "6\n",
      "7\n",
      "8\n",
      "9\n",
      "10\n"
     ]
    }
   ],
   "source": [
    "for i in num:\n",
    "    if i == 5:\n",
    "        pass\n",
    "    else:\n",
    "        print(i)"
   ]
  },
  {
   "cell_type": "markdown",
   "id": "6564e039-9087-4e55-bc11-44eca8f06ac4",
   "metadata": {},
   "source": [
    "### Break\n",
    "\n",
    "This stops the operation upon the condition being True."
   ]
  },
  {
   "cell_type": "code",
   "execution_count": 13,
   "id": "44b62a07-b203-4cf0-b686-84ad1d1ac9d3",
   "metadata": {},
   "outputs": [
    {
     "name": "stdout",
     "output_type": "stream",
     "text": [
      "0\n",
      "1\n",
      "2\n",
      "3\n",
      "4\n"
     ]
    }
   ],
   "source": [
    "for i in num:\n",
    "    if i == 5:\n",
    "        break\n",
    "    else:\n",
    "        print(i)"
   ]
  },
  {
   "cell_type": "code",
   "execution_count": 14,
   "id": "9168b208-f3d4-49b5-9b7f-70751e568797",
   "metadata": {},
   "outputs": [
    {
     "name": "stdout",
     "output_type": "stream",
     "text": [
      "0\n",
      "1\n",
      "2\n",
      "3\n",
      "4\n"
     ]
    }
   ],
   "source": [
    "# Actually, we don't need the print statement\n",
    "\n",
    "for i in num:\n",
    "    if i == 5:\n",
    "        break\n",
    "    print(i)\n",
    "# However, we must the indent of if. "
   ]
  },
  {
   "cell_type": "markdown",
   "id": "8c798228-07ed-4869-a775-732d5d956ad0",
   "metadata": {},
   "source": [
    "### Continue\n",
    "\n",
    "It starts running the loop after the condition becomes True. So, it jumps on the next iteration."
   ]
  },
  {
   "cell_type": "code",
   "execution_count": 15,
   "id": "92d3a90a-e334-4bf2-a2d5-7209185062d9",
   "metadata": {},
   "outputs": [
    {
     "name": "stdout",
     "output_type": "stream",
     "text": [
      "0\n",
      "1\n",
      "2\n",
      "3\n",
      "4\n",
      "6\n",
      "7\n",
      "8\n",
      "9\n",
      "10\n"
     ]
    }
   ],
   "source": [
    "for i in num:\n",
    "    if i == 5:\n",
    "        continue\n",
    "    print(i)"
   ]
  }
 ],
 "metadata": {
  "kernelspec": {
   "display_name": "Python 3 (ipykernel)",
   "language": "python",
   "name": "python3"
  },
  "language_info": {
   "codemirror_mode": {
    "name": "ipython",
    "version": 3
   },
   "file_extension": ".py",
   "mimetype": "text/x-python",
   "name": "python",
   "nbconvert_exporter": "python",
   "pygments_lexer": "ipython3",
   "version": "3.8.18"
  }
 },
 "nbformat": 4,
 "nbformat_minor": 5
}
