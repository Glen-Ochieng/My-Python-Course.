{
 "cells": [
  {
   "cell_type": "markdown",
   "id": "4cb90b2a-2826-41fc-817b-84bdca21b849",
   "metadata": {},
   "source": [
    "The loop will be iterated until the condition ceases to be true.\n",
    "\n",
    "*Syntax*\n",
    "\n",
    "while condtion:\n",
    "    {block of code to execute}"
   ]
  },
  {
   "cell_type": "code",
   "execution_count": 2,
   "id": "d8ddfe74-f46a-4d96-bf67-e5fac6cda719",
   "metadata": {},
   "outputs": [],
   "source": [
    "a=0"
   ]
  },
  {
   "cell_type": "code",
   "execution_count": 3,
   "id": "1371ddb1-14b0-4216-b9b6-74bacf5e6244",
   "metadata": {},
   "outputs": [
    {
     "name": "stdout",
     "output_type": "stream",
     "text": [
      "a is less than 5\n",
      "a is less than 5\n",
      "a is less than 5\n",
      "a is less than 5\n",
      "a is less than 5\n"
     ]
    }
   ],
   "source": [
    "while a < 5:\n",
    "    print('a is less than 5')\n",
    "    a+=1"
   ]
  },
  {
   "cell_type": "code",
   "execution_count": 6,
   "id": "b5a8dbf9-f0d0-4429-9450-76d973314d9f",
   "metadata": {},
   "outputs": [
    {
     "name": "stdout",
     "output_type": "stream",
     "text": [
      "the value of a is 1\n",
      "the value of a is 2\n",
      "the value of a is 3\n",
      "the value of a is 4\n",
      "the value of a is 5\n"
     ]
    }
   ],
   "source": [
    "# Starting off by adding first.\n",
    "a=0\n",
    "while a < 5:\n",
    "    a+=1\n",
    "    print(f'the value of a is {a}')"
   ]
  }
 ],
 "metadata": {
  "kernelspec": {
   "display_name": "Python 3 (ipykernel)",
   "language": "python",
   "name": "python3"
  },
  "language_info": {
   "codemirror_mode": {
    "name": "ipython",
    "version": 3
   },
   "file_extension": ".py",
   "mimetype": "text/x-python",
   "name": "python",
   "nbconvert_exporter": "python",
   "pygments_lexer": "ipython3",
   "version": "3.8.18"
  }
 },
 "nbformat": 4,
 "nbformat_minor": 5
}
