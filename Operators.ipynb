{
 "cells": [
  {
   "cell_type": "markdown",
   "id": "60ad742d-e390-4469-8774-18fdc0e80701",
   "metadata": {},
   "source": [
    "### Comparion operators\n",
    "\n",
    "These are operators that return either True or False when two values are compared.\n",
    "\n",
    "* == Equal to\n",
    "* != Not equal to\n",
    "* (>) Greater than and (>=) Greater than or equal to.\n",
    "* (<) Less than and (<=) Lesser than or equal to."
   ]
  },
  {
   "cell_type": "code",
   "execution_count": 1,
   "id": "7a0cd48b-d430-434f-b5aa-6aa2922bf89c",
   "metadata": {},
   "outputs": [
    {
     "data": {
      "text/plain": [
       "True"
      ]
     },
     "execution_count": 1,
     "metadata": {},
     "output_type": "execute_result"
    }
   ],
   "source": [
    "10==10"
   ]
  },
  {
   "cell_type": "code",
   "execution_count": 2,
   "id": "bc5be32d-62bf-4396-a4c7-6619e58da202",
   "metadata": {},
   "outputs": [
    {
     "data": {
      "text/plain": [
       "False"
      ]
     },
     "execution_count": 2,
     "metadata": {},
     "output_type": "execute_result"
    }
   ],
   "source": [
    "10==20"
   ]
  },
  {
   "cell_type": "code",
   "execution_count": 3,
   "id": "b24f8bf4-3cdd-44f2-9779-32e9da2d15c3",
   "metadata": {},
   "outputs": [
    {
     "data": {
      "text/plain": [
       "False"
      ]
     },
     "execution_count": 3,
     "metadata": {},
     "output_type": "execute_result"
    }
   ],
   "source": [
    "'Tom'=='Tom '"
   ]
  },
  {
   "cell_type": "code",
   "execution_count": 4,
   "id": "ed24e4f7-f8f0-407a-8910-9edf065593ab",
   "metadata": {},
   "outputs": [
    {
     "data": {
      "text/plain": [
       "True"
      ]
     },
     "execution_count": 4,
     "metadata": {},
     "output_type": "execute_result"
    }
   ],
   "source": [
    "10!=20"
   ]
  },
  {
   "cell_type": "markdown",
   "id": "d0d21dbd-9f58-42b5-b7ba-39612a05defc",
   "metadata": {},
   "source": [
    "### Logical operators\n",
    "\n",
    "Can be used to combine condtional operations.\n",
    "\n",
    "* and - returns True if two or more statements are True.\n",
    "* or - returns False if either statemnets are True.\n",
    "* not - returns False if the statement is True. "
   ]
  },
  {
   "cell_type": "code",
   "execution_count": 5,
   "id": "8f7f68f2-f1ab-4c14-8962-402525ce89e0",
   "metadata": {},
   "outputs": [
    {
     "data": {
      "text/plain": [
       "True"
      ]
     },
     "execution_count": 5,
     "metadata": {},
     "output_type": "execute_result"
    }
   ],
   "source": [
    "4>3 and 100>3"
   ]
  },
  {
   "cell_type": "code",
   "execution_count": 6,
   "id": "8e727f90-23a6-42a1-8752-0bf156b6c27e",
   "metadata": {},
   "outputs": [
    {
     "data": {
      "text/plain": [
       "True"
      ]
     },
     "execution_count": 6,
     "metadata": {},
     "output_type": "execute_result"
    }
   ],
   "source": [
    "3>1 and 3==3 and 4<100"
   ]
  },
  {
   "cell_type": "code",
   "execution_count": 7,
   "id": "57d8ca4a-2627-47a1-8ef9-19fb0dc7414f",
   "metadata": {},
   "outputs": [
    {
     "data": {
      "text/plain": [
       "True"
      ]
     },
     "execution_count": 7,
     "metadata": {},
     "output_type": "execute_result"
    }
   ],
   "source": [
    "not 4<3"
   ]
  },
  {
   "cell_type": "markdown",
   "id": "d45443f1-5143-450f-8837-b3b93c11598f",
   "metadata": {},
   "source": [
    "### is and is not\n",
    "\n",
    "They are used to compare values inside variables."
   ]
  },
  {
   "cell_type": "code",
   "execution_count": 8,
   "id": "db7e4e7f-d8f6-4e12-8f24-d51139f71c4f",
   "metadata": {},
   "outputs": [],
   "source": [
    "a=20\n",
    "b=20"
   ]
  },
  {
   "cell_type": "code",
   "execution_count": 9,
   "id": "5692ead2-6ec7-44ca-81f9-2a6bf1c934d2",
   "metadata": {},
   "outputs": [
    {
     "data": {
      "text/plain": [
       "True"
      ]
     },
     "execution_count": 9,
     "metadata": {},
     "output_type": "execute_result"
    }
   ],
   "source": [
    "a is b "
   ]
  },
  {
   "cell_type": "code",
   "execution_count": 10,
   "id": "74252fdf-ab77-4afe-ba29-6777d3f05671",
   "metadata": {},
   "outputs": [
    {
     "data": {
      "text/plain": [
       "False"
      ]
     },
     "execution_count": 10,
     "metadata": {},
     "output_type": "execute_result"
    }
   ],
   "source": [
    "a is not b "
   ]
  },
  {
   "cell_type": "markdown",
   "id": "b7665477-7b59-4c99-8adf-f91b1ababa72",
   "metadata": {},
   "source": [
    "### in and not in\n",
    "\n",
    "**in** - returns True if the specified value can be found inside the specified object.\n",
    "\n",
    "**not in** - returns True if the specified value cannot be found inside the specified object.\n"
   ]
  },
  {
   "cell_type": "code",
   "execution_count": 1,
   "id": "7f6c58e3-61a5-4797-83ce-88078c7f879d",
   "metadata": {},
   "outputs": [],
   "source": [
    "list_1=[1,2,3,4]"
   ]
  },
  {
   "cell_type": "code",
   "execution_count": 2,
   "id": "be339c7e-44c3-452b-9431-2959676e5d26",
   "metadata": {},
   "outputs": [
    {
     "data": {
      "text/plain": [
       "True"
      ]
     },
     "execution_count": 2,
     "metadata": {},
     "output_type": "execute_result"
    }
   ],
   "source": [
    "4 in list_1"
   ]
  },
  {
   "cell_type": "code",
   "execution_count": 3,
   "id": "a63d714f-4810-4b61-a760-5b805c09ed34",
   "metadata": {},
   "outputs": [
    {
     "data": {
      "text/plain": [
       "False"
      ]
     },
     "execution_count": 3,
     "metadata": {},
     "output_type": "execute_result"
    }
   ],
   "source": [
    "6 in list_1"
   ]
  },
  {
   "cell_type": "code",
   "execution_count": 4,
   "id": "bf34235e-b887-41a9-8787-ae37cce66b90",
   "metadata": {},
   "outputs": [],
   "source": [
    "tuple_1=(1,2,3,4)"
   ]
  },
  {
   "cell_type": "code",
   "execution_count": 5,
   "id": "bc5f295f-ab1d-4be8-abbd-c3b3320f2c92",
   "metadata": {},
   "outputs": [],
   "source": [
    "set_1={1,2,3,4}"
   ]
  },
  {
   "cell_type": "code",
   "execution_count": 6,
   "id": "20987224-3046-4370-9e87-7153dba7b07a",
   "metadata": {},
   "outputs": [
    {
     "data": {
      "text/plain": [
       "True"
      ]
     },
     "execution_count": 6,
     "metadata": {},
     "output_type": "execute_result"
    }
   ],
   "source": [
    "1 in tuple_1"
   ]
  },
  {
   "cell_type": "code",
   "execution_count": 7,
   "id": "96dec867-3991-482c-b2ed-09a2705bdc22",
   "metadata": {},
   "outputs": [
    {
     "data": {
      "text/plain": [
       "True"
      ]
     },
     "execution_count": 7,
     "metadata": {},
     "output_type": "execute_result"
    }
   ],
   "source": [
    "1 in set_1"
   ]
  },
  {
   "cell_type": "code",
   "execution_count": 8,
   "id": "7a6028e0-cfed-404f-92d2-610f10edb6c9",
   "metadata": {},
   "outputs": [
    {
     "data": {
      "text/plain": [
       "False"
      ]
     },
     "execution_count": 8,
     "metadata": {},
     "output_type": "execute_result"
    }
   ],
   "source": [
    "1 not in set_1"
   ]
  },
  {
   "cell_type": "code",
   "execution_count": 9,
   "id": "cf96ef40-38b2-4fe0-9e88-6c89232f6bb9",
   "metadata": {},
   "outputs": [],
   "source": [
    "str_1 = 'Hello'"
   ]
  },
  {
   "cell_type": "code",
   "execution_count": 10,
   "id": "8326d28a-833b-4ef6-bfc5-d46caad94423",
   "metadata": {},
   "outputs": [
    {
     "data": {
      "text/plain": [
       "True"
      ]
     },
     "execution_count": 10,
     "metadata": {},
     "output_type": "execute_result"
    }
   ],
   "source": [
    "'H' in str_1"
   ]
  },
  {
   "cell_type": "code",
   "execution_count": 11,
   "id": "164d693f-386c-4344-a42b-98c45698248a",
   "metadata": {},
   "outputs": [
    {
     "data": {
      "text/plain": [
       "False"
      ]
     },
     "execution_count": 11,
     "metadata": {},
     "output_type": "execute_result"
    }
   ],
   "source": [
    "'h' in str_1"
   ]
  },
  {
   "cell_type": "code",
   "execution_count": 12,
   "id": "477b7b2a-0c3b-4166-960c-16ebfc6af2d7",
   "metadata": {},
   "outputs": [
    {
     "data": {
      "text/plain": [
       "True"
      ]
     },
     "execution_count": 12,
     "metadata": {},
     "output_type": "execute_result"
    }
   ],
   "source": [
    "'Hel' in str_1"
   ]
  },
  {
   "cell_type": "code",
   "execution_count": 13,
   "id": "d97e5d11-cdb3-41b6-afb3-f2b5ffed5b22",
   "metadata": {},
   "outputs": [],
   "source": [
    "dict_1={'key1':'value1','key2':'value2'}"
   ]
  },
  {
   "cell_type": "code",
   "execution_count": 14,
   "id": "0dfe3528-c1f4-461a-a22a-d0f59cc64256",
   "metadata": {},
   "outputs": [
    {
     "data": {
      "text/plain": [
       "True"
      ]
     },
     "execution_count": 14,
     "metadata": {},
     "output_type": "execute_result"
    }
   ],
   "source": [
    "'key1' in dict_1"
   ]
  },
  {
   "cell_type": "code",
   "execution_count": 15,
   "id": "1f21abd1-1f41-4c76-8b9b-7d577b8e0172",
   "metadata": {},
   "outputs": [
    {
     "data": {
      "text/plain": [
       "False"
      ]
     },
     "execution_count": 15,
     "metadata": {},
     "output_type": "execute_result"
    }
   ],
   "source": [
    "'value1' in dict_1"
   ]
  },
  {
   "cell_type": "markdown",
   "id": "ece748da-7c31-4f3d-8628-de4f5126d008",
   "metadata": {},
   "source": [
    "**It's seems only keys are checked.**"
   ]
  },
  {
   "cell_type": "code",
   "execution_count": 16,
   "id": "fe2a6a45-7ae9-4c75-b0d7-d2133924739d",
   "metadata": {},
   "outputs": [
    {
     "data": {
      "text/plain": [
       "dict_values(['value1', 'value2'])"
      ]
     },
     "execution_count": 16,
     "metadata": {},
     "output_type": "execute_result"
    }
   ],
   "source": [
    "# Recall: to check the values of a dictionary we can use the values command. \n",
    "# So let's query from the output of the values command.\n",
    "\n",
    "dict_1.values()"
   ]
  },
  {
   "cell_type": "code",
   "execution_count": 18,
   "id": "e7969efe-76dd-4341-b925-0b49ec15225f",
   "metadata": {},
   "outputs": [
    {
     "data": {
      "text/plain": [
       "True"
      ]
     },
     "execution_count": 18,
     "metadata": {},
     "output_type": "execute_result"
    }
   ],
   "source": [
    "'value1' in dict_1.values()"
   ]
  }
 ],
 "metadata": {
  "kernelspec": {
   "display_name": "Python 3 (ipykernel)",
   "language": "python",
   "name": "python3"
  },
  "language_info": {
   "codemirror_mode": {
    "name": "ipython",
    "version": 3
   },
   "file_extension": ".py",
   "mimetype": "text/x-python",
   "name": "python",
   "nbconvert_exporter": "python",
   "pygments_lexer": "ipython3",
   "version": "3.8.18"
  }
 },
 "nbformat": 4,
 "nbformat_minor": 5
}
