{
 "cells": [
  {
   "cell_type": "markdown",
   "id": "60ad742d-e390-4469-8774-18fdc0e80701",
   "metadata": {},
   "source": [
    "### Comparion operators\n",
    "\n",
    "These are operators that return either True or False when two values are compared.\n",
    "\n",
    "* == Equal to\n",
    "* != Not equal to\n",
    "* (>) Greater than and (>=) Greater than or equal to.\n",
    "* (<) Less than and (<=) Lesser than or equal to."
   ]
  },
  {
   "cell_type": "code",
   "execution_count": 1,
   "id": "7a0cd48b-d430-434f-b5aa-6aa2922bf89c",
   "metadata": {},
   "outputs": [
    {
     "data": {
      "text/plain": [
       "True"
      ]
     },
     "execution_count": 1,
     "metadata": {},
     "output_type": "execute_result"
    }
   ],
   "source": [
    "10==10"
   ]
  },
  {
   "cell_type": "code",
   "execution_count": 2,
   "id": "bc5be32d-62bf-4396-a4c7-6619e58da202",
   "metadata": {},
   "outputs": [
    {
     "data": {
      "text/plain": [
       "False"
      ]
     },
     "execution_count": 2,
     "metadata": {},
     "output_type": "execute_result"
    }
   ],
   "source": [
    "10==20"
   ]
  },
  {
   "cell_type": "code",
   "execution_count": 3,
   "id": "b24f8bf4-3cdd-44f2-9779-32e9da2d15c3",
   "metadata": {},
   "outputs": [
    {
     "data": {
      "text/plain": [
       "False"
      ]
     },
     "execution_count": 3,
     "metadata": {},
     "output_type": "execute_result"
    }
   ],
   "source": [
    "'Tom'=='Tom '"
   ]
  },
  {
   "cell_type": "code",
   "execution_count": 4,
   "id": "ed24e4f7-f8f0-407a-8910-9edf065593ab",
   "metadata": {},
   "outputs": [
    {
     "data": {
      "text/plain": [
       "True"
      ]
     },
     "execution_count": 4,
     "metadata": {},
     "output_type": "execute_result"
    }
   ],
   "source": [
    "10!=20"
   ]
  },
  {
   "cell_type": "markdown",
   "id": "d0d21dbd-9f58-42b5-b7ba-39612a05defc",
   "metadata": {},
   "source": [
    "### Logical operators\n",
    "\n",
    "Can be used to combine condtional operations.\n",
    "\n",
    "* and - returns True if two or more statements are True.\n",
    "* or - returns False if either statemnets are True.\n",
    "* not - returns False if the statement is True. "
   ]
  },
  {
   "cell_type": "code",
   "execution_count": 5,
   "id": "8f7f68f2-f1ab-4c14-8962-402525ce89e0",
   "metadata": {},
   "outputs": [
    {
     "data": {
      "text/plain": [
       "True"
      ]
     },
     "execution_count": 5,
     "metadata": {},
     "output_type": "execute_result"
    }
   ],
   "source": [
    "4>3 and 100>3"
   ]
  },
  {
   "cell_type": "code",
   "execution_count": 6,
   "id": "8e727f90-23a6-42a1-8752-0bf156b6c27e",
   "metadata": {},
   "outputs": [
    {
     "data": {
      "text/plain": [
       "True"
      ]
     },
     "execution_count": 6,
     "metadata": {},
     "output_type": "execute_result"
    }
   ],
   "source": [
    "3>1 and 3==3 and 4<100"
   ]
  },
  {
   "cell_type": "code",
   "execution_count": 7,
   "id": "57d8ca4a-2627-47a1-8ef9-19fb0dc7414f",
   "metadata": {},
   "outputs": [
    {
     "data": {
      "text/plain": [
       "True"
      ]
     },
     "execution_count": 7,
     "metadata": {},
     "output_type": "execute_result"
    }
   ],
   "source": [
    "not 4<3"
   ]
  },
  {
   "cell_type": "markdown",
   "id": "d45443f1-5143-450f-8837-b3b93c11598f",
   "metadata": {},
   "source": [
    "### is and is not\n",
    "\n",
    "They are used to compare values inside variables."
   ]
  },
  {
   "cell_type": "code",
   "execution_count": 8,
   "id": "db7e4e7f-d8f6-4e12-8f24-d51139f71c4f",
   "metadata": {},
   "outputs": [],
   "source": [
    "a=20\n",
    "b=20"
   ]
  },
  {
   "cell_type": "code",
   "execution_count": 9,
   "id": "5692ead2-6ec7-44ca-81f9-2a6bf1c934d2",
   "metadata": {},
   "outputs": [
    {
     "data": {
      "text/plain": [
       "True"
      ]
     },
     "execution_count": 9,
     "metadata": {},
     "output_type": "execute_result"
    }
   ],
   "source": [
    "a is b "
   ]
  },
  {
   "cell_type": "code",
   "execution_count": 10,
   "id": "74252fdf-ab77-4afe-ba29-6777d3f05671",
   "metadata": {},
   "outputs": [
    {
     "data": {
      "text/plain": [
       "False"
      ]
     },
     "execution_count": 10,
     "metadata": {},
     "output_type": "execute_result"
    }
   ],
   "source": [
    "a is not b "
   ]
  }
 ],
 "metadata": {
  "kernelspec": {
   "display_name": "Python 3 (ipykernel)",
   "language": "python",
   "name": "python3"
  },
  "language_info": {
   "codemirror_mode": {
    "name": "ipython",
    "version": 3
   },
   "file_extension": ".py",
   "mimetype": "text/x-python",
   "name": "python",
   "nbconvert_exporter": "python",
   "pygments_lexer": "ipython3",
   "version": "3.8.18"
  }
 },
 "nbformat": 4,
 "nbformat_minor": 5
}
