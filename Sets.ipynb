{
 "cells": [
  {
   "cell_type": "markdown",
   "id": "6ccb4ac9-ee52-4efd-8a8a-430cca5f01a7",
   "metadata": {},
   "source": [
    "Sets are mututable sequences of elements or values in side curly brackets. However, they should not be confused with dictionaries as they don't have keys.\n",
    "\n",
    "* Sets store multiple entries as single values.\n",
    "  \n",
    "  **(Differences from tuples)**\n",
    "  \n",
    "* Sets do not allow duplicate values. They only store unique values!  \n",
    "* Sets are unordered.\n",
    "* Sets cannot be indexed. If something isn't ordered then it can't be numbered and thus it cannot be referenced. Hence if the preceeding assumption is it cannot be ordered the next natural assumption is that it cannot be indexed nor referenced.\n",
    "\n",
    "*Syntax*\n",
    "\n",
    "set_name={var1,var2, etc.}"
   ]
  },
  {
   "cell_type": "code",
   "execution_count": 4,
   "id": "a6e3f136-cbb3-4a39-a240-1a29f82b2eb5",
   "metadata": {},
   "outputs": [
    {
     "data": {
      "text/plain": [
       "{1, 2, 3}"
      ]
     },
     "execution_count": 4,
     "metadata": {},
     "output_type": "execute_result"
    }
   ],
   "source": [
    "x={1,2,3}\n",
    "x"
   ]
  },
  {
   "cell_type": "code",
   "execution_count": 3,
   "id": "8bcd3d1b-128d-4146-9658-7fb2e1724892",
   "metadata": {},
   "outputs": [
    {
     "data": {
      "text/plain": [
       "set"
      ]
     },
     "execution_count": 3,
     "metadata": {},
     "output_type": "execute_result"
    }
   ],
   "source": [
    "type(x)"
   ]
  },
  {
   "cell_type": "markdown",
   "id": "2f476434-f780-43fd-84e1-66a6b1764bf1",
   "metadata": {},
   "source": [
    "You can also create an empty set.\n",
    "\n",
    "Useful if you need to create a storage space for an iteration that generates outputs that need to be stored and used for the subsequent steps.\n",
    "\n",
    "*Syntax*\n",
    "\n",
    "x=set()\n",
    "\n",
    "#### NB: Be very careful with the syntax!! Remember to use the set function and in stead use the round brackets!"
   ]
  },
  {
   "cell_type": "code",
   "execution_count": 9,
   "id": "e33dbe88-ea90-4993-aba4-c48da0356cbd",
   "metadata": {},
   "outputs": [
    {
     "data": {
      "text/plain": [
       "set"
      ]
     },
     "execution_count": 9,
     "metadata": {},
     "output_type": "execute_result"
    }
   ],
   "source": [
    "type(x)"
   ]
  },
  {
   "cell_type": "code",
   "execution_count": 12,
   "id": "32448c8f-f652-42d4-95da-2b386896c837",
   "metadata": {},
   "outputs": [],
   "source": [
    "# This is wrong and a very easy mistake to make. However, this creates an empty dictionary not an empty set!\n",
    "x={}"
   ]
  },
  {
   "cell_type": "code",
   "execution_count": 11,
   "id": "b0e3a4bf-f88d-4ee8-944a-6b4e70f8db27",
   "metadata": {},
   "outputs": [
    {
     "data": {
      "text/plain": [
       "dict"
      ]
     },
     "execution_count": 11,
     "metadata": {},
     "output_type": "execute_result"
    }
   ],
   "source": [
    "type(x)"
   ]
  },
  {
   "cell_type": "code",
   "execution_count": 14,
   "id": "614ed946-ae2c-42a5-a073-a5b5088eaebd",
   "metadata": {},
   "outputs": [
    {
     "data": {
      "text/plain": [
       "{1, 2, 'John'}"
      ]
     },
     "execution_count": 14,
     "metadata": {},
     "output_type": "execute_result"
    }
   ],
   "source": [
    "x={1,2,'John'}\n",
    "x"
   ]
  },
  {
   "cell_type": "markdown",
   "id": "940b2b0c-9ff4-467f-b6fb-7dd6f0575013",
   "metadata": {},
   "source": [
    " ### Set Methods"
   ]
  },
  {
   "cell_type": "markdown",
   "id": "b554c8af-574d-4c1b-8a00-3b2b560a02ad",
   "metadata": {},
   "source": [
    "**<u> 1. add()**\n",
    "\n",
    "The add methods, add new elements into a set."
   ]
  },
  {
   "cell_type": "code",
   "execution_count": 15,
   "id": "90728b12-f0be-4ff8-a722-cc5df80cde1f",
   "metadata": {},
   "outputs": [],
   "source": [
    "x.add(5)"
   ]
  },
  {
   "cell_type": "code",
   "execution_count": 16,
   "id": "26f8c6c0-f822-4ffb-b66c-ebcfb563e954",
   "metadata": {},
   "outputs": [
    {
     "data": {
      "text/plain": [
       "{1, 2, 5, 'John'}"
      ]
     },
     "execution_count": 16,
     "metadata": {},
     "output_type": "execute_result"
    }
   ],
   "source": [
    "x"
   ]
  },
  {
   "cell_type": "markdown",
   "id": "c41f440b-ba28-4c98-b0ea-cdd0191621ba",
   "metadata": {},
   "source": [
    "As mentioned before, its unorded thus it might place 5 anywhere in there."
   ]
  },
  {
   "cell_type": "code",
   "execution_count": 17,
   "id": "1a2261a3-fbbc-4a52-8bdb-1d95b3d18fb8",
   "metadata": {},
   "outputs": [
    {
     "data": {
      "text/plain": [
       "{1, 2, 5, 'John'}"
      ]
     },
     "execution_count": 17,
     "metadata": {},
     "output_type": "execute_result"
    }
   ],
   "source": [
    "# If i tried, adding another 5 it will not be added as sets only take unique values.\n",
    "x.add(5)\n",
    "x"
   ]
  },
  {
   "cell_type": "code",
   "execution_count": 18,
   "id": "b88285d1-17a1-49b3-acf0-43e6814a1e77",
   "metadata": {},
   "outputs": [
    {
     "data": {
      "text/plain": [
       "{1, 2}"
      ]
     },
     "execution_count": 18,
     "metadata": {},
     "output_type": "execute_result"
    }
   ],
   "source": [
    "# Even if we tried adding the duplicates at the start\n",
    "y={1,2,2,2,2,2}\n",
    "y"
   ]
  },
  {
   "cell_type": "code",
   "execution_count": 19,
   "id": "3c14edc6-d653-4019-b6df-25bf3b6c134d",
   "metadata": {},
   "outputs": [],
   "source": [
    "# The duplicates are removed."
   ]
  },
  {
   "cell_type": "markdown",
   "id": "f83bdf13-5bd7-4c6a-8c72-59a381d62f6d",
   "metadata": {},
   "source": [
    "We can transform a list into a set by inserting the list as the arguement in a set function."
   ]
  },
  {
   "cell_type": "code",
   "execution_count": 21,
   "id": "e5eec4bc-df12-4bd1-ac38-76eddc8be6bd",
   "metadata": {},
   "outputs": [
    {
     "data": {
      "text/plain": [
       "[1, 2, 2, 3]"
      ]
     },
     "execution_count": 21,
     "metadata": {},
     "output_type": "execute_result"
    }
   ],
   "source": [
    "list_1=[1,2,2,3]\n",
    "list_1"
   ]
  },
  {
   "cell_type": "code",
   "execution_count": 22,
   "id": "2f676e1c-51c6-4e19-bc57-4b6925430556",
   "metadata": {},
   "outputs": [],
   "source": [
    "# Remember the round brackets.\n",
    "set_1=set(list_1)"
   ]
  },
  {
   "cell_type": "code",
   "execution_count": 23,
   "id": "9586b898-5273-4d58-bf55-df8e4ae841a8",
   "metadata": {},
   "outputs": [
    {
     "data": {
      "text/plain": [
       "{1, 2, 3}"
      ]
     },
     "execution_count": 23,
     "metadata": {},
     "output_type": "execute_result"
    }
   ],
   "source": [
    "set_1"
   ]
  },
  {
   "cell_type": "markdown",
   "id": "3eaf94af-7c2f-4007-9fd5-7f5109bb2c85",
   "metadata": {},
   "source": [
    "The duplicate 2 has been removed."
   ]
  },
  {
   "cell_type": "markdown",
   "id": "4a534f32-87ee-4cae-a094-70166673f759",
   "metadata": {},
   "source": [
    "**<u> 2.intersection()**\n",
    " \n",
    " Performs an inner join. That is it returns values that much/are in both sets.\n",
    "\n",
    "*Syntax*\n",
    "\n",
    "first_set_name.intersection(second_set_name)\n"
   ]
  },
  {
   "cell_type": "code",
   "execution_count": 24,
   "id": "5c55bec6-e3dc-45af-af30-29379dae8481",
   "metadata": {},
   "outputs": [],
   "source": [
    "x={1,2,3,4}\n",
    "y={3,4,5,6}"
   ]
  },
  {
   "cell_type": "code",
   "execution_count": 25,
   "id": "cb313616-7046-4bde-b696-d7fe854dc323",
   "metadata": {},
   "outputs": [
    {
     "data": {
      "text/plain": [
       "{3, 4}"
      ]
     },
     "execution_count": 25,
     "metadata": {},
     "output_type": "execute_result"
    }
   ],
   "source": [
    "x.intersection(y)"
   ]
  },
  {
   "cell_type": "markdown",
   "id": "01422e29-f896-4253-a763-06b882935983",
   "metadata": {},
   "source": [
    "This method is not available for tuples and lists, however a cool trick to use intersection for them, is to transform them into sets as shown previously in cell 22."
   ]
  }
 ],
 "metadata": {
  "kernelspec": {
   "display_name": "Python 3 (ipykernel)",
   "language": "python",
   "name": "python3"
  },
  "language_info": {
   "codemirror_mode": {
    "name": "ipython",
    "version": 3
   },
   "file_extension": ".py",
   "mimetype": "text/x-python",
   "name": "python",
   "nbconvert_exporter": "python",
   "pygments_lexer": "ipython3",
   "version": "3.8.18"
  }
 },
 "nbformat": 4,
 "nbformat_minor": 5
}
