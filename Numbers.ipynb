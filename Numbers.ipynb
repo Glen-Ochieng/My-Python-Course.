{
 "cells": [
  {
   "cell_type": "markdown",
   "id": "cda882a8-e6ff-4121-a92b-026cdc358bd7",
   "metadata": {},
   "source": [
    "There are three types of numbers in python: Intergers, Float and ..\n"
   ]
  },
  {
   "cell_type": "code",
   "execution_count": 2,
   "id": "6c26ec8c-ed94-47e5-93ca-579a70b8f697",
   "metadata": {},
   "outputs": [
    {
     "data": {
      "text/plain": [
       "int"
      ]
     },
     "execution_count": 2,
     "metadata": {},
     "output_type": "execute_result"
    }
   ],
   "source": [
    "# Integers are whole numbers, whether negative or positive.\n",
    "x=200\n",
    "type(x)"
   ]
  },
  {
   "cell_type": "code",
   "execution_count": 4,
   "id": "9c48633e-8e00-4c9f-9746-70499366d474",
   "metadata": {},
   "outputs": [
    {
     "data": {
      "text/plain": [
       "int"
      ]
     },
     "execution_count": 4,
     "metadata": {},
     "output_type": "execute_result"
    }
   ],
   "source": [
    "x=-333\n",
    "type(x)"
   ]
  },
  {
   "cell_type": "code",
   "execution_count": 6,
   "id": "185de61d-a2f7-4bc5-bbab-88fba7008a51",
   "metadata": {},
   "outputs": [
    {
     "data": {
      "text/plain": [
       "float"
      ]
     },
     "execution_count": 6,
     "metadata": {},
     "output_type": "execute_result"
    }
   ],
   "source": [
    "# Floats encompasses fractions, whether positive or negative\n",
    "x=9.2\n",
    "type(x)"
   ]
  },
  {
   "cell_type": "code",
   "execution_count": 7,
   "id": "797b3810-a380-4409-87df-ada83ad47ce5",
   "metadata": {},
   "outputs": [
    {
     "data": {
      "text/plain": [
       "float"
      ]
     },
     "execution_count": 7,
     "metadata": {},
     "output_type": "execute_result"
    }
   ],
   "source": [
    "type(7/4)"
   ]
  },
  {
   "cell_type": "markdown",
   "id": "a638ec9e-de78-4a5f-bab0-6d3fb0a68dc3",
   "metadata": {},
   "source": [
    "Aside from the basic arithmetics such as addition,subtraction,division and multiplication there are other important operators such as %(modulo) , this returns the remainder of a division operation. This is a common sign when writing functions that require you to use odd or even numbers."
   ]
  },
  {
   "cell_type": "code",
   "execution_count": 10,
   "id": "ef956a31-a0cd-4ef7-b6d8-6bf5aad0fa3c",
   "metadata": {},
   "outputs": [
    {
     "data": {
      "text/plain": [
       "1"
      ]
     },
     "execution_count": 10,
     "metadata": {},
     "output_type": "execute_result"
    }
   ],
   "source": [
    "4%3"
   ]
  },
  {
   "cell_type": "code",
   "execution_count": 12,
   "id": "48ce872d-d7b2-40f4-b01c-a11bb1064da7",
   "metadata": {},
   "outputs": [
    {
     "data": {
      "text/plain": [
       "0"
      ]
     },
     "execution_count": 12,
     "metadata": {},
     "output_type": "execute_result"
    }
   ],
   "source": [
    "4%4"
   ]
  },
  {
   "cell_type": "code",
   "execution_count": 14,
   "id": "5f2c894c-8dad-45c6-a7d5-a8ebe7a3bfb4",
   "metadata": {},
   "outputs": [
    {
     "data": {
      "text/plain": [
       "8"
      ]
     },
     "execution_count": 14,
     "metadata": {},
     "output_type": "execute_result"
    }
   ],
   "source": [
    "#In Python to exponentiate don't use ^ sign. It will act as a minus sign. \n",
    "10^2"
   ]
  },
  {
   "cell_type": "code",
   "execution_count": 18,
   "id": "e4916a53-d9dd-42a6-ba90-f258b32a8bba",
   "metadata": {},
   "outputs": [
    {
     "data": {
      "text/plain": [
       "100"
      ]
     },
     "execution_count": 18,
     "metadata": {},
     "output_type": "execute_result"
    }
   ],
   "source": [
    "# In stead use double multiplication i.e(**) for exponentiating.\n",
    "10 ** 2"
   ]
  },
  {
   "cell_type": "code",
   "execution_count": null,
   "id": "1de213ed-088a-45a3-9c30-03792f16073d",
   "metadata": {},
   "outputs": [],
   "source": [
    " #Alternatively, we can use the power function.\n",
    " #Syntax pow(base, exponent)\n",
    "pow(10,2)\n"
   ]
  },
  {
   "attachments": {},
   "cell_type": "markdown",
   "id": "cd15f887-073c-4e5d-b554-27b00de1d12c",
   "metadata": {},
   "source": [
    "####  Python follows PEDMAS or more commonly what we refer to as BODMAS but extended for its arithmetic operations.\n",
    "\n",
    "P-Parentheses/ Brackets in the other formula.\n",
    "\n",
    "E- Exponents\n",
    "\n",
    "D-Division\n",
    "\n",
    "M-Multiplication\n",
    "\n",
    "A-Addition\n",
    "\n",
    "S-Subtraction\n"
   ]
  },
  {
   "cell_type": "code",
   "execution_count": null,
   "id": "99511135-fcf6-42e0-9768-c2e307f9e561",
   "metadata": {},
   "outputs": [],
   "source": []
  }
 ],
 "metadata": {
  "kernelspec": {
   "display_name": "Python 3 (ipykernel)",
   "language": "python",
   "name": "python3"
  },
  "language_info": {
   "codemirror_mode": {
    "name": "ipython",
    "version": 3
   },
   "file_extension": ".py",
   "mimetype": "text/x-python",
   "name": "python",
   "nbconvert_exporter": "python",
   "pygments_lexer": "ipython3",
   "version": "3.8.18"
  }
 },
 "nbformat": 4,
 "nbformat_minor": 5
}
