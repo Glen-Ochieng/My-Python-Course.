{
 "cells": [
  {
   "cell_type": "markdown",
   "id": "6c3a1c08-0e2d-4ff2-8738-b12ac33571e6",
   "metadata": {},
   "source": [
    "Let us try to extract every letter of a string an element into a list."
   ]
  },
  {
   "cell_type": "code",
   "execution_count": 3,
   "id": "04cf0d03-1a36-43fd-8e7b-5f33d97d9e22",
   "metadata": {},
   "outputs": [],
   "source": [
    "hw_text='Hello world'\n",
    "hw_list=[]"
   ]
  },
  {
   "cell_type": "code",
   "execution_count": 6,
   "id": "93d98573-1918-41da-8700-e53cd69b0ec9",
   "metadata": {},
   "outputs": [],
   "source": [
    "# Now we want hw_list to contain every letter from the hw_text string.\n",
    "# We must invoke the append command to help.\n",
    "\n",
    "for letters in hw_text:\n",
    "    hw_list.append(letters)"
   ]
  },
  {
   "cell_type": "code",
   "execution_count": 7,
   "id": "94f31f9d-68e7-4e8f-93bf-3d208a6b3d8b",
   "metadata": {},
   "outputs": [
    {
     "data": {
      "text/plain": [
       "['H', 'e', 'l', 'l', 'o', ' ', 'w', 'o', 'r', 'l', 'd']"
      ]
     },
     "execution_count": 7,
     "metadata": {},
     "output_type": "execute_result"
    }
   ],
   "source": [
    "hw_list"
   ]
  },
  {
   "cell_type": "markdown",
   "id": "804f8d2d-7d40-4dc6-94ec-59e75ecf789b",
   "metadata": {},
   "source": [
    "**List Comprehension comes into make the above task easier to perform.**"
   ]
  },
  {
   "cell_type": "code",
   "execution_count": 8,
   "id": "c870042e-c4d6-4c30-86ff-f065a12bcf43",
   "metadata": {},
   "outputs": [],
   "source": [
    "# Take what's in the brackets and move it to be in front of the for statement.\n",
    "# Then this line of code becomes the entry into the square brackets for the new list created.\n",
    "\n",
    "hw_list=[letters for letters in hw_text]"
   ]
  },
  {
   "cell_type": "code",
   "execution_count": 9,
   "id": "5d80a565-56c5-43a6-af4e-d85cdf6a0301",
   "metadata": {},
   "outputs": [
    {
     "data": {
      "text/plain": [
       "['H', 'e', 'l', 'l', 'o', ' ', 'w', 'o', 'r', 'l', 'd']"
      ]
     },
     "execution_count": 9,
     "metadata": {},
     "output_type": "execute_result"
    }
   ],
   "source": [
    "hw_list"
   ]
  },
  {
   "cell_type": "markdown",
   "id": "58c4d8bd-116d-4ea4-aad0-bfa2f2e9f389",
   "metadata": {},
   "source": [
    "Voila!"
   ]
  },
  {
   "cell_type": "markdown",
   "id": "e5ab00c6-d1f0-4a92-87bb-655ef98e44ff",
   "metadata": {},
   "source": [
    "*Syntax*\n",
    "\n",
    "    element_name for same_element_name in iterable_variable"
   ]
  },
  {
   "cell_type": "code",
   "execution_count": 14,
   "id": "ddbef9f0-a54c-408a-b34e-3f45d96be315",
   "metadata": {},
   "outputs": [],
   "source": [
    "# The all the string methods apply to the element_names as they are in fact strings. But use them on the first element_name!\n",
    "# NB: Don't forget the empty brackets after the command.\n",
    "\n",
    "hw_list=[letters.upper() for letters in hw_text]"
   ]
  },
  {
   "cell_type": "code",
   "execution_count": 15,
   "id": "669b9389-cbbb-45a9-a7d5-9f01ecbca8fd",
   "metadata": {},
   "outputs": [
    {
     "data": {
      "text/plain": [
       "['H', 'E', 'L', 'L', 'O', ' ', 'W', 'O', 'R', 'L', 'D']"
      ]
     },
     "execution_count": 15,
     "metadata": {},
     "output_type": "execute_result"
    }
   ],
   "source": [
    "hw_list"
   ]
  }
 ],
 "metadata": {
  "kernelspec": {
   "display_name": "Python 3 (ipykernel)",
   "language": "python",
   "name": "python3"
  },
  "language_info": {
   "codemirror_mode": {
    "name": "ipython",
    "version": 3
   },
   "file_extension": ".py",
   "mimetype": "text/x-python",
   "name": "python",
   "nbconvert_exporter": "python",
   "pygments_lexer": "ipython3",
   "version": "3.8.18"
  }
 },
 "nbformat": 4,
 "nbformat_minor": 5
}
