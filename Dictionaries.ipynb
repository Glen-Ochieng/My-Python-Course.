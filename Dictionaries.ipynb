{
 "cells": [
  {
   "cell_type": "markdown",
   "id": "127eeecf-ff00-49ab-96fe-211b58bf63ea",
   "metadata": {},
   "source": [
    "Dictionaries store data in key value pairs. Simply put, think of it a key as a column and a value as an entry into that column.\n",
    "\n",
    "* Dictionaries must start and end in curly brackets.\n",
    "* Each pair must be seperated with a comma.\n",
    "* Usually most keys are string variables.\n",
    "* If both the key and value associated with the key are strings then both should be enclosed in quotation marks.\n",
    "* The values stored in a key value pair can be of different types.\n",
    "* Dictionaries are ordered(as of Python 3.7), mutable, and do not allow duplicates.\n",
    "\n",
    "*Syntax*\n",
    "\n",
    "dict_1={'key1': value1, 'key2', value2,...}\n",
    "\n",
    "dict_2={'key1':value1,'key2':[list_object], 'key3':dict_1}"
   ]
  },
  {
   "cell_type": "code",
   "execution_count": 13,
   "id": "b3ab2dd0-d267-442a-8124-4d4a54c28b1f",
   "metadata": {},
   "outputs": [],
   "source": [
    "dict_1={'brand':'Ford','cost':25000}"
   ]
  },
  {
   "cell_type": "code",
   "execution_count": 3,
   "id": "ef5ff428-5106-4644-92d9-9218677e6710",
   "metadata": {},
   "outputs": [
    {
     "data": {
      "text/plain": [
       "{'brand': 'Ford', 'cost': 25000}"
      ]
     },
     "execution_count": 3,
     "metadata": {},
     "output_type": "execute_result"
    }
   ],
   "source": [
    "dict_1"
   ]
  },
  {
   "cell_type": "code",
   "execution_count": 5,
   "id": "d8d9d52f-2ebb-4fae-8357-8bc6d6be2cd0",
   "metadata": {},
   "outputs": [
    {
     "data": {
      "text/plain": [
       "'Ford'"
      ]
     },
     "execution_count": 5,
     "metadata": {},
     "output_type": "execute_result"
    }
   ],
   "source": [
    "# To access a value, you just have to extract its key. For example, for the value Ford:\n",
    "dict_1['brand']"
   ]
  },
  {
   "cell_type": "code",
   "execution_count": 16,
   "id": "04b54133-c3f8-4533-b8d8-f51b92bc632d",
   "metadata": {},
   "outputs": [],
   "source": [
    "# We can change the brand from Ford to Audi\n",
    "dict_1['brand']='Audi'"
   ]
  },
  {
   "cell_type": "code",
   "execution_count": 17,
   "id": "b6cb2eaf-0bdb-4b8b-bb21-6596282b8ce0",
   "metadata": {},
   "outputs": [
    {
     "data": {
      "text/plain": [
       "{'brand': 'Audi', 'cost': 25000}"
      ]
     },
     "execution_count": 17,
     "metadata": {},
     "output_type": "execute_result"
    }
   ],
   "source": [
    "dict_1"
   ]
  },
  {
   "cell_type": "code",
   "execution_count": 18,
   "id": "1a75259b-f9ef-4e04-ac3b-7a7b5e8e6a88",
   "metadata": {},
   "outputs": [],
   "source": [
    "# With dictionaries adding new values is also quite easy. You simply reference the key \n",
    "# as if it were existing already then you want to alter the value to a new value.\n",
    "dict_1['transmission']='Manual'"
   ]
  },
  {
   "cell_type": "code",
   "execution_count": 19,
   "id": "fc7fb2c4-a74a-4b4c-8b9e-2bcebdc579e9",
   "metadata": {},
   "outputs": [
    {
     "data": {
      "text/plain": [
       "{'brand': 'Audi', 'cost': 25000, 'transmission': 'Manual'}"
      ]
     },
     "execution_count": 19,
     "metadata": {},
     "output_type": "execute_result"
    }
   ],
   "source": [
    "dict_1"
   ]
  },
  {
   "cell_type": "code",
   "execution_count": 21,
   "id": "2d0b9956-9f22-4a93-9f4e-6b142faebe4c",
   "metadata": {},
   "outputs": [],
   "source": [
    "# Let's try adding an embedded dictionary.\n",
    "dict_1['other_attributes']={'color':'Black','year':2021}"
   ]
  },
  {
   "cell_type": "code",
   "execution_count": 22,
   "id": "61e7b513-4537-4c6f-b245-e6c364d0ee8f",
   "metadata": {},
   "outputs": [
    {
     "data": {
      "text/plain": [
       "{'brand': 'Audi',\n",
       " 'cost': 25000,\n",
       " 'transmission': 'Manual',\n",
       " 'other_attributes': {'color': 'Black', 'year': 2021}}"
      ]
     },
     "execution_count": 22,
     "metadata": {},
     "output_type": "execute_result"
    }
   ],
   "source": [
    "dict_1"
   ]
  },
  {
   "cell_type": "code",
   "execution_count": 26,
   "id": "fdab30b7-4317-4b3c-a487-a09c01f3d32c",
   "metadata": {},
   "outputs": [
    {
     "data": {
      "text/plain": [
       "'Black'"
      ]
     },
     "execution_count": 26,
     "metadata": {},
     "output_type": "execute_result"
    }
   ],
   "source": [
    "# Same rules apply when referrencing an embedded object, just that this time of using indexes we use the keys \n",
    "# because this is a dictionary objects, for other objects revert back to index referring.\n",
    "dict_1['other_attributes']['color']"
   ]
  },
  {
   "cell_type": "code",
   "execution_count": 34,
   "id": "0d1db326-5ec0-48b6-8f29-acee1f89e086",
   "metadata": {},
   "outputs": [],
   "source": [
    "# Let's add a list\n",
    "dict_1['previous_owners']=['Mike','Shelly','Nitin']"
   ]
  },
  {
   "cell_type": "code",
   "execution_count": 35,
   "id": "e7b11281-9997-4b59-8318-39717ff11502",
   "metadata": {},
   "outputs": [
    {
     "data": {
      "text/plain": [
       "{'brand': 'Audi',\n",
       " 'cost': 25000,\n",
       " 'transmission': 'Manual',\n",
       " 'other_attributes': {'color': 'Black', 'year': 2021},\n",
       " 'previous_owners': ['Mike', 'Shelly', 'Nitin']}"
      ]
     },
     "execution_count": 35,
     "metadata": {},
     "output_type": "execute_result"
    }
   ],
   "source": [
    "dict_1"
   ]
  },
  {
   "cell_type": "code",
   "execution_count": 36,
   "id": "4788f889-765e-4f9f-b677-e5cab475cedc",
   "metadata": {},
   "outputs": [],
   "source": [
    "# We can even store these outputs as new variables and index those variables.\n",
    "x=dict_1['previous_owners']"
   ]
  },
  {
   "cell_type": "code",
   "execution_count": 37,
   "id": "aa47dcb3-e00b-48e7-86e0-f4b840426fd4",
   "metadata": {},
   "outputs": [
    {
     "data": {
      "text/plain": [
       "['Mike', 'Shelly', 'Nitin']"
      ]
     },
     "execution_count": 37,
     "metadata": {},
     "output_type": "execute_result"
    }
   ],
   "source": [
    "x"
   ]
  },
  {
   "cell_type": "code",
   "execution_count": 31,
   "id": "33409616-d41a-4bfc-979e-dad6e2bf5946",
   "metadata": {},
   "outputs": [
    {
     "data": {
      "text/plain": [
       "'Mike'"
      ]
     },
     "execution_count": 31,
     "metadata": {},
     "output_type": "execute_result"
    }
   ],
   "source": [
    "x[0]"
   ]
  },
  {
   "cell_type": "code",
   "execution_count": 32,
   "id": "8ec4872c-b341-44c0-86ef-b44e8e6f2e63",
   "metadata": {},
   "outputs": [
    {
     "data": {
      "text/plain": [
       "'Mike'"
      ]
     },
     "execution_count": 32,
     "metadata": {},
     "output_type": "execute_result"
    }
   ],
   "source": [
    "# We could have referrenced Mike directly from the dictionary. \n",
    "# <This time don't use keys as the embbeded object is a list not a dictionary.>\n",
    "dict_1['previous_owners'][0]"
   ]
  },
  {
   "cell_type": "markdown",
   "id": "0adc28d4-ac32-41b3-a00e-f89cc8132b8f",
   "metadata": {},
   "source": [
    " ### Dictionary Methods"
   ]
  },
  {
   "cell_type": "markdown",
   "id": "5cc26e9e-11dd-4f38-87b9-7568afb4b731",
   "metadata": {},
   "source": [
    "**<u> 1. pop()**\n",
    "\n",
    "Here the differences from the pop command in lists is that you have to specify the key to remove. Leaving it \n",
    "blank previously removed the last entry but with dictionaries, it will return an error message."
   ]
  },
  {
   "cell_type": "code",
   "execution_count": 38,
   "id": "09f90d80-92a2-4627-8c2d-7b3525514076",
   "metadata": {},
   "outputs": [
    {
     "data": {
      "text/plain": [
       "['Mike', 'Shelly', 'Nitin']"
      ]
     },
     "execution_count": 38,
     "metadata": {},
     "output_type": "execute_result"
    }
   ],
   "source": [
    "dict_1.pop('previous_owners')"
   ]
  },
  {
   "cell_type": "code",
   "execution_count": 39,
   "id": "4c098e73-7664-431c-9bc2-982771ffa4b5",
   "metadata": {},
   "outputs": [
    {
     "data": {
      "text/plain": [
       "{'brand': 'Audi',\n",
       " 'cost': 25000,\n",
       " 'transmission': 'Manual',\n",
       " 'other_attributes': {'color': 'Black', 'year': 2021}}"
      ]
     },
     "execution_count": 39,
     "metadata": {},
     "output_type": "execute_result"
    }
   ],
   "source": [
    "dict_1"
   ]
  },
  {
   "cell_type": "markdown",
   "id": "6263935f-058d-4929-8d0c-5efbf7ab20f9",
   "metadata": {},
   "source": [
    "**<u> 2. items()**\n",
    "\n",
    "Items returns all key value pairs in the dictionary object. It is like a view all command."
   ]
  },
  {
   "cell_type": "code",
   "execution_count": 40,
   "id": "4a885496-ba65-4b15-8391-121bb5dbc190",
   "metadata": {},
   "outputs": [
    {
     "data": {
      "text/plain": [
       "dict_items([('brand', 'Audi'), ('cost', 25000), ('transmission', 'Manual'), ('other_attributes', {'color': 'Black', 'year': 2021})])"
      ]
     },
     "execution_count": 40,
     "metadata": {},
     "output_type": "execute_result"
    }
   ],
   "source": [
    "dict_1.items()"
   ]
  },
  {
   "cell_type": "markdown",
   "id": "bbcdceb1-4a5f-4676-a7d0-9dadd0e03a65",
   "metadata": {},
   "source": [
    "The outputs have been returne as tuples."
   ]
  },
  {
   "cell_type": "markdown",
   "id": "a3199d31-f979-44a1-b6ce-f3fe3938d918",
   "metadata": {},
   "source": [
    "**<u> 3. keys()**\n",
    "\n",
    "This is a more condensed version of the items method. It returns a list of all the keys."
   ]
  },
  {
   "cell_type": "code",
   "execution_count": 41,
   "id": "c0f6592c-f46e-4edc-acfe-24af2dacf97f",
   "metadata": {},
   "outputs": [
    {
     "data": {
      "text/plain": [
       "dict_keys(['brand', 'cost', 'transmission', 'other_attributes'])"
      ]
     },
     "execution_count": 41,
     "metadata": {},
     "output_type": "execute_result"
    }
   ],
   "source": [
    "dict_1.keys()"
   ]
  },
  {
   "cell_type": "markdown",
   "id": "22e5c8e9-25b4-4009-8d8e-9d53cc38daa6",
   "metadata": {},
   "source": [
    "**<u> 4.values()**\n",
    "\n",
    "The values method in stead returns all the values."
   ]
  },
  {
   "cell_type": "code",
   "execution_count": 42,
   "id": "e9b5adc8-9e3d-4d3c-9b76-c71170dd2cf7",
   "metadata": {},
   "outputs": [
    {
     "data": {
      "text/plain": [
       "dict_values(['Audi', 25000, 'Manual', {'color': 'Black', 'year': 2021}])"
      ]
     },
     "execution_count": 42,
     "metadata": {},
     "output_type": "execute_result"
    }
   ],
   "source": [
    "dict_1.values()"
   ]
  }
 ],
 "metadata": {
  "kernelspec": {
   "display_name": "Python 3 (ipykernel)",
   "language": "python",
   "name": "python3"
  },
  "language_info": {
   "codemirror_mode": {
    "name": "ipython",
    "version": 3
   },
   "file_extension": ".py",
   "mimetype": "text/x-python",
   "name": "python",
   "nbconvert_exporter": "python",
   "pygments_lexer": "ipython3",
   "version": "3.8.18"
  }
 },
 "nbformat": 4,
 "nbformat_minor": 5
}
