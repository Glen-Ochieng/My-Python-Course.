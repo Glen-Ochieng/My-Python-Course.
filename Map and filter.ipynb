{
 "cells": [
  {
   "cell_type": "markdown",
   "id": "aeafd3d0-15da-4013-affe-73e610d7e6dd",
   "metadata": {},
   "source": [
    "The map function can apply a function to every element of an iterable object.\n",
    "\n",
    "*Syntax*\n",
    ">map(function_name_without_brackets, iterable_object)\n",
    "\n",
    "The functions can be built in or user_defined.\n",
    "\n",
    "The map function creates a map object which can be re-converted into the iterable object."
   ]
  },
  {
   "cell_type": "code",
   "execution_count": 4,
   "id": "85d1d8e5-33e0-453a-bdec-a4aff0c0cd81",
   "metadata": {},
   "outputs": [],
   "source": [
    "countries_list=['Argetina','United states','Uganda','Germany']"
   ]
  },
  {
   "cell_type": "code",
   "execution_count": 7,
   "id": "8be74de5-ba46-4381-98fc-367f380233cb",
   "metadata": {},
   "outputs": [
    {
     "data": {
      "text/plain": [
       "<map at 0x177620e7ac0>"
      ]
     },
     "execution_count": 7,
     "metadata": {},
     "output_type": "execute_result"
    }
   ],
   "source": [
    "# Using map to get the length of each element in the list\n",
    "map(len,countries_list)"
   ]
  },
  {
   "cell_type": "code",
   "execution_count": 6,
   "id": "41b2f043-0535-46f7-bf46-4656c68dad83",
   "metadata": {},
   "outputs": [
    {
     "data": {
      "text/plain": [
       "[8, 13, 6, 7]"
      ]
     },
     "execution_count": 6,
     "metadata": {},
     "output_type": "execute_result"
    }
   ],
   "source": [
    "# You can thereafter print the map output as an object of your chosing.Similar, to zip files.\n",
    "\n",
    "list(map(len,countries_list))"
   ]
  },
  {
   "cell_type": "code",
   "execution_count": 10,
   "id": "9c650dc1-b534-453e-99f4-e293b693b348",
   "metadata": {},
   "outputs": [
    {
     "name": "stdout",
     "output_type": "stream",
     "text": [
      "8\n",
      "13\n",
      "6\n",
      "7\n"
     ]
    }
   ],
   "source": [
    "# Maps can be run through loops as well\n",
    "\n",
    "for element in map(len,countries_list):\n",
    "    print(element)"
   ]
  },
  {
   "cell_type": "markdown",
   "id": "b3e980a7-beef-43f2-a7be-9d02e792353e",
   "metadata": {},
   "source": [
    "We can as well use map to chain functions, as shown above."
   ]
  },
  {
   "cell_type": "code",
   "execution_count": 11,
   "id": "ae4ba6f1-e9e3-4e16-a542-7b8400e5891a",
   "metadata": {},
   "outputs": [],
   "source": [
    "def return_len(x):\n",
    "    return f'{x}: {len(x)}'"
   ]
  },
  {
   "cell_type": "code",
   "execution_count": 13,
   "id": "75cc43de-d646-4c8a-8543-8ed5235c9268",
   "metadata": {},
   "outputs": [
    {
     "data": {
      "text/plain": [
       "<map at 0x17761f6f2e0>"
      ]
     },
     "execution_count": 13,
     "metadata": {},
     "output_type": "execute_result"
    }
   ],
   "source": [
    "map(return_len,countries_list)"
   ]
  },
  {
   "cell_type": "code",
   "execution_count": 14,
   "id": "6e413001-a683-4339-96a8-b69787811a12",
   "metadata": {},
   "outputs": [
    {
     "data": {
      "text/plain": [
       "['Argetina: 8', 'United states: 13', 'Uganda: 6', 'Germany: 7']"
      ]
     },
     "execution_count": 14,
     "metadata": {},
     "output_type": "execute_result"
    }
   ],
   "source": [
    "list(map(return_len,countries_list))"
   ]
  },
  {
   "cell_type": "code",
   "execution_count": 15,
   "id": "54e357f8-d996-4ae8-b211-cd713c1665b0",
   "metadata": {},
   "outputs": [
    {
     "data": {
      "text/plain": [
       "'hello: 5'"
      ]
     },
     "execution_count": 15,
     "metadata": {},
     "output_type": "execute_result"
    }
   ],
   "source": [
    "return_len('hello')"
   ]
  },
  {
   "cell_type": "markdown",
   "id": "37215069-152e-4544-8d68-e57ddd8f3193",
   "metadata": {},
   "source": [
    "### filter()\n",
    "\n",
    "It applies the function to the elements of the iterable object if the function returns True for that element otherwise if it returns False that element is dropped from the output.\n",
    "\n",
    "So the caviet, is you have to first make a function that returns True or False for an operation. This can be achieved by using comparison/logical operators.\n",
    "\n",
    "*Syntax*\n",
    "\n",
    ">filter(function_name_without_brackets, iterable_object)"
   ]
  },
  {
   "cell_type": "code",
   "execution_count": 16,
   "id": "572a48e1-f8d6-46da-be4e-3d9c742b8036",
   "metadata": {},
   "outputs": [],
   "source": [
    "countries_list=['Argetina','Mexico','Brasil',99]\n",
    "\n",
    "# So 99 is an error, and we want to remove it"
   ]
  },
  {
   "cell_type": "code",
   "execution_count": 21,
   "id": "348046b6-86bd-476e-803e-b0f76d727d0b",
   "metadata": {},
   "outputs": [],
   "source": [
    "def is_str(x):\n",
    "    return type(x)==str"
   ]
  },
  {
   "cell_type": "code",
   "execution_count": 22,
   "id": "cb4861e2-0235-4c55-b4ce-6060ea3fb2a2",
   "metadata": {},
   "outputs": [
    {
     "data": {
      "text/plain": [
       "False"
      ]
     },
     "execution_count": 22,
     "metadata": {},
     "output_type": "execute_result"
    }
   ],
   "source": [
    "is_str(2)"
   ]
  },
  {
   "cell_type": "code",
   "execution_count": 23,
   "id": "f91f6b3e-73c2-4570-9e16-4e86bc59aec4",
   "metadata": {},
   "outputs": [
    {
     "data": {
      "text/plain": [
       "True"
      ]
     },
     "execution_count": 23,
     "metadata": {},
     "output_type": "execute_result"
    }
   ],
   "source": [
    "is_str('hello')"
   ]
  },
  {
   "cell_type": "code",
   "execution_count": 24,
   "id": "305f5f50-b3ce-4d0b-9821-eeaf2661885f",
   "metadata": {},
   "outputs": [
    {
     "data": {
      "text/plain": [
       "<filter at 0x1776203ef10>"
      ]
     },
     "execution_count": 24,
     "metadata": {},
     "output_type": "execute_result"
    }
   ],
   "source": [
    "filter(is_str,countries_list)"
   ]
  },
  {
   "cell_type": "code",
   "execution_count": 25,
   "id": "97c3139c-bd59-4afa-8dd0-da4b2b0bacc8",
   "metadata": {},
   "outputs": [
    {
     "data": {
      "text/plain": [
       "['Argetina', 'Mexico', 'Brasil']"
      ]
     },
     "execution_count": 25,
     "metadata": {},
     "output_type": "execute_result"
    }
   ],
   "source": [
    "list(filter(is_str,countries_list))"
   ]
  },
  {
   "cell_type": "markdown",
   "id": "1c931fcc-4a03-460d-8a79-6d13710a829e",
   "metadata": {},
   "source": [
    "99 has been deleted from the output."
   ]
  }
 ],
 "metadata": {
  "kernelspec": {
   "display_name": "Python 3 (ipykernel)",
   "language": "python",
   "name": "python3"
  },
  "language_info": {
   "codemirror_mode": {
    "name": "ipython",
    "version": 3
   },
   "file_extension": ".py",
   "mimetype": "text/x-python",
   "name": "python",
   "nbconvert_exporter": "python",
   "pygments_lexer": "ipython3",
   "version": "3.8.18"
  }
 },
 "nbformat": 4,
 "nbformat_minor": 5
}
