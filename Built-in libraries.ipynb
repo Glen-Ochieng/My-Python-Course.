{
 "cells": [
  {
   "cell_type": "markdown",
   "id": "58feb321-77f6-4178-9520-be906b7d10f6",
   "metadata": {},
   "source": [
    "To access a built in library:\n",
    "\n",
    "*Syntax*\n",
    "\n",
    "import library_name"
   ]
  },
  {
   "cell_type": "code",
   "execution_count": 1,
   "id": "c7b4df75-a716-43cb-9846-aad7b54443a0",
   "metadata": {},
   "outputs": [],
   "source": [
    "import statistics"
   ]
  },
  {
   "cell_type": "code",
   "execution_count": 3,
   "id": "2bee612f-0c13-421c-8ae3-1a127136611d",
   "metadata": {},
   "outputs": [],
   "source": [
    "nums=[1,2,3,4,5]"
   ]
  },
  {
   "cell_type": "code",
   "execution_count": 4,
   "id": "e877922f-306c-4102-8aef-887b34fda218",
   "metadata": {},
   "outputs": [
    {
     "data": {
      "text/plain": [
       "3"
      ]
     },
     "execution_count": 4,
     "metadata": {},
     "output_type": "execute_result"
    }
   ],
   "source": [
    "# To use a package inside a library use the below syntax\n",
    "\n",
    "statistics.mean(nums)"
   ]
  },
  {
   "cell_type": "code",
   "execution_count": 5,
   "id": "0904b149-48f8-47a4-80bd-646f62d84ef5",
   "metadata": {},
   "outputs": [],
   "source": [
    "#If you wanted to import just a specific function/package to use in your session. You can use the below code\n",
    "\n",
    "from statistics import mean"
   ]
  },
  {
   "cell_type": "code",
   "execution_count": 6,
   "id": "c2266f9c-179c-4b93-8887-791bc00b4cf4",
   "metadata": {},
   "outputs": [
    {
     "data": {
      "text/plain": [
       "3"
      ]
     },
     "execution_count": 6,
     "metadata": {},
     "output_type": "execute_result"
    }
   ],
   "source": [
    "# Now, we can use the mean function for the rest of the session as if it were a built in function \n",
    "\n",
    "mean(nums)"
   ]
  },
  {
   "cell_type": "code",
   "execution_count": 7,
   "id": "8d534f80-eee2-4266-ad84-6c087842a9f1",
   "metadata": {},
   "outputs": [],
   "source": [
    "# You can also rename the library while you are importing it.\n",
    "\n",
    "import statistics as s"
   ]
  },
  {
   "cell_type": "code",
   "execution_count": 8,
   "id": "71936a50-51ef-4ebe-ab60-a77c4d932963",
   "metadata": {},
   "outputs": [
    {
     "data": {
      "text/plain": [
       "3"
      ]
     },
     "execution_count": 8,
     "metadata": {},
     "output_type": "execute_result"
    }
   ],
   "source": [
    "s.mean(nums)"
   ]
  }
 ],
 "metadata": {
  "kernelspec": {
   "display_name": "Python 3 (ipykernel)",
   "language": "python",
   "name": "python3"
  },
  "language_info": {
   "codemirror_mode": {
    "name": "ipython",
    "version": 3
   },
   "file_extension": ".py",
   "mimetype": "text/x-python",
   "name": "python",
   "nbconvert_exporter": "python",
   "pygments_lexer": "ipython3",
   "version": "3.8.18"
  }
 },
 "nbformat": 4,
 "nbformat_minor": 5
}
