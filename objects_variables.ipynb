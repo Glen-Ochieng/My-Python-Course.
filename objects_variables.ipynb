# To check the type of data object, we use the function type
type(1)
