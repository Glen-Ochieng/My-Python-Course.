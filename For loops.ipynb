{
 "cells": [
  {
   "cell_type": "code",
   "execution_count": 89,
   "id": "fcda2f35-e32c-4891-b605-64f006864307",
   "metadata": {},
   "outputs": [
    {
     "ename": "SyntaxError",
     "evalue": "invalid syntax (3825356926.py, line 1)",
     "output_type": "error",
     "traceback": [
      "\u001b[1;36m  Cell \u001b[1;32mIn[89], line 1\u001b[1;36m\u001b[0m\n\u001b[1;33m    jupyterlab --notebook-dir= C:/Users/ADMIN/Desktop/MY COURSES/PYTHON KNOWLEDGE/My Notes\u001b[0m\n\u001b[1;37m                                ^\u001b[0m\n\u001b[1;31mSyntaxError\u001b[0m\u001b[1;31m:\u001b[0m invalid syntax\n"
     ]
    }
   ],
   "source": [
    "jupyterlab --notebook-dir= C:/Users/ADMIN/Desktop/MY COURSES/PYTHON KNOWLEDGE/My Notes\n"
   ]
  },
  {
   "cell_type": "markdown",
   "id": "f68ada98-d9c8-465e-aa43-dfcf756c461a",
   "metadata": {},
   "source": [
    "For loops are used when you want make an algorithm that goes through every element is a variable and performs an operation on any one of them."
   ]
  },
  {
   "cell_type": "markdown",
   "id": "e6b40c4d-38a0-44f4-9b1b-8519bd07443a",
   "metadata": {},
   "source": [
    "*Syntax*\n",
    "\n",
    "for any_variable_name in the_object_containing_the_elements:\n",
    "\n",
    "     <blocks of code>\n",
    "\n",
    "**Again, remember the indentation**"
   ]
  },
  {
   "cell_type": "code",
   "execution_count": 2,
   "id": "394f4563-517b-4c88-a08f-5a0d7d031c84",
   "metadata": {},
   "outputs": [
    {
     "data": {
      "text/plain": [
       "[1, 2, 3, 4, 5]"
      ]
     },
     "execution_count": 2,
     "metadata": {},
     "output_type": "execute_result"
    }
   ],
   "source": [
    "list_1=[1,2,3,4,5]\n",
    "list_1"
   ]
  },
  {
   "cell_type": "code",
   "execution_count": 4,
   "id": "3e27f8c5-eef6-414c-8b68-9c582ddeb5da",
   "metadata": {},
   "outputs": [
    {
     "name": "stdout",
     "output_type": "stream",
     "text": [
      "1\n",
      "2\n",
      "3\n",
      "4\n",
      "5\n"
     ]
    }
   ],
   "source": [
    "# Using the typical'i' as my variable name.\n",
    "\n",
    "for i in list_1:\n",
    "    print(i)"
   ]
  },
  {
   "cell_type": "code",
   "execution_count": 5,
   "id": "11a77e22-d453-416b-90b4-29dbda4ec234",
   "metadata": {},
   "outputs": [
    {
     "name": "stdout",
     "output_type": "stream",
     "text": [
      "1\n",
      "2\n",
      "3\n",
      "4\n",
      "5\n"
     ]
    }
   ],
   "source": [
    "# I could use something else.\n",
    "for element in list_1:\n",
    "    print(element)"
   ]
  },
  {
   "cell_type": "code",
   "execution_count": 6,
   "id": "bd966ab6-2a4d-4b1e-ae1c-8e79e92fa525",
   "metadata": {},
   "outputs": [
    {
     "name": "stdout",
     "output_type": "stream",
     "text": [
      "Hello world\n",
      "Hello world\n",
      "Hello world\n",
      "Hello world\n",
      "Hello world\n"
     ]
    }
   ],
   "source": [
    "for element in list_1:\n",
    "    print('Hello world')"
   ]
  },
  {
   "cell_type": "code",
   "execution_count": 24,
   "id": "6b63ed8b-0223-4acd-a120-5344e63350c7",
   "metadata": {},
   "outputs": [
    {
     "data": {
      "text/plain": [
       "0"
      ]
     },
     "execution_count": 24,
     "metadata": {},
     "output_type": "execute_result"
    }
   ],
   "source": [
    "num=0\n",
    "num"
   ]
  },
  {
   "cell_type": "code",
   "execution_count": 16,
   "id": "a54a0002-0d24-4776-be7e-f1158455be89",
   "metadata": {},
   "outputs": [
    {
     "name": "stdout",
     "output_type": "stream",
     "text": [
      "0\n",
      "1\n",
      "2\n",
      "3\n",
      "4\n"
     ]
    }
   ],
   "source": [
    "# Now we will create a loop that adds 1 to every element in num 5 times\n",
    "\n",
    "for i in [1,2,3,4,5]:\n",
    "    print(num)\n",
    "    num=num+1"
   ]
  },
  {
   "cell_type": "code",
   "execution_count": 26,
   "id": "d2f953bd-72ae-4032-8b62-0c42e5e176d6",
   "metadata": {},
   "outputs": [
    {
     "name": "stdout",
     "output_type": "stream",
     "text": [
      "1\n",
      "2\n",
      "3\n",
      "4\n",
      "5\n"
     ]
    }
   ],
   "source": [
    "# # The ordering of the codes maters alot. \n",
    "# If the code 'num=num+1' came before the code 'print(num)' ,then the addition would occur before.\n",
    "\n",
    "num=0\n",
    "for i in range(1,6):\n",
    "    num=num+1\n",
    "    print(num)"
   ]
  },
  {
   "cell_type": "markdown",
   "id": "5bc40441-6eac-4db7-9f67-eac3ce1fce1b",
   "metadata": {},
   "source": [
    "**A cool shortcut of writing num=num+1 is num+=1. The change is the second num has been removed and the signs have been reversed. However, for easy of understanding it is just better to write it as it before.**"
   ]
  },
  {
   "cell_type": "code",
   "execution_count": 27,
   "id": "2e22c42a-b2e0-44a9-b215-739541123bce",
   "metadata": {},
   "outputs": [
    {
     "data": {
      "text/plain": [
       "[[1, 2], [3, 4], [5, 6]]"
      ]
     },
     "execution_count": 27,
     "metadata": {},
     "output_type": "execute_result"
    }
   ],
   "source": [
    "list_2=[[1,2],[3,4],[5,6]]\n",
    "list_2"
   ]
  },
  {
   "cell_type": "code",
   "execution_count": 28,
   "id": "c31133cf-0907-488b-8ab4-d647c665385f",
   "metadata": {},
   "outputs": [
    {
     "name": "stdout",
     "output_type": "stream",
     "text": [
      "[1, 2]\n",
      "[3, 4]\n",
      "[5, 6]\n"
     ]
    }
   ],
   "source": [
    "for i in list_2:\n",
    "    print(i)"
   ]
  },
  {
   "cell_type": "code",
   "execution_count": 29,
   "id": "d9874e56-1253-40a2-befa-cb3ef8a0d18b",
   "metadata": {},
   "outputs": [
    {
     "name": "stdout",
     "output_type": "stream",
     "text": [
      "1\n",
      "3\n",
      "5\n"
     ]
    }
   ],
   "source": [
    "# We can also bring out the first element from each embedded list.\n",
    "for i in list_2:\n",
    "    print(i[0])\n",
    "# Recall the indexing starts from 0.    "
   ]
  },
  {
   "cell_type": "code",
   "execution_count": 30,
   "id": "594190a8-10b8-4591-b672-f23dc39c0fe0",
   "metadata": {},
   "outputs": [
    {
     "name": "stdout",
     "output_type": "stream",
     "text": [
      "2\n",
      "4\n",
      "6\n"
     ]
    }
   ],
   "source": [
    "# To bring out the second element from each list\n",
    "for i in list_2:\n",
    "    print(i[1])\n"
   ]
  },
  {
   "cell_type": "code",
   "execution_count": 33,
   "id": "d83d4c6e-f1cc-4d4b-9ae4-3b78ff118fb8",
   "metadata": {},
   "outputs": [
    {
     "name": "stdout",
     "output_type": "stream",
     "text": [
      "1\n",
      "2\n",
      "3\n",
      "4\n",
      "5\n",
      "6\n"
     ]
    }
   ],
   "source": [
    "# To return all the individual elements from the list, we can combine the above execution codes.\n",
    "\n",
    "for i in list_2:\n",
    "    print(i[0])\n",
    "    print(i[1])"
   ]
  },
  {
   "cell_type": "markdown",
   "id": "d7d058ba-73cb-4406-9251-19a17bed04e3",
   "metadata": {},
   "source": [
    "The reason the output isn't 1,3,5 then 2,4,6 is because the code is executed in complete iterations. It starts at the top, goes all the way down then starts at the top again."
   ]
  },
  {
   "cell_type": "code",
   "execution_count": 34,
   "id": "8c7f2efa-277f-41c3-80b5-0f97a4184ad3",
   "metadata": {},
   "outputs": [
    {
     "name": "stdout",
     "output_type": "stream",
     "text": [
      "1\n",
      "2\n",
      "3\n",
      "4\n",
      "5\n",
      "6\n"
     ]
    }
   ],
   "source": [
    "# A more precise code would be to use a nested for loop whereby the first loop is for the elements i.e the lists\n",
    "# and the nested loop is for the elements inside the loop.\n",
    "# let's name the elements from the outward list x and the elements from the inner list y.\n",
    "\n",
    "for x in list_2:\n",
    "    for y in x:\n",
    "        print(y)"
   ]
  },
  {
   "cell_type": "code",
   "execution_count": 39,
   "id": "9243933e-f1fe-493a-9b27-5ba2d33c19a3",
   "metadata": {},
   "outputs": [
    {
     "name": "stdout",
     "output_type": "stream",
     "text": [
      "1\n",
      "2\n",
      "3\n",
      "4\n",
      "5\n",
      "6\n"
     ]
    }
   ],
   "source": [
    "# The is another method. It is referred to as unpacking. \n",
    "# This is where in stead of x/y/i we copy the format of the object as the variable name.\n",
    "\n",
    "for [a,b] in list_2:\n",
    "    print(a)\n",
    "    print(b)\n",
    "\n",
    "# The brackets are optional, but they simply serve as a reminder that the object is a list.\n",
    "#This method only works if all the elements occur in pairs in the list. \n",
    "# If we had a list in which the embedded lists contain varying number of elements e.g list_x=[[1,2],[2,2,3],[4]]\n",
    "# then this would not work"
   ]
  },
  {
   "cell_type": "code",
   "execution_count": 42,
   "id": "5289ba6d-522d-4592-9350-20529e4e4066",
   "metadata": {},
   "outputs": [
    {
     "name": "stdout",
     "output_type": "stream",
     "text": [
      "1\n",
      "2\n",
      "2\n",
      "2\n",
      "3\n",
      "4\n"
     ]
    }
   ],
   "source": [
    "# If we had such a list, then the nested for loop would be the go-to\n",
    "\n",
    "list_x=[[1,2],[2,2,3],[4]]\n",
    "\n",
    "for x in list_x:\n",
    "    for y in x:\n",
    "        print(y)\n"
   ]
  },
  {
   "cell_type": "markdown",
   "id": "7cc255b5-2265-4f14-90ef-4a74b5bf7b33",
   "metadata": {},
   "source": [
    "Aside from Lists tuples are also iterable."
   ]
  },
  {
   "cell_type": "code",
   "execution_count": 44,
   "id": "2c4f0b71-2e5a-4478-bbcc-c6e292e92220",
   "metadata": {},
   "outputs": [
    {
     "data": {
      "text/plain": [
       "(1, 2, 3, 4, 5)"
      ]
     },
     "execution_count": 44,
     "metadata": {},
     "output_type": "execute_result"
    }
   ],
   "source": [
    "tup_1=(1,2,3,4,5)\n",
    "tup_1"
   ]
  },
  {
   "cell_type": "code",
   "execution_count": 45,
   "id": "6a5a26d0-85e8-4bd0-9d87-14d4181042ab",
   "metadata": {},
   "outputs": [
    {
     "name": "stdout",
     "output_type": "stream",
     "text": [
      "1\n",
      "2\n",
      "3\n",
      "4\n",
      "5\n"
     ]
    }
   ],
   "source": [
    "for x in tup_1:\n",
    "    print(x)"
   ]
  },
  {
   "cell_type": "code",
   "execution_count": 48,
   "id": "03eef312-5018-4120-8775-4e1566b423ee",
   "metadata": {},
   "outputs": [
    {
     "name": "stdout",
     "output_type": "stream",
     "text": [
      "1\n",
      "2\n",
      "3\n",
      "4\n",
      "5\n",
      "6\n"
     ]
    }
   ],
   "source": [
    "tup_2=([1,2],[3,4],[5,6])\n",
    "\n",
    "for a,b in tup_2:\n",
    "    print(a)\n",
    "    print(b)\n"
   ]
  },
  {
   "cell_type": "code",
   "execution_count": 51,
   "id": "e8588767-13b4-437f-a44c-4edad557eac3",
   "metadata": {},
   "outputs": [
    {
     "name": "stdout",
     "output_type": "stream",
     "text": [
      "1\n",
      "2\n",
      "3\n",
      "4\n",
      "5\n",
      "6\n"
     ]
    }
   ],
   "source": [
    "List_2=[(1,2),[3,4],{5,6}]\n",
    "\n",
    "for a,b in List_2:\n",
    "    print(a)\n",
    "    print(b)"
   ]
  },
  {
   "cell_type": "code",
   "execution_count": 52,
   "id": "2ad939ed-de1d-434d-973f-7201dcfec9d2",
   "metadata": {},
   "outputs": [
    {
     "name": "stdout",
     "output_type": "stream",
     "text": [
      "desk\n",
      "tv\n",
      "sofa\n",
      "lamp\n"
     ]
    }
   ],
   "source": [
    "set_1={'desk','tv','sofa','lamp'}\n",
    "\n",
    "for i in set_1:\n",
    "    print(i)"
   ]
  },
  {
   "cell_type": "code",
   "execution_count": 53,
   "id": "1063d284-ba26-4a31-86d9-5b0af19589c1",
   "metadata": {},
   "outputs": [
    {
     "name": "stdout",
     "output_type": "stream",
     "text": [
      "H\n",
      "e\n",
      "l\n",
      "l\n",
      "o\n",
      " \n",
      "w\n",
      "o\n",
      "r\n",
      "l\n",
      "d\n"
     ]
    }
   ],
   "source": [
    "str_1='Hello world'\n",
    "for i in str_1:\n",
    "    print(i)"
   ]
  },
  {
   "cell_type": "code",
   "execution_count": 55,
   "id": "f0dc8617-8eb0-45c8-90ff-725b077bdf36",
   "metadata": {},
   "outputs": [
    {
     "name": "stdout",
     "output_type": "stream",
     "text": [
      "key_1\n",
      "key_2\n"
     ]
    }
   ],
   "source": [
    "dict_1={'key_1':'value_1','key_2':'value_2'}\n",
    "for i in dict_1:\n",
    "    print(i)"
   ]
  },
  {
   "cell_type": "markdown",
   "id": "4b161265-658b-45bc-ac32-e1ee3bdac779",
   "metadata": {},
   "source": [
    "We only get keys.\n",
    "\n",
    "Even if we tried unpacking where the variable_name is a:b, we would get an error message."
   ]
  },
  {
   "cell_type": "code",
   "execution_count": 58,
   "id": "9e801c86-d2fb-49be-9165-05d4ddc3565b",
   "metadata": {},
   "outputs": [],
   "source": [
    "# Thus to solve this problem we must transform the dict into the other above types of objects that are iterable\n",
    "x=tuple(dict_1)"
   ]
  },
  {
   "cell_type": "code",
   "execution_count": 61,
   "id": "b054bcab-a116-453c-bd1b-b0d721ae81c9",
   "metadata": {},
   "outputs": [
    {
     "data": {
      "text/plain": [
       "('key_1', 'key_2')"
      ]
     },
     "execution_count": 61,
     "metadata": {},
     "output_type": "execute_result"
    }
   ],
   "source": [
    "x"
   ]
  },
  {
   "cell_type": "markdown",
   "id": "9c288191-da55-4f2a-8ccf-967b4ff638f6",
   "metadata": {},
   "source": [
    "Direct transformation won't work"
   ]
  },
  {
   "cell_type": "code",
   "execution_count": 66,
   "id": "962cd7fa-a7f3-4a1a-9aff-0ebe3f10ae4e",
   "metadata": {},
   "outputs": [
    {
     "name": "stdout",
     "output_type": "stream",
     "text": [
      "key_1\n",
      "value_1\n",
      "key_2\n",
      "value_2\n"
     ]
    }
   ],
   "source": [
    "# To extract both keys and values then we must use the dictionary command examine\n",
    "dict_1.items()\n",
    "\n",
    "for i in dict_1.items():\n",
    "    print(i[0])\n",
    "    print(i[1])"
   ]
  },
  {
   "cell_type": "code",
   "execution_count": 67,
   "id": "b93ffd64-2b6b-4a6a-b99e-3348df93e468",
   "metadata": {},
   "outputs": [
    {
     "name": "stdout",
     "output_type": "stream",
     "text": [
      "key_1\n",
      "value_1\n",
      "key_2\n",
      "value_2\n"
     ]
    }
   ],
   "source": [
    "for a,b in dict_1.items():\n",
    "    print(a)\n",
    "    print(b)"
   ]
  },
  {
   "cell_type": "markdown",
   "id": "356eacfc-ffe6-424a-9395-4a52636994ea",
   "metadata": {},
   "source": [
    "### Combing if statements(control flow) and for loops"
   ]
  },
  {
   "cell_type": "code",
   "execution_count": 72,
   "id": "3c30ba3e-54d6-41fa-8a09-7a80e09ee016",
   "metadata": {},
   "outputs": [],
   "source": [
    "furniture=['sofa','desk','lamp','tv']"
   ]
  },
  {
   "cell_type": "code",
   "execution_count": 84,
   "id": "2bc8e448-3565-4deb-84b1-7cc5d2f0737f",
   "metadata": {},
   "outputs": [
    {
     "name": "stdout",
     "output_type": "stream",
     "text": [
      "not tv but sofa\n",
      "not tv but desk\n",
      "not tv but lamp\n",
      "tv\n"
     ]
    }
   ],
   "source": [
    "# print out only if the element is tv\n",
    "\n",
    "for i in furniture:\n",
    "    if i =='tv':\n",
    "        print (i) # remember this indent\n",
    "    else:\n",
    "        print('not tv '+ 'but '+ i)"
   ]
  },
  {
   "cell_type": "code",
   "execution_count": null,
   "id": "7ed754d2-0550-4a89-a522-2936f73e64c4",
   "metadata": {},
   "outputs": [],
   "source": []
  }
 ],
 "metadata": {
  "kernelspec": {
   "display_name": "Python 3 (ipykernel)",
   "language": "python",
   "name": "python3"
  },
  "language_info": {
   "codemirror_mode": {
    "name": "ipython",
    "version": 3
   },
   "file_extension": ".py",
   "mimetype": "text/x-python",
   "name": "python",
   "nbconvert_exporter": "python",
   "pygments_lexer": "ipython3",
   "version": "3.8.18"
  }
 },
 "nbformat": 4,
 "nbformat_minor": 5
}
