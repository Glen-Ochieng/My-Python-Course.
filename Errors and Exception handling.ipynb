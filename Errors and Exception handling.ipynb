{
 "cells": [
  {
   "cell_type": "markdown",
   "id": "05e36c74-0780-469d-9855-f3c3644d2d67",
   "metadata": {},
   "source": [
    "### <b> try except else finally \n",
    "\n",
    "*Syntax*\n",
    "\n",
    "* try:\n",
    "  \n",
    "        {indented block of code}\n",
    "* except:\n",
    "\n",
    "      {indented block of code}\n",
    "  \n",
    "* else\n",
    "\n",
    "      {indented block of code}\n",
    "* finally\n",
    "\n",
    "      {indented block of code}\n",
    "\n",
    "\n",
    "<u>try-except\n",
    "\n",
    "So these set of codes are used when you an encounter an error message. It tells python what to do next. The code version of \n",
    "the if elif else statements.\n",
    "\n",
    "So the original code is typed under try and if an error message occures then the code under except is run. You can have multiple except blocks.\n",
    "\n",
    "<u>try-else\n",
    "\n",
    "Here, if the original code under try works fine without an error message does not occur then the code under else is also run.\n",
    "\n",
    "<u>try_finally\n",
    "\n",
    "Whether or not you get an error message for the code under try, the code under finally will run.\n",
    "\n",
    "You can chain the try except else and finally blocks but in the that order specifically."
   ]
  },
  {
   "cell_type": "code",
   "execution_count": 7,
   "id": "51f35a9d-a209-4b63-9973-5adab8232da4",
   "metadata": {},
   "outputs": [
    {
     "name": "stdout",
     "output_type": "stream",
     "text": [
      "10.0\n"
     ]
    }
   ],
   "source": [
    "print(100/10)"
   ]
  },
  {
   "cell_type": "code",
   "execution_count": 5,
   "id": "e88e61a4-c0c9-495a-ab01-a7e347156a9f",
   "metadata": {},
   "outputs": [
    {
     "ename": "ZeroDivisionError",
     "evalue": "division by zero",
     "output_type": "error",
     "traceback": [
      "\u001b[1;31m---------------------------------------------------------------------------\u001b[0m",
      "\u001b[1;31mZeroDivisionError\u001b[0m                         Traceback (most recent call last)",
      "Cell \u001b[1;32mIn[5], line 1\u001b[0m\n\u001b[1;32m----> 1\u001b[0m \u001b[38;5;28mprint\u001b[39m(\u001b[38;5;241;43m100\u001b[39;49m\u001b[38;5;241;43m/\u001b[39;49m\u001b[38;5;241;43m0\u001b[39;49m)\n",
      "\u001b[1;31mZeroDivisionError\u001b[0m: division by zero"
     ]
    }
   ],
   "source": [
    "print(100/0)"
   ]
  },
  {
   "cell_type": "code",
   "execution_count": 9,
   "id": "4fd530c0-c2f7-4da7-96d7-809afd5ade47",
   "metadata": {},
   "outputs": [
    {
     "name": "stdout",
     "output_type": "stream",
     "text": [
      "something went wrong!\n"
     ]
    }
   ],
   "source": [
    "try:\n",
    "    print(100/0)\n",
    "except:\n",
    "    print('something went wrong!')"
   ]
  },
  {
   "cell_type": "code",
   "execution_count": 10,
   "id": "009e01fb-ca7e-4d6d-9819-a1894fc0dd34",
   "metadata": {},
   "outputs": [
    {
     "name": "stdout",
     "output_type": "stream",
     "text": [
      "25.0\n",
      "everything went well\n"
     ]
    }
   ],
   "source": [
    "try:\n",
    "    print(100/4)\n",
    "except:\n",
    "    print('something went wrong!')\n",
    "else:\n",
    "    print('everything went well')"
   ]
  },
  {
   "cell_type": "code",
   "execution_count": 11,
   "id": "95e60f41-dadc-461d-ad72-b6fd8b4b2bee",
   "metadata": {},
   "outputs": [
    {
     "name": "stdout",
     "output_type": "stream",
     "text": [
      "25.0\n",
      "everything went well\n",
      "This will always print\n"
     ]
    }
   ],
   "source": [
    "try:\n",
    "    print(100/4)\n",
    "except:\n",
    "    print('something went wrong!')\n",
    "else:\n",
    "    print('everything went well')\n",
    "finally:\n",
    "    print('This will always print')"
   ]
  },
  {
   "cell_type": "code",
   "execution_count": 13,
   "id": "52fb8883-b99c-4eea-928e-b4ef21ba7634",
   "metadata": {},
   "outputs": [
    {
     "name": "stdout",
     "output_type": "stream",
     "text": [
      "something went wrong!\n",
      "This will always print\n"
     ]
    }
   ],
   "source": [
    "try:\n",
    "    print(100/0)\n",
    "except:\n",
    "    print('something went wrong!')\n",
    "else:\n",
    "    print('everything went well')\n",
    "finally:\n",
    "    print('This will always print')"
   ]
  },
  {
   "cell_type": "code",
   "execution_count": 15,
   "id": "b85b3e54-da71-4c79-aa08-dff6c7ab165b",
   "metadata": {},
   "outputs": [
    {
     "name": "stdout",
     "output_type": "stream",
     "text": [
      "This will always print\n"
     ]
    },
    {
     "ename": "TypeError",
     "evalue": "unsupported operand type(s) for /: 'int' and 'str'",
     "output_type": "error",
     "traceback": [
      "\u001b[1;31m---------------------------------------------------------------------------\u001b[0m",
      "\u001b[1;31mTypeError\u001b[0m                                 Traceback (most recent call last)",
      "Cell \u001b[1;32mIn[15], line 2\u001b[0m\n\u001b[0;32m      1\u001b[0m \u001b[38;5;28;01mtry\u001b[39;00m:\n\u001b[1;32m----> 2\u001b[0m     \u001b[38;5;28mprint\u001b[39m(\u001b[38;5;241;43m100\u001b[39;49m\u001b[38;5;241;43m/\u001b[39;49m\u001b[38;5;124;43m'\u001b[39;49m\u001b[38;5;124;43mhey\u001b[39;49m\u001b[38;5;124;43m'\u001b[39;49m)\n\u001b[0;32m      3\u001b[0m \u001b[38;5;28;01mexcept\u001b[39;00m \u001b[38;5;167;01mZeroDivisionError\u001b[39;00m : \u001b[38;5;66;03m# it is possible to place the exact error besides except. This will result in python only\u001b[39;00m\n\u001b[0;32m      4\u001b[0m     \u001b[38;5;66;03m#checking for that specific error. If a different error occurs then the except code will fail and return the new error.\u001b[39;00m\n\u001b[0;32m      5\u001b[0m     \u001b[38;5;28mprint\u001b[39m(\u001b[38;5;124m'\u001b[39m\u001b[38;5;124myou cannot divide by zero\u001b[39m\u001b[38;5;124m'\u001b[39m)\n",
      "\u001b[1;31mTypeError\u001b[0m: unsupported operand type(s) for /: 'int' and 'str'"
     ]
    }
   ],
   "source": [
    "try:\n",
    "    print(100/'hey')\n",
    "except ZeroDivisionError : # it is possible to place the exact error besides except. This will result in python only\n",
    "    #checking for that specific error. If a different error occurs then the except code will fail and return the new error.\n",
    "    print('you cannot divide by zero')\n",
    "else:\n",
    "    print('everything went well')\n",
    "finally:\n",
    "    print('This will always print')"
   ]
  },
  {
   "cell_type": "markdown",
   "id": "124fe27d-58ef-49cd-8cfd-b974e214bb64",
   "metadata": {},
   "source": [
    "The new error is a TypeError"
   ]
  },
  {
   "cell_type": "code",
   "execution_count": 17,
   "id": "bd78f7fb-10c3-401e-8e31-23f2680506fa",
   "metadata": {},
   "outputs": [
    {
     "name": "stdout",
     "output_type": "stream",
     "text": [
      "you cannot divide by a non-integer!\n",
      "This will always print\n"
     ]
    }
   ],
   "source": [
    "# We can add the new error in the next except code\n",
    "\n",
    "try:\n",
    "    print(100/'hello')\n",
    "except ZeroDivisionError:\n",
    "    print('you cannot divide by 0!')\n",
    "except TypeError :\n",
    "    print('you cannot divide by a non-integer!')\n",
    "else:\n",
    "    print('everything went well')\n",
    "finally:\n",
    "    print('This will always print')"
   ]
  }
 ],
 "metadata": {
  "kernelspec": {
   "display_name": "Python 3 (ipykernel)",
   "language": "python",
   "name": "python3"
  },
  "language_info": {
   "codemirror_mode": {
    "name": "ipython",
    "version": 3
   },
   "file_extension": ".py",
   "mimetype": "text/x-python",
   "name": "python",
   "nbconvert_exporter": "python",
   "pygments_lexer": "ipython3",
   "version": "3.8.18"
  }
 },
 "nbformat": 4,
 "nbformat_minor": 5
}
