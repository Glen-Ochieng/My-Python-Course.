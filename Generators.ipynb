{
 "cells": [
  {
   "cell_type": "markdown",
   "id": "0731961d-880e-47d0-8309-ad7b504284bc",
   "metadata": {},
   "source": [
    "As you have noticed, the return statement terminates loops. One way to overcome this is to use generators. \n",
    "\n",
    "Generators transform ordinary functions into iterator functions."
   ]
  },
  {
   "cell_type": "code",
   "execution_count": 1,
   "id": "6aeb71a8-9e52-4d24-af48-907b92bc7e07",
   "metadata": {},
   "outputs": [],
   "source": [
    "names=['Sophie', 'Mark','Susan','Jerome','Roger','Sunita','Boris','Steve']"
   ]
  },
  {
   "cell_type": "code",
   "execution_count": 2,
   "id": "3cf49568-0766-4739-b950-4dd50de8817d",
   "metadata": {},
   "outputs": [],
   "source": [
    "def up_func(x):\n",
    "    for i in x:\n",
    "            return( i.upper())"
   ]
  },
  {
   "cell_type": "code",
   "execution_count": 3,
   "id": "f2cb649f-635b-4930-af66-f14cb6b74453",
   "metadata": {},
   "outputs": [
    {
     "data": {
      "text/plain": [
       "'SOPHIE'"
      ]
     },
     "execution_count": 3,
     "metadata": {},
     "output_type": "execute_result"
    }
   ],
   "source": [
    "up_func(names)"
   ]
  },
  {
   "cell_type": "markdown",
   "id": "04356007-84c1-405e-8d3a-0a93890a4e1a",
   "metadata": {},
   "source": [
    "We only get the result of one cycle. Let's replace the return statement with a yield statement which is the code for creating a generator. "
   ]
  },
  {
   "cell_type": "code",
   "execution_count": 4,
   "id": "67178dcb-07fe-433b-b56e-3344c9d8ef2e",
   "metadata": {},
   "outputs": [],
   "source": [
    "def up_func(x):\n",
    "    for i in x:\n",
    "            yield( i.upper()) # the brackets are optional, yield i.upper() would have worked"
   ]
  },
  {
   "cell_type": "code",
   "execution_count": 5,
   "id": "1c4c836d-1a27-43df-968e-6b9507c0b07f",
   "metadata": {},
   "outputs": [
    {
     "data": {
      "text/plain": [
       "<generator object up_func at 0x000001A142DC1510>"
      ]
     },
     "execution_count": 5,
     "metadata": {},
     "output_type": "execute_result"
    }
   ],
   "source": [
    "up_func(names)"
   ]
  },
  {
   "cell_type": "code",
   "execution_count": 6,
   "id": "d325661e-129c-4a23-930d-f57e499477d7",
   "metadata": {},
   "outputs": [
    {
     "data": {
      "text/plain": [
       "['SOPHIE', 'MARK', 'SUSAN', 'JEROME', 'ROGER', 'SUNITA', 'BORIS', 'STEVE']"
      ]
     },
     "execution_count": 6,
     "metadata": {},
     "output_type": "execute_result"
    }
   ],
   "source": [
    "list(up_func(names))"
   ]
  }
 ],
 "metadata": {
  "kernelspec": {
   "display_name": "Python 3 (ipykernel)",
   "language": "python",
   "name": "python3"
  },
  "language_info": {
   "codemirror_mode": {
    "name": "ipython",
    "version": 3
   },
   "file_extension": ".py",
   "mimetype": "text/x-python",
   "name": "python",
   "nbconvert_exporter": "python",
   "pygments_lexer": "ipython3",
   "version": "3.8.18"
  }
 },
 "nbformat": 4,
 "nbformat_minor": 5
}
