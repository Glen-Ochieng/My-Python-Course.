{
 "cells": [
  {
   "cell_type": "markdown",
   "id": "3240c123-81ed-4c07-8d47-d3fd300f45e2",
   "metadata": {},
   "source": [
    "Tuples just like lists allow you to store multiple values and them be of different data types.They, however store multiple items into a single variable.\n",
    "\n",
    "* Tuples are enclosed inside round brackets i.e the usual brackets.\n",
    "* Tuples are ordered.\n",
    "* Tuples are immutable(This is the major difference between lists and tuples).\n"
   ]
  },
  {
   "cell_type": "code",
   "execution_count": 1,
   "id": "34b85d6b-c2ce-4626-be53-1bd9e5c618a7",
   "metadata": {},
   "outputs": [],
   "source": [
    "x=(1,2,2,3)"
   ]
  },
  {
   "cell_type": "code",
   "execution_count": 3,
   "id": "1ac39b1b-7b9c-4568-a5cc-e60f33e5bb87",
   "metadata": {},
   "outputs": [
    {
     "data": {
      "text/plain": [
       "(1, 2, 2, 3)"
      ]
     },
     "execution_count": 3,
     "metadata": {},
     "output_type": "execute_result"
    }
   ],
   "source": [
    "x"
   ]
  },
  {
   "cell_type": "code",
   "execution_count": 4,
   "id": "cfafdb68-3d46-4c1a-b743-398578f9af9d",
   "metadata": {},
   "outputs": [
    {
     "data": {
      "text/plain": [
       "tuple"
      ]
     },
     "execution_count": 4,
     "metadata": {},
     "output_type": "execute_result"
    }
   ],
   "source": [
    "type(x)"
   ]
  },
  {
   "cell_type": "code",
   "execution_count": 6,
   "id": "7bef1687-7fc9-4a85-82bd-88f484d26d83",
   "metadata": {},
   "outputs": [],
   "source": [
    "x=(1,'John',[1,2,3],{'key1','value1'})"
   ]
  },
  {
   "cell_type": "code",
   "execution_count": 7,
   "id": "bea0a06c-479a-4bfe-8bc4-adf5c72bef3b",
   "metadata": {},
   "outputs": [
    {
     "data": {
      "text/plain": [
       "(1, 'John', [1, 2, 3], {'key1', 'value1'})"
      ]
     },
     "execution_count": 7,
     "metadata": {},
     "output_type": "execute_result"
    }
   ],
   "source": [
    "x"
   ]
  },
  {
   "cell_type": "code",
   "execution_count": 8,
   "id": "ef00dcfb-b1f9-4ef5-a24b-35fa6c458ad4",
   "metadata": {},
   "outputs": [
    {
     "data": {
      "text/plain": [
       "tuple"
      ]
     },
     "execution_count": 8,
     "metadata": {},
     "output_type": "execute_result"
    }
   ],
   "source": [
    "type(x)"
   ]
  },
  {
   "cell_type": "code",
   "execution_count": 9,
   "id": "adcf18a4-0ffd-4256-a09c-f111bc00b78a",
   "metadata": {},
   "outputs": [
    {
     "data": {
      "text/plain": [
       "3"
      ]
     },
     "execution_count": 9,
     "metadata": {},
     "output_type": "execute_result"
    }
   ],
   "source": [
    "# Some indexing as usual \n",
    "x[2][2]"
   ]
  },
  {
   "cell_type": "markdown",
   "id": "47379efa-0360-4b3e-b9c2-4d33c8cf22d9",
   "metadata": {},
   "source": [
    " ### Tuple methods"
   ]
  },
  {
   "cell_type": "markdown",
   "id": "69d1ebad-031f-43e9-9036-cfca7eb170cf",
   "metadata": {},
   "source": [
    "Tuples only have two methods: count and index"
   ]
  },
  {
   "cell_type": "markdown",
   "id": "fe03ec33-fe82-4624-bcde-10b56218e65f",
   "metadata": {},
   "source": [
    "**<u> 1. count()**\n",
    "\n",
    "Returns the total amount of times an element appears in a tuple.\n",
    "\n",
    "*Syntax*\n",
    "\n",
    "tuple_name.count(variable_you_wish_to_count)\n",
    "\n",
    "##### *However, be careful if the entries are lists/tuples/dictionaries as their subentries are not considered as the entry is considered as one item i.e. if a value appears in the tuple as an element and also appears again inside the embbed object, its second appearance might be disregarded.*"
   ]
  },
  {
   "cell_type": "code",
   "execution_count": 13,
   "id": "baac1471-22f7-445f-aa8d-ed035e96e498",
   "metadata": {},
   "outputs": [
    {
     "data": {
      "text/plain": [
       "(1, 'John', [1, 2, 3], {'key1', 'value1'})"
      ]
     },
     "execution_count": 13,
     "metadata": {},
     "output_type": "execute_result"
    }
   ],
   "source": [
    "x"
   ]
  },
  {
   "cell_type": "code",
   "execution_count": 14,
   "id": "cf36e063-e9d2-46d7-91d5-ae049c20876b",
   "metadata": {},
   "outputs": [
    {
     "data": {
      "text/plain": [
       "1"
      ]
     },
     "execution_count": 14,
     "metadata": {},
     "output_type": "execute_result"
    }
   ],
   "source": [
    "x.count('John')"
   ]
  },
  {
   "cell_type": "code",
   "execution_count": 16,
   "id": "89a9235a-9c59-4a35-8184-2d60e5ba7340",
   "metadata": {},
   "outputs": [
    {
     "data": {
      "text/plain": [
       "1"
      ]
     },
     "execution_count": 16,
     "metadata": {},
     "output_type": "execute_result"
    }
   ],
   "source": [
    "x.count(1)"
   ]
  },
  {
   "cell_type": "code",
   "execution_count": null,
   "id": "d6732f7c-2027-4ac2-b547-7e7a5a096850",
   "metadata": {},
   "outputs": [],
   "source": [
    "x.count([1,2,3])"
   ]
  },
  {
   "cell_type": "code",
   "execution_count": 17,
   "id": "e7ad4446-f21d-4d84-a857-6747d6664d0d",
   "metadata": {},
   "outputs": [],
   "source": [
    "y=(1,1,1,2,3,3,3,3)"
   ]
  },
  {
   "cell_type": "code",
   "execution_count": 18,
   "id": "c1c93927-a8c3-44f0-b70d-268085994789",
   "metadata": {},
   "outputs": [
    {
     "data": {
      "text/plain": [
       "3"
      ]
     },
     "execution_count": 18,
     "metadata": {},
     "output_type": "execute_result"
    }
   ],
   "source": [
    "y.count(1)"
   ]
  },
  {
   "cell_type": "markdown",
   "id": "613c4355-d0eb-4bb3-9088-7d225ec8dd3e",
   "metadata": {},
   "source": [
    "**<u> 3. index()**\n",
    "\n",
    "The index method specificies the position of the **first** occurence of an element in the tuple."
   ]
  },
  {
   "cell_type": "code",
   "execution_count": 19,
   "id": "b7f8921a-2b1e-4359-afaf-fecafe323ce3",
   "metadata": {},
   "outputs": [
    {
     "data": {
      "text/plain": [
       "0"
      ]
     },
     "execution_count": 19,
     "metadata": {},
     "output_type": "execute_result"
    }
   ],
   "source": [
    "y.index(1)"
   ]
  },
  {
   "cell_type": "code",
   "execution_count": 20,
   "id": "c91f74d1-b57f-4011-a962-3622294288c1",
   "metadata": {},
   "outputs": [
    {
     "data": {
      "text/plain": [
       "3"
      ]
     },
     "execution_count": 20,
     "metadata": {},
     "output_type": "execute_result"
    }
   ],
   "source": [
    "y.index(2)"
   ]
  }
 ],
 "metadata": {
  "kernelspec": {
   "display_name": "Python 3 (ipykernel)",
   "language": "python",
   "name": "python3"
  },
  "language_info": {
   "codemirror_mode": {
    "name": "ipython",
    "version": 3
   },
   "file_extension": ".py",
   "mimetype": "text/x-python",
   "name": "python",
   "nbconvert_exporter": "python",
   "pygments_lexer": "ipython3",
   "version": "3.8.18"
  }
 },
 "nbformat": 4,
 "nbformat_minor": 5
}
