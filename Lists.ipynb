{
 "cells": [
  {
   "cell_type": "markdown",
   "id": "e87e7f21-c48e-43f4-93f9-250667a60112",
   "metadata": {},
   "source": [
    "#### Background\n",
    "Lists are great because they allow you to have a variable that can store a mixture of different data types. \n",
    "This is the main difference between lists and matrixes and arrays.\n",
    "\n",
    "Lists can also contain duplicate elements.\n",
    "\n",
    "*Syntax*\n",
    "\n",
    "List_name=[obj1,obj2,etc] \n",
    "\n",
    "* where every object is separated by a comma."
   ]
  },
  {
   "cell_type": "code",
   "execution_count": 147,
   "id": "d95703db-7b2b-4c53-8405-8f05c5c9292f",
   "metadata": {},
   "outputs": [
    {
     "data": {
      "text/plain": [
       "[2, 17, 18, 19, 20]"
      ]
     },
     "execution_count": 147,
     "metadata": {},
     "output_type": "execute_result"
    }
   ],
   "source": [
    "List_1=[2,17,18,19,20]\n",
    "List_1"
   ]
  },
  {
   "cell_type": "code",
   "execution_count": 148,
   "id": "a2d7d44c-6ec4-4625-8e83-fee6bdd8b341",
   "metadata": {},
   "outputs": [
    {
     "data": {
      "text/plain": [
       "['Jon', 'Hugo', 'Rickesh', 'Anita']"
      ]
     },
     "execution_count": 148,
     "metadata": {},
     "output_type": "execute_result"
    }
   ],
   "source": [
    "List_2=['Jon','Hugo','Rickesh','Anita']\n",
    "List_2"
   ]
  },
  {
   "cell_type": "code",
   "execution_count": 149,
   "id": "2efdb383-e4bf-475a-8e3a-8e3e962f6e82",
   "metadata": {},
   "outputs": [
    {
     "data": {
      "text/plain": [
       "['John', 17, 'Rickesh', 20]"
      ]
     },
     "execution_count": 149,
     "metadata": {},
     "output_type": "execute_result"
    }
   ],
   "source": [
    "list_3=['John', 17,'Rickesh', 20]\n",
    "list_3"
   ]
  },
  {
   "cell_type": "code",
   "execution_count": 150,
   "id": "ba0e7642-18c4-43c7-b2d2-9afdf6a7b706",
   "metadata": {},
   "outputs": [
    {
     "data": {
      "text/plain": [
       "'John'"
      ]
     },
     "execution_count": 150,
     "metadata": {},
     "output_type": "execute_result"
    }
   ],
   "source": [
    "# Indexing can occur just as usual\n",
    "list_3[0]"
   ]
  },
  {
   "cell_type": "code",
   "execution_count": 151,
   "id": "61a4ee08-3339-4760-a17d-d6859e8d2799",
   "metadata": {},
   "outputs": [
    {
     "data": {
      "text/plain": [
       "19"
      ]
     },
     "execution_count": 151,
     "metadata": {},
     "output_type": "execute_result"
    }
   ],
   "source": [
    "# Try to return the value 19 from List_1\n",
    "List_1[3]"
   ]
  },
  {
   "cell_type": "code",
   "execution_count": 152,
   "id": "861654c6-5920-49ec-bd05-2f45f1cf0f81",
   "metadata": {},
   "outputs": [
    {
     "data": {
      "text/plain": [
       "19"
      ]
     },
     "execution_count": 152,
     "metadata": {},
     "output_type": "execute_result"
    }
   ],
   "source": [
    "List_1[-2]"
   ]
  },
  {
   "cell_type": "code",
   "execution_count": 154,
   "id": "1fbf52c3-4dac-4b5f-83b0-95efeebd2e78",
   "metadata": {},
   "outputs": [],
   "source": [
    "# To slice(extract multiple elements then recall the syntax used in string slicing)\n",
    "# string[start,stop,count]- where stop is the value next over from where you want to actually stop."
   ]
  },
  {
   "cell_type": "code",
   "execution_count": 155,
   "id": "d1498f99-448c-4902-9764-432d3710d644",
   "metadata": {},
   "outputs": [
    {
     "data": {
      "text/plain": [
       "[2, 17, 18, 19, 20]"
      ]
     },
     "execution_count": 155,
     "metadata": {},
     "output_type": "execute_result"
    }
   ],
   "source": [
    "List_1"
   ]
  },
  {
   "cell_type": "code",
   "execution_count": 156,
   "id": "9a57dcd1-37b1-4f25-9eff-ff5f5ec8d724",
   "metadata": {},
   "outputs": [
    {
     "data": {
      "text/plain": [
       "[17, 18, 19]"
      ]
     },
     "execution_count": 156,
     "metadata": {},
     "output_type": "execute_result"
    }
   ],
   "source": [
    "# To get 17,18 and 19\n",
    "\n",
    "List_1[1:4]"
   ]
  },
  {
   "cell_type": "code",
   "execution_count": 157,
   "id": "bc95ba2d-a019-4322-ab89-495e4cc24e40",
   "metadata": {},
   "outputs": [
    {
     "data": {
      "text/plain": [
       "list"
      ]
     },
     "execution_count": 157,
     "metadata": {},
     "output_type": "execute_result"
    }
   ],
   "source": [
    "# The specific elements inside a list retain their data type format. \n",
    "type(List_1)"
   ]
  },
  {
   "cell_type": "code",
   "execution_count": 158,
   "id": "c6cc70ea-350d-4c9a-a16f-00cfb6a91be5",
   "metadata": {},
   "outputs": [
    {
     "data": {
      "text/plain": [
       "int"
      ]
     },
     "execution_count": 158,
     "metadata": {},
     "output_type": "execute_result"
    }
   ],
   "source": [
    "type(List_1[3]) "
   ]
  },
  {
   "cell_type": "code",
   "execution_count": 159,
   "id": "9f221290-5e20-4871-8a2c-3655cb0beb26",
   "metadata": {},
   "outputs": [],
   "source": [
    "#The 3rd index in List_1 is 19, which of course is an integer."
   ]
  },
  {
   "cell_type": "markdown",
   "id": "31d20a8e-7481-48aa-978d-9b7f6256377f",
   "metadata": {},
   "source": [
    "Lists not only store other data types, you can also store a list inside another list i.e. an embedded list"
   ]
  },
  {
   "cell_type": "code",
   "execution_count": 160,
   "id": "0449a8c6-c207-481d-8e3e-22fd08b66499",
   "metadata": {},
   "outputs": [],
   "source": [
    "list_4=['x','y',list_3]"
   ]
  },
  {
   "cell_type": "code",
   "execution_count": 161,
   "id": "7d9a3552-b357-4523-b0c1-8e11c46a13d5",
   "metadata": {},
   "outputs": [
    {
     "data": {
      "text/plain": [
       "['x', 'y', ['John', 17, 'Rickesh', 20]]"
      ]
     },
     "execution_count": 161,
     "metadata": {},
     "output_type": "execute_result"
    }
   ],
   "source": [
    "list_4"
   ]
  },
  {
   "cell_type": "code",
   "execution_count": 162,
   "id": "7d494120-7d61-4464-b0ed-5eff7bab6008",
   "metadata": {},
   "outputs": [
    {
     "data": {
      "text/plain": [
       "'y'"
      ]
     },
     "execution_count": 162,
     "metadata": {},
     "output_type": "execute_result"
    }
   ],
   "source": [
    "# Something to note is that now in terms of indexing, the entire inner list is regarded as one index.\n",
    "list_4[1]"
   ]
  },
  {
   "cell_type": "code",
   "execution_count": 163,
   "id": "855ec665-6766-4684-b863-fb2fff72e22b",
   "metadata": {},
   "outputs": [
    {
     "data": {
      "text/plain": [
       "['John', 17, 'Rickesh', 20]"
      ]
     },
     "execution_count": 163,
     "metadata": {},
     "output_type": "execute_result"
    }
   ],
   "source": [
    "list_4[2]"
   ]
  },
  {
   "cell_type": "code",
   "execution_count": 164,
   "id": "36dbf18a-7f89-40b9-b6fd-414aeee82c9f",
   "metadata": {},
   "outputs": [
    {
     "data": {
      "text/plain": [
       "'Rickesh'"
      ]
     },
     "execution_count": 164,
     "metadata": {},
     "output_type": "execute_result"
    }
   ],
   "source": [
    "# What if we wish to index Rickesh, the third value(second index) of the embedded list?\n",
    "list_4[2][2]"
   ]
  },
  {
   "cell_type": "code",
   "execution_count": 165,
   "id": "d6a6f417-66df-476d-8e9e-910566fda622",
   "metadata": {},
   "outputs": [
    {
     "data": {
      "text/plain": [
       "17"
      ]
     },
     "execution_count": 165,
     "metadata": {},
     "output_type": "execute_result"
    }
   ],
   "source": [
    "# Similarly, to return the value 17\n",
    "list_4[2][1]"
   ]
  },
  {
   "cell_type": "code",
   "execution_count": 166,
   "id": "86b0e482-455d-47c1-b293-6fe0520d4d06",
   "metadata": {},
   "outputs": [
    {
     "data": {
      "text/plain": [
       "17"
      ]
     },
     "execution_count": 166,
     "metadata": {},
     "output_type": "execute_result"
    }
   ],
   "source": [
    "# This is a shortcut from the orthodox way of extracting the embedded list, saving it as a new variable \n",
    "# and then quering from the new variable.\n",
    "element_2=list_4[2]\n",
    "element_2[1]"
   ]
  },
  {
   "cell_type": "markdown",
   "id": "e29c36ff-9840-4533-8884-c20342233b89",
   "metadata": {},
   "source": [
    "### Lists are mutable. \n",
    "Unlike strings, you can replace directly by indexing individual elements of a string. \n",
    "\n",
    "*Recall: for strings you had to use the replace method*"
   ]
  },
  {
   "cell_type": "code",
   "execution_count": 167,
   "id": "bb3af782-1445-421c-9971-98dc16ec2f4f",
   "metadata": {},
   "outputs": [
    {
     "data": {
      "text/plain": [
       "[2, 17, 18, 19, 20]"
      ]
     },
     "execution_count": 167,
     "metadata": {},
     "output_type": "execute_result"
    }
   ],
   "source": [
    "List_1"
   ]
  },
  {
   "cell_type": "code",
   "execution_count": 168,
   "id": "77e8c07a-9d1b-4cc5-aceb-3b7c9411a35f",
   "metadata": {},
   "outputs": [],
   "source": [
    "# Lets change 20 to be HELLO\n",
    "List_1[4]='HELLO'"
   ]
  },
  {
   "cell_type": "code",
   "execution_count": 169,
   "id": "7d26d67c-7b08-4b37-badc-432067b3cfb1",
   "metadata": {},
   "outputs": [
    {
     "data": {
      "text/plain": [
       "[2, 17, 18, 19, 'HELLO']"
      ]
     },
     "execution_count": 169,
     "metadata": {},
     "output_type": "execute_result"
    }
   ],
   "source": [
    "List_1"
   ]
  },
  {
   "cell_type": "markdown",
   "id": "455c1224-d0f1-41ce-a29e-a440b5b35211",
   "metadata": {},
   "source": [
    "### List Methods\n",
    "\n",
    "To acess list methods dropdown, you use the same trick of: \n",
    "\n",
    "datatype.{Press Tab}"
   ]
  },
  {
   "attachments": {
    "45514504-ddd5-4bfe-bb9b-8124094ec4d0.png": {
     "image/png": "[encoded data removed]"
    }
   },
   "cell_type": "markdown",
   "id": "796cc499-04ea-45fe-8842-badf6df92805",
   "metadata": {},
   "source": [
    "![image.png](attachment:45514504-ddd5-4bfe-bb9b-8124094ec4d0.png)"
   ]
  },
  {
   "cell_type": "markdown",
   "id": "bb214bfa-74e7-42c4-b9b8-02a1f3974e7a",
   "metadata": {},
   "source": [
    "1. **<u> append()**\n",
    "\n",
    "This adds an element to the end of a list."
   ]
  },
  {
   "cell_type": "code",
   "execution_count": 170,
   "id": "c1b28c8b-0a9c-41a4-85d4-847376740efa",
   "metadata": {},
   "outputs": [
    {
     "data": {
      "text/plain": [
       "[2, 17, 18, 19, 'HELLO']"
      ]
     },
     "execution_count": 170,
     "metadata": {},
     "output_type": "execute_result"
    }
   ],
   "source": [
    "List_1"
   ]
  },
  {
   "cell_type": "code",
   "execution_count": 171,
   "id": "3f09f153-9667-456b-8f7a-742470afc530",
   "metadata": {},
   "outputs": [],
   "source": [
    "List_1.append('Goodbye')"
   ]
  },
  {
   "cell_type": "code",
   "execution_count": 172,
   "id": "961819f4-6771-427a-ac1f-207eeb88292e",
   "metadata": {},
   "outputs": [
    {
     "data": {
      "text/plain": [
       "[2, 17, 18, 19, 'HELLO', 'Goodbye']"
      ]
     },
     "execution_count": 172,
     "metadata": {},
     "output_type": "execute_result"
    }
   ],
   "source": [
    "List_1"
   ]
  },
  {
   "cell_type": "code",
   "execution_count": 173,
   "id": "e0950f34-378d-4929-aa5a-2dd937838f88",
   "metadata": {},
   "outputs": [
    {
     "data": {
      "text/plain": [
       "['Jon', 'Hugo', 'Rickesh', 'Anita']"
      ]
     },
     "execution_count": 173,
     "metadata": {},
     "output_type": "execute_result"
    }
   ],
   "source": [
    "List_2"
   ]
  },
  {
   "cell_type": "code",
   "execution_count": 174,
   "id": "1f857865-c927-4147-99cd-603e092165e9",
   "metadata": {},
   "outputs": [],
   "source": [
    "#You can even append lists into each other. \n",
    "List_1.append(List_2)"
   ]
  },
  {
   "cell_type": "code",
   "execution_count": 175,
   "id": "2560c83d-16e4-4813-950a-cc0e993773f2",
   "metadata": {},
   "outputs": [
    {
     "data": {
      "text/plain": [
       "[2, 17, 18, 19, 'HELLO', 'Goodbye', ['Jon', 'Hugo', 'Rickesh', 'Anita']]"
      ]
     },
     "execution_count": 175,
     "metadata": {},
     "output_type": "execute_result"
    }
   ],
   "source": [
    "List_1"
   ]
  },
  {
   "cell_type": "markdown",
   "id": "bf8d3b3e-a9e6-4314-9a18-f436fafc59fb",
   "metadata": {},
   "source": [
    " However, you can join individual elements of the second list to the first list using the extend method."
   ]
  },
  {
   "cell_type": "code",
   "execution_count": 176,
   "id": "1fc1ea42-ca70-4157-8454-410d5629e2a8",
   "metadata": {},
   "outputs": [],
   "source": [
    "List_1.extend(List_2)"
   ]
  },
  {
   "cell_type": "code",
   "execution_count": 177,
   "id": "f83a4b4b-8a7c-4cd1-9547-c87e37d349c4",
   "metadata": {},
   "outputs": [
    {
     "data": {
      "text/plain": [
       "[2,\n",
       " 17,\n",
       " 18,\n",
       " 19,\n",
       " 'HELLO',\n",
       " 'Goodbye',\n",
       " ['Jon', 'Hugo', 'Rickesh', 'Anita'],\n",
       " 'Jon',\n",
       " 'Hugo',\n",
       " 'Rickesh',\n",
       " 'Anita']"
      ]
     },
     "execution_count": 177,
     "metadata": {},
     "output_type": "execute_result"
    }
   ],
   "source": [
    "List_1"
   ]
  },
  {
   "cell_type": "markdown",
   "id": "b4979bfd-1237-4758-b36f-376bcaa4d00c",
   "metadata": {},
   "source": [
    "2. **<u>remove()**\n",
    "\n",
    "Removes an element that's inside the brackets from the list."
   ]
  },
  {
   "cell_type": "code",
   "execution_count": 178,
   "id": "af53ca2b-c313-4d10-852d-83d7edbbd473",
   "metadata": {},
   "outputs": [
    {
     "data": {
      "text/plain": [
       "[2,\n",
       " 17,\n",
       " 18,\n",
       " 19,\n",
       " 'HELLO',\n",
       " 'Goodbye',\n",
       " ['Jon', 'Hugo', 'Rickesh', 'Anita'],\n",
       " 'Jon',\n",
       " 'Hugo',\n",
       " 'Rickesh',\n",
       " 'Anita']"
      ]
     },
     "execution_count": 178,
     "metadata": {},
     "output_type": "execute_result"
    }
   ],
   "source": [
    "List_1"
   ]
  },
  {
   "cell_type": "code",
   "execution_count": 179,
   "id": "d6cb458a-96d3-4458-b65d-a2ba7225fc54",
   "metadata": {},
   "outputs": [],
   "source": [
    "List_1.remove(19)"
   ]
  },
  {
   "cell_type": "code",
   "execution_count": 180,
   "id": "5541648a-ea56-4d6d-87df-f448a818e165",
   "metadata": {},
   "outputs": [
    {
     "data": {
      "text/plain": [
       "[2,\n",
       " 17,\n",
       " 18,\n",
       " 'HELLO',\n",
       " 'Goodbye',\n",
       " ['Jon', 'Hugo', 'Rickesh', 'Anita'],\n",
       " 'Jon',\n",
       " 'Hugo',\n",
       " 'Rickesh',\n",
       " 'Anita']"
      ]
     },
     "execution_count": 180,
     "metadata": {},
     "output_type": "execute_result"
    }
   ],
   "source": [
    "List_1"
   ]
  },
  {
   "cell_type": "markdown",
   "id": "e32578f8-fc39-4ea7-aad8-94038390dd1c",
   "metadata": {},
   "source": [
    "As you can see, 19 is no longer an element in the list."
   ]
  },
  {
   "cell_type": "code",
   "execution_count": 181,
   "id": "9982e29a-51be-441f-aa85-cfcc40ebf01f",
   "metadata": {},
   "outputs": [],
   "source": [
    "# Let's now remove the embedded list. \n",
    "List_1.remove(['Jon', 'Hugo', 'Rickesh', 'Anita'])"
   ]
  },
  {
   "cell_type": "code",
   "execution_count": 182,
   "id": "587f9a07-0f0c-48a2-ba7b-1d438abfb765",
   "metadata": {},
   "outputs": [
    {
     "data": {
      "text/plain": [
       "[2, 17, 18, 'HELLO', 'Goodbye', 'Jon', 'Hugo', 'Rickesh', 'Anita']"
      ]
     },
     "execution_count": 182,
     "metadata": {},
     "output_type": "execute_result"
    }
   ],
   "source": [
    "List_1"
   ]
  },
  {
   "cell_type": "markdown",
   "id": "162b1d65-4034-4dda-94a1-63aadb811208",
   "metadata": {},
   "source": [
    "##### <i> NB:The remove method can only remove one element at a time."
   ]
  },
  {
   "cell_type": "markdown",
   "id": "7c0ec6c5-cfbb-45ba-a677-b67bf11e8d80",
   "metadata": {},
   "source": [
    "**<u> 3. pop()**\n",
    "\n",
    "pop method not only removes the element but also returns it.\n",
    "\n",
    "##### *By default, if nothing is provided inside the brackets then the last element is removed.*"
   ]
  },
  {
   "cell_type": "code",
   "execution_count": 183,
   "id": "0efab2bc-63b5-4eb0-9269-b4102d9748ac",
   "metadata": {},
   "outputs": [
    {
     "data": {
      "text/plain": [
       "'Anita'"
      ]
     },
     "execution_count": 183,
     "metadata": {},
     "output_type": "execute_result"
    }
   ],
   "source": [
    "List_1.pop()"
   ]
  },
  {
   "cell_type": "code",
   "execution_count": 184,
   "id": "51acbb5a-8cb4-4a24-b801-7123a97d961f",
   "metadata": {},
   "outputs": [
    {
     "data": {
      "text/plain": [
       "'Rickesh'"
      ]
     },
     "execution_count": 184,
     "metadata": {},
     "output_type": "execute_result"
    }
   ],
   "source": [
    "List_1.pop()"
   ]
  },
  {
   "cell_type": "code",
   "execution_count": 185,
   "id": "ec22a26e-65c6-4c67-95b0-1b2e60ee5c92",
   "metadata": {},
   "outputs": [
    {
     "data": {
      "text/plain": [
       "[2, 17, 18, 'HELLO', 'Goodbye', 'Jon', 'Hugo']"
      ]
     },
     "execution_count": 185,
     "metadata": {},
     "output_type": "execute_result"
    }
   ],
   "source": [
    "# Now, let's check list 1\n",
    "List_1"
   ]
  },
  {
   "cell_type": "markdown",
   "id": "b9d6c0b0-ee0e-43ca-aac4-e34f351432ed",
   "metadata": {},
   "source": [
    "The benefit of using the pop method over remove is since the removed variable is also extracted then you are able to assign it to a new variable. "
   ]
  },
  {
   "cell_type": "code",
   "execution_count": 186,
   "id": "f6098f66-e5ce-4a52-b795-6ab5a96ee44b",
   "metadata": {},
   "outputs": [],
   "source": [
    "removed_element=List_1.pop()"
   ]
  },
  {
   "cell_type": "code",
   "execution_count": 187,
   "id": "9f309024-ba17-436e-b9e3-c9924d8299cd",
   "metadata": {},
   "outputs": [
    {
     "data": {
      "text/plain": [
       "'Hugo'"
      ]
     },
     "execution_count": 187,
     "metadata": {},
     "output_type": "execute_result"
    }
   ],
   "source": [
    "removed_element"
   ]
  },
  {
   "cell_type": "code",
   "execution_count": 189,
   "id": "88cfcec0-65a9-4b55-b992-fbb889e3e7ec",
   "metadata": {},
   "outputs": [
    {
     "ename": "TypeError",
     "evalue": "'str' object cannot be interpreted as an integer",
     "output_type": "error",
     "traceback": [
      "\u001b[1;31m---------------------------------------------------------------------------\u001b[0m",
      "\u001b[1;31mTypeError\u001b[0m                                 Traceback (most recent call last)",
      "Cell \u001b[1;32mIn[189], line 2\u001b[0m\n\u001b[0;32m      1\u001b[0m \u001b[38;5;66;03m# Let's pop out now a specific value\u001b[39;00m\n\u001b[1;32m----> 2\u001b[0m \u001b[43mList_1\u001b[49m\u001b[38;5;241;43m.\u001b[39;49m\u001b[43mpop\u001b[49m\u001b[43m(\u001b[49m\u001b[38;5;124;43m'\u001b[39;49m\u001b[38;5;124;43mHELLO\u001b[39;49m\u001b[38;5;124;43m'\u001b[39;49m\u001b[43m)\u001b[49m\n",
      "\u001b[1;31mTypeError\u001b[0m: 'str' object cannot be interpreted as an integer"
     ]
    }
   ],
   "source": [
    "# Let's pop out now a specific value\n",
    "List_1.pop('HELLO')"
   ]
  },
  {
   "cell_type": "code",
   "execution_count": 191,
   "id": "f316fa30-2605-47e6-abd2-906cfdab60d0",
   "metadata": {},
   "outputs": [
    {
     "data": {
      "text/plain": [
       "'HELLO'"
      ]
     },
     "execution_count": 191,
     "metadata": {},
     "output_type": "execute_result"
    }
   ],
   "source": [
    "# The remove syntax does not work for pop. \n",
    "# To remove a specific element using pop we must use the element's index inside the brackets rather than name it as we \n",
    "# did for the case of remove.\n",
    "List_1.pop(2)\n"
   ]
  },
  {
   "cell_type": "markdown",
   "id": "ba82c41c-0dcb-4f86-9640-479949a36e6d",
   "metadata": {},
   "source": [
    "**<u> 4.insert()**\n",
    "\n",
    "This allows you to insert a new element to the list at a specified index.\n",
    "\n",
    "*Syntax*\n",
    "\n",
    "list_name.insert(new_value,new_value's index)\n",
    "\n",
    "##### Recall, the indexing starts at 0"
   ]
  },
  {
   "cell_type": "code",
   "execution_count": null,
   "id": "49be392d-0866-4931-a119-dcf7fb95837d",
   "metadata": {},
   "outputs": [],
   "source": [
    "# Adding the value 2000 to List_1"
   ]
  },
  {
   "cell_type": "code",
   "execution_count": 192,
   "id": "f33bc927-e64f-46f7-a02f-3be9b3f79cf5",
   "metadata": {},
   "outputs": [
    {
     "data": {
      "text/plain": [
       "[2, 17, 'Goodbye', 'Jon']"
      ]
     },
     "execution_count": 192,
     "metadata": {},
     "output_type": "execute_result"
    }
   ],
   "source": [
    "List_1"
   ]
  },
  {
   "cell_type": "code",
   "execution_count": 193,
   "id": "c5985544-2bc9-4348-b55e-060806113f2c",
   "metadata": {},
   "outputs": [],
   "source": [
    "List_1.insert(2,2000)"
   ]
  },
  {
   "cell_type": "code",
   "execution_count": 194,
   "id": "2f7a042e-53a5-4cef-b653-5c35728983ed",
   "metadata": {},
   "outputs": [
    {
     "data": {
      "text/plain": [
       "[2, 17, 2000, 'Goodbye', 'Jon']"
      ]
     },
     "execution_count": 194,
     "metadata": {},
     "output_type": "execute_result"
    }
   ],
   "source": [
    "List_1"
   ]
  }
 ],
 "metadata": {
  "kernelspec": {
   "display_name": "Python 3 (ipykernel)",
   "language": "python",
   "name": "python3"
  },
  "language_info": {
   "codemirror_mode": {
    "name": "ipython",
    "version": 3
   },
   "file_extension": ".py",
   "mimetype": "text/x-python",
   "name": "python",
   "nbconvert_exporter": "python",
   "pygments_lexer": "ipython3",
   "version": "3.8.18"
  }
 },
 "nbformat": 4,
 "nbformat_minor": 5
}
