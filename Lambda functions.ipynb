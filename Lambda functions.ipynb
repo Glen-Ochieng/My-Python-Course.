{
 "cells": [
  {
   "cell_type": "markdown",
   "id": "681c033e-0bc7-4621-9c20-80e2473582e5",
   "metadata": {},
   "source": [
    "A lambda function is an anonymous function that can take any number of arguements and returns the output of an expression.\n",
    "\n",
    "With lambda function, it works just like any other function except you don't have to define the function name.\n",
    "\n",
    "*Syntax*\n",
    "\n",
    ">lambda arguement(s): expression"
   ]
  },
  {
   "cell_type": "code",
   "execution_count": 1,
   "id": "56b25c60-ccd4-42ef-b70d-9cf9ee5fcadd",
   "metadata": {},
   "outputs": [],
   "source": [
    "countries_list=['Argetina','Mexico','Brasil',99]"
   ]
  },
  {
   "cell_type": "code",
   "execution_count": 2,
   "id": "a976b287-f724-493c-a08b-c5a571db40f8",
   "metadata": {},
   "outputs": [],
   "source": [
    "def is_str(x):\n",
    "    return type(x)==str"
   ]
  },
  {
   "cell_type": "code",
   "execution_count": 3,
   "id": "a2558de5-f289-4927-a680-f13be5afc63e",
   "metadata": {},
   "outputs": [
    {
     "data": {
      "text/plain": [
       "['Argetina', 'Mexico', 'Brasil']"
      ]
     },
     "execution_count": 3,
     "metadata": {},
     "output_type": "execute_result"
    }
   ],
   "source": [
    "list(filter(is_str,countries_list))"
   ]
  },
  {
   "cell_type": "code",
   "execution_count": 4,
   "id": "5dd20aa6-6ae6-41f6-9704-e00d56057db5",
   "metadata": {},
   "outputs": [
    {
     "data": {
      "text/plain": [
       "<function __main__.<lambda>(x)>"
      ]
     },
     "execution_count": 4,
     "metadata": {},
     "output_type": "execute_result"
    }
   ],
   "source": [
    "# We can do the same thing using the lambda function.\n",
    "\n",
    "lambda x:type(x)==str # everything right of the colon is returned thus we don't need to write the return statement."
   ]
  },
  {
   "cell_type": "code",
   "execution_count": 6,
   "id": "1528ed09-69d0-429d-b0d0-1460b364a514",
   "metadata": {},
   "outputs": [
    {
     "data": {
      "text/plain": [
       "['Argetina', 'Mexico', 'Brasil']"
      ]
     },
     "execution_count": 6,
     "metadata": {},
     "output_type": "execute_result"
    }
   ],
   "source": [
    "list(filter(lambda x:type(x)==str,countries_list))"
   ]
  },
  {
   "cell_type": "markdown",
   "id": "b8d56c2b-306a-4b15-ba90-6afdce9c0744",
   "metadata": {},
   "source": [
    "<b>Thus with lambda function, ,you can skip the first line of code while defining functions. "
   ]
  },
  {
   "cell_type": "code",
   "execution_count": 7,
   "id": "077a27ab-784f-415f-941b-201828746de8",
   "metadata": {},
   "outputs": [],
   "source": [
    "list_2=[1,2,3,4,5,6]"
   ]
  },
  {
   "cell_type": "code",
   "execution_count": 8,
   "id": "53925f86-8264-442a-b777-c3c4c21b5328",
   "metadata": {},
   "outputs": [],
   "source": [
    "def func_multiply(x):\n",
    "    return x * 2"
   ]
  },
  {
   "cell_type": "code",
   "execution_count": 10,
   "id": "01ff53ef-01f2-4016-bfc9-1ebcd1c44021",
   "metadata": {},
   "outputs": [
    {
     "data": {
      "text/plain": [
       "[2, 4, 6, 8, 10, 12]"
      ]
     },
     "execution_count": 10,
     "metadata": {},
     "output_type": "execute_result"
    }
   ],
   "source": [
    "list(map(func_multiply,list_2))"
   ]
  },
  {
   "cell_type": "code",
   "execution_count": 12,
   "id": "9da3cdf7-3c6a-419d-8c5f-7160b555df62",
   "metadata": {},
   "outputs": [
    {
     "data": {
      "text/plain": [
       "[2, 4, 6, 8, 10, 12]"
      ]
     },
     "execution_count": 12,
     "metadata": {},
     "output_type": "execute_result"
    }
   ],
   "source": [
    "# Using lambda function\n",
    "\n",
    "list(map(lambda x: x*2,list_2))"
   ]
  },
  {
   "cell_type": "markdown",
   "id": "691b3783-e13d-46d7-8020-73100c7f3b84",
   "metadata": {},
   "source": [
    "<b>Lines of codes condensed into one line!!"
   ]
  },
  {
   "cell_type": "markdown",
   "id": "296974d6-c337-4d72-a09a-0ceba7853d5a",
   "metadata": {},
   "source": [
    "##### <b>However, with lambda functions the expression has to be simple. i.e. simple arthimetic operations."
   ]
  }
 ],
 "metadata": {
  "kernelspec": {
   "display_name": "Python 3 (ipykernel)",
   "language": "python",
   "name": "python3"
  },
  "language_info": {
   "codemirror_mode": {
    "name": "ipython",
    "version": 3
   },
   "file_extension": ".py",
   "mimetype": "text/x-python",
   "name": "python",
   "nbconvert_exporter": "python",
   "pygments_lexer": "ipython3",
   "version": "3.8.18"
  }
 },
 "nbformat": 4,
 "nbformat_minor": 5
}
