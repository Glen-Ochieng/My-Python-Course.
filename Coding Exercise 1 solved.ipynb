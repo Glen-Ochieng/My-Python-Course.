{
 "cells": [
  {
   "cell_type": "markdown",
   "id": "fad1607b",
   "metadata": {},
   "source": [
    "# Challenge Questions "
   ]
  },
  {
   "cell_type": "markdown",
   "id": "357a4035",
   "metadata": {},
   "source": [
    "# Instructions:\n",
    "• Please ensure you don't overwrite any existing cells. Add new cells below by pressing ALT+ENTER\n",
    "\n",
    "• Attempt all of the questions\n",
    "\n",
    "• You are encouraged to look online for help should you need it"
   ]
  },
  {
   "cell_type": "markdown",
   "id": "a216156e",
   "metadata": {},
   "source": [
    "# "
   ]
  },
  {
   "cell_type": "markdown",
   "id": "fabc79f4",
   "metadata": {},
   "source": [
    "## Q1: In the cell below variable \"name\" generates a random name. The variable \"score\" generates a random score.\n",
    "### • If the score is greater than or equal to 70 I want you to print:\n",
    "#### f\" {name} perfomed really well in the test and got a score of {score}\"\n",
    "### • If the score is equal to or above 50 but less than 70 print:\n",
    "#### f\" {name} passed the test and got a score of {score}\"\n",
    "### • If the score is less than 50 print:\n",
    "#### f\" {name} failed the test with a score of {score}\""
   ]
  },
  {
   "cell_type": "code",
   "execution_count": 49,
   "id": "0187b52a",
   "metadata": {},
   "outputs": [],
   "source": [
    "# run this cell first - DO NOT OVERWRITE\n",
    "import random\n",
    "name = random.choice(['Meera','Ben','John','Anand'])\n",
    "score = random.randint(0,100)"
   ]
  },
  {
   "cell_type": "code",
   "execution_count": 51,
   "id": "d5e40856",
   "metadata": {},
   "outputs": [],
   "source": [
    "# Write your solution here\n",
    "def score_func (name,score):\n",
    "    if score >= 70:\n",
    "        print(f\"{name} performed really well in the test and got a score of {score}\")\n",
    "    elif score < 70 and score >= 50:\n",
    "        print(f\"{name} passed the test and got a score of {score}\")\n",
    "    else:\n",
    "        print(f\"{name} failed the test with a score of {score}\")\n"
   ]
  },
  {
   "cell_type": "code",
   "execution_count": 52,
   "id": "6b7ffc8f",
   "metadata": {},
   "outputs": [
    {
     "name": "stdout",
     "output_type": "stream",
     "text": [
      "Meera failed the test with a score of 30\n"
     ]
    }
   ],
   "source": [
    "score_func(name,score)"
   ]
  },
  {
   "cell_type": "markdown",
   "id": "1552d74e",
   "metadata": {},
   "source": [
    "## Q2: Use indexing to return 'Ford' from the variable x below"
   ]
  },
  {
   "cell_type": "code",
   "execution_count": 3,
   "id": "d087ea67",
   "metadata": {},
   "outputs": [],
   "source": [
    "# Run this cell first\n",
    "x = [1,2,{'car':'Ford'},'Hello']"
   ]
  },
  {
   "cell_type": "code",
   "execution_count": 13,
   "id": "5a6cea6e",
   "metadata": {},
   "outputs": [
    {
     "data": {
      "text/plain": [
       "'Ford'"
      ]
     },
     "execution_count": 13,
     "metadata": {},
     "output_type": "execute_result"
    }
   ],
   "source": [
    "# Write your solution here\n",
    "x[2]['car']\n",
    "\n",
    "# To access the values of a dictionary, you have to index the keys."
   ]
  },
  {
   "cell_type": "markdown",
   "id": "35a5b3b9",
   "metadata": {},
   "source": [
    "## Q3: Use slicing to return [2,3,4] from the variable x below"
   ]
  },
  {
   "cell_type": "code",
   "execution_count": 45,
   "id": "1297038b",
   "metadata": {},
   "outputs": [],
   "source": [
    "# Run this cell first\n",
    "x = [1,2,3,(1,2,[1,2,3,4,5],3,2,1,[1,2])]"
   ]
  },
  {
   "cell_type": "code",
   "execution_count": 43,
   "id": "b86261c2",
   "metadata": {},
   "outputs": [
    {
     "data": {
      "text/plain": [
       "[2, 3, 4]"
      ]
     },
     "execution_count": 43,
     "metadata": {},
     "output_type": "execute_result"
    }
   ],
   "source": [
    "# Write your solution here\n",
    "x[3][2][1:4]"
   ]
  },
  {
   "cell_type": "markdown",
   "id": "790fa78c",
   "metadata": {},
   "source": [
    "## Q4: The last 3 characters in each element of the object \"codes\" below are 2 digit alpha codes representing a country. Extract these codes into a new list called alpha2 "
   ]
  },
  {
   "cell_type": "code",
   "execution_count": 1,
   "id": "a7c3f034",
   "metadata": {},
   "outputs": [],
   "source": [
    "# Run this cell first\n",
    "codes = ['826GBR','840USA','276DEU','818EGY','250FRA']"
   ]
  },
  {
   "cell_type": "code",
   "execution_count": 97,
   "id": "2ec2d387",
   "metadata": {},
   "outputs": [],
   "source": [
    "# Write your solution here\n",
    "def extract_func(x):\n",
    "    for element in x:\n",
    "       yield (element[3::])"
   ]
  },
  {
   "cell_type": "code",
   "execution_count": 103,
   "id": "0c1cc631",
   "metadata": {},
   "outputs": [],
   "source": [
    "alpha2=list(extract_func(codes))"
   ]
  },
  {
   "cell_type": "code",
   "execution_count": 104,
   "id": "64701a34",
   "metadata": {},
   "outputs": [
    {
     "data": {
      "text/plain": [
       "['GBR', 'USA', 'DEU', 'EGY', 'FRA']"
      ]
     },
     "execution_count": 104,
     "metadata": {},
     "output_type": "execute_result"
    }
   ],
   "source": [
    "alpha2"
   ]
  },
  {
   "cell_type": "code",
   "execution_count": 3,
   "id": "284067be-08eb-4853-922d-ab02b982563d",
   "metadata": {},
   "outputs": [
    {
     "data": {
      "text/plain": [
       "['GBR', 'USA', 'DEU', 'EGY', 'FRA']"
      ]
     },
     "execution_count": 3,
     "metadata": {},
     "output_type": "execute_result"
    }
   ],
   "source": [
    "# Alternative solution 1\n",
    "\n",
    "#1. Create an empty storage vector\n",
    "alpha2=[]\n",
    "\n",
    "#2. Write a function that appends every last three characters.\n",
    "for i in codes:\n",
    "    alpha2.append(i[-3:])\n",
    "\n",
    "# 3. view\n",
    "alpha2\n"
   ]
  },
  {
   "cell_type": "code",
   "execution_count": 5,
   "id": "0f57964b-28ed-4061-b5ef-7836970241ce",
   "metadata": {},
   "outputs": [
    {
     "data": {
      "text/plain": [
       "['GBR', 'USA', 'DEU', 'EGY', 'FRA']"
      ]
     },
     "execution_count": 5,
     "metadata": {},
     "output_type": "execute_result"
    }
   ],
   "source": [
    "# Alternative solution 2\n",
    "\n",
    "# Using list comprehension\n",
    "alpha2=[x[3:] for x in codes]\n",
    "alpha2\n"
   ]
  },
  {
   "cell_type": "markdown",
   "id": "14f98f6d",
   "metadata": {},
   "source": [
    "## Q5: Return the list names with all elements in uppercase"
   ]
  },
  {
   "cell_type": "code",
   "execution_count": 6,
   "id": "a7d1ba19",
   "metadata": {},
   "outputs": [],
   "source": [
    "# Run this cell first\n",
    "names=['Sophie', 'Mark','Susan','Jerome','Roger','Sunita','Boris','Steve']"
   ]
  },
  {
   "cell_type": "code",
   "execution_count": 100,
   "id": "4a9cd1b4",
   "metadata": {},
   "outputs": [],
   "source": [
    "# Write your solution here\n",
    "def up_func(x):\n",
    "    for i in x:\n",
    "            yield( i.upper())"
   ]
  },
  {
   "cell_type": "code",
   "execution_count": 101,
   "id": "baffb225",
   "metadata": {},
   "outputs": [
    {
     "data": {
      "text/plain": [
       "<generator object up_func at 0x0000016DB1EBA200>"
      ]
     },
     "execution_count": 101,
     "metadata": {},
     "output_type": "execute_result"
    }
   ],
   "source": [
    "up_func(names)"
   ]
  },
  {
   "cell_type": "code",
   "execution_count": 102,
   "id": "a2366a02",
   "metadata": {},
   "outputs": [
    {
     "data": {
      "text/plain": [
       "['SOPHIE', 'MARK', 'SUSAN', 'JEROME', 'ROGER', 'SUNITA', 'BORIS', 'STEVE']"
      ]
     },
     "execution_count": 102,
     "metadata": {},
     "output_type": "execute_result"
    }
   ],
   "source": [
    "list(up_func(names))"
   ]
  },
  {
   "cell_type": "code",
   "execution_count": 10,
   "id": "0887ebc5-0931-4c77-986d-e2decb135f0f",
   "metadata": {},
   "outputs": [
    {
     "data": {
      "text/plain": [
       "['SOPHIE', 'MARK', 'SUSAN', 'JEROME', 'ROGER', 'SUNITA', 'BORIS', 'STEVE']"
      ]
     },
     "execution_count": 10,
     "metadata": {},
     "output_type": "execute_result"
    }
   ],
   "source": [
    "# Alternative solution\n",
    "# Using a map to apply the function to every element. This time using a lambda function to shorten the codes.\n",
    "\n",
    "list(map(lambda x:x.upper(),names))"
   ]
  },
  {
   "cell_type": "markdown",
   "id": "5b14b4e3",
   "metadata": {},
   "source": [
    "## Q6:  Find a way to filter the elements of list_1 to only include integers. Assign this new list to the variable whole_numbers"
   ]
  },
  {
   "cell_type": "code",
   "execution_count": 14,
   "id": "1b8c3528",
   "metadata": {},
   "outputs": [],
   "source": [
    "# Run this cell first\n",
    "list_1 = [1,2,3,4,'Helena',9,2.8724,4,2,'Rick',{'name':'John'}]"
   ]
  },
  {
   "cell_type": "code",
   "execution_count": 106,
   "id": "b9e26c9e",
   "metadata": {},
   "outputs": [],
   "source": [
    "# Write your solution here\n",
    "def type_fun(x):\n",
    "    return type(x)==int"
   ]
  },
  {
   "cell_type": "code",
   "execution_count": 109,
   "id": "c9b27ad2",
   "metadata": {},
   "outputs": [],
   "source": [
    "whole_numbers=list(filter(type_fun,list_1))"
   ]
  },
  {
   "cell_type": "code",
   "execution_count": 110,
   "id": "bab813f1",
   "metadata": {},
   "outputs": [
    {
     "data": {
      "text/plain": [
       "[1, 2, 3, 4, 9, 4, 2]"
      ]
     },
     "execution_count": 110,
     "metadata": {},
     "output_type": "execute_result"
    }
   ],
   "source": [
    "whole_numbers"
   ]
  },
  {
   "cell_type": "code",
   "execution_count": 12,
   "id": "13fb6e34-5c88-4048-9027-002b895cea9e",
   "metadata": {},
   "outputs": [],
   "source": [
    "# Alternatively, we could replace the function with a lambda fucntion to shorten the code\n",
    "\n",
    "whole_numbers=list(filter(lambda x:type(x)==int,list_1))"
   ]
  },
  {
   "cell_type": "code",
   "execution_count": 13,
   "id": "937e4422-d685-43a3-9bb6-c308b42444b3",
   "metadata": {},
   "outputs": [
    {
     "data": {
      "text/plain": [
       "[1, 2, 3, 4, 9, 4, 2]"
      ]
     },
     "execution_count": 13,
     "metadata": {},
     "output_type": "execute_result"
    }
   ],
   "source": [
    "whole_numbers"
   ]
  },
  {
   "cell_type": "code",
   "execution_count": 15,
   "id": "f31327b5-c9b0-4434-94ea-ecaf50225c1c",
   "metadata": {},
   "outputs": [
    {
     "data": {
      "text/plain": [
       "[1, 2, 3, 4, 9, 4, 2]"
      ]
     },
     "execution_count": 15,
     "metadata": {},
     "output_type": "execute_result"
    }
   ],
   "source": [
    "# Alternative solution 3\n",
    "#using the append method after creating a storage list\n",
    "whole_numbers=[]\n",
    "\n",
    "for i in list_1:\n",
    "    if type(i)==int:\n",
    "        whole_numbers.append(i)\n",
    "whole_numbers    "
   ]
  },
  {
   "cell_type": "markdown",
   "id": "20c942dc",
   "metadata": {},
   "source": [
    "## Q7: Create a function called str_tup_list, it should take one argument. \n",
    "#### • If you pass in a list then it sorts and returns the elements in the list in ascending order\n",
    "#### • If you pass in a tuple then it returns the length of the tuple\n",
    "#### • If you pass in a string then it returns the string in uppercase\n",
    "#### • For any other data types it should print 'This is not a string, tuple or list'"
   ]
  },
  {
   "cell_type": "code",
   "execution_count": 118,
   "id": "e76613e1",
   "metadata": {},
   "outputs": [],
   "source": [
    "# Create your function here\n",
    "def str_tup_list(x):\n",
    "    if type(x) == list:\n",
    "        return sorted(x)\n",
    "    elif type(x)== tuple:\n",
    "        return len(x)\n",
    "    elif type(x)==str:\n",
    "        return x.upper()\n",
    "    else:\n",
    "        print(\"This is not a string,tuple or list\")"
   ]
  },
  {
   "cell_type": "code",
   "execution_count": 114,
   "id": "79c7cc68",
   "metadata": {},
   "outputs": [],
   "source": [
    "# Test your function here\n",
    "x1=[2,3,1]\n",
    "x2=(1,2,3)\n",
    "x3='hello'\n",
    "x4={1,2,3}"
   ]
  },
  {
   "cell_type": "code",
   "execution_count": 115,
   "id": "40dde9ab",
   "metadata": {},
   "outputs": [
    {
     "data": {
      "text/plain": [
       "[1, 2, 3]"
      ]
     },
     "execution_count": 115,
     "metadata": {},
     "output_type": "execute_result"
    }
   ],
   "source": [
    "str_tup_list(x1)"
   ]
  },
  {
   "cell_type": "code",
   "execution_count": 116,
   "id": "c5feced9",
   "metadata": {},
   "outputs": [
    {
     "data": {
      "text/plain": [
       "3"
      ]
     },
     "execution_count": 116,
     "metadata": {},
     "output_type": "execute_result"
    }
   ],
   "source": [
    "str_tup_list(x2)"
   ]
  },
  {
   "cell_type": "code",
   "execution_count": 119,
   "id": "a5c13b11-a8db-4328-9ca3-3bc34a3c6a21",
   "metadata": {},
   "outputs": [
    {
     "data": {
      "text/plain": [
       "'HELLO'"
      ]
     },
     "execution_count": 119,
     "metadata": {},
     "output_type": "execute_result"
    }
   ],
   "source": [
    "str_tup_list(x3)"
   ]
  },
  {
   "cell_type": "code",
   "execution_count": 120,
   "id": "88099560-6eea-4640-b285-f03c0f98ead2",
   "metadata": {},
   "outputs": [
    {
     "name": "stdout",
     "output_type": "stream",
     "text": [
      "This is not a string,tuple or list\n"
     ]
    }
   ],
   "source": [
    "str_tup_list(x4)"
   ]
  },
  {
   "cell_type": "markdown",
   "id": "44410426",
   "metadata": {},
   "source": [
    "## Q8: I want you to implement a function that can take a string value as an argument and returns True if that string contains any numbers. Call this function num_check. You do not need to add control flow to check the argument.\n",
    "\n",
    "\n",
    "#### Note: Research the method isnumeric() for this solution: https://docs.python.org/3/library/stdtypes.html\n",
    "#### A big part of becoming a better developer is being able to look up and apply functions you haven't used before"
   ]
  },
  {
   "cell_type": "code",
   "execution_count": 16,
   "id": "30b6054d",
   "metadata": {},
   "outputs": [],
   "source": [
    "# Create your function here\n",
    "def num_check(x):\n",
    "    return x.isnumeric()"
   ]
  },
  {
   "cell_type": "markdown",
   "id": "a8d8caca-fe0d-4dc9-9bad-2009f79faac3",
   "metadata": {},
   "source": [
    "**<u>str.isnumeric()**\n",
    "\n",
    "any_string_name.isnnumeric() returns True if there is **ALL** the characters are numeric which includes numbers and arithmetic signs or special signs i.e asterix. Otherwise, **<u>even if one character is a letter it will return False.**"
   ]
  },
  {
   "cell_type": "code",
   "execution_count": 19,
   "id": "11515cbc",
   "metadata": {},
   "outputs": [
    {
     "data": {
      "text/plain": [
       "True"
      ]
     },
     "execution_count": 19,
     "metadata": {},
     "output_type": "execute_result"
    }
   ],
   "source": [
    "# Test your function here\n",
    "num_check('111')"
   ]
  },
  {
   "cell_type": "code",
   "execution_count": 20,
   "id": "b3dc9a66",
   "metadata": {},
   "outputs": [
    {
     "data": {
      "text/plain": [
       "False"
      ]
     },
     "execution_count": 20,
     "metadata": {},
     "output_type": "execute_result"
    }
   ],
   "source": [
    "num_check('U111')"
   ]
  },
  {
   "cell_type": "markdown",
   "id": "d83df6c6",
   "metadata": {},
   "source": [
    "## Q9: The below list contains information about a person, their age and favourite color. The information for each person is contained in a tuple.\n",
    "## Filter this list so that it only contains the information for people who's favourite color is blue"
   ]
  },
  {
   "cell_type": "code",
   "execution_count": 21,
   "id": "3a44de7e",
   "metadata": {},
   "outputs": [],
   "source": [
    "# Run this cell first\n",
    "person = [('Andrew',39,'Blue'),('Ross',48,'Red'),('Sarah',19,'Yellow'),('Meena',42,'Orange'),('Sophue',28,'Blue')]"
   ]
  },
  {
   "cell_type": "code",
   "execution_count": 22,
   "id": "1c9420f1",
   "metadata": {},
   "outputs": [
    {
     "data": {
      "text/plain": [
       "[('Andrew', 39, 'Blue'), ('Sophue', 28, 'Blue')]"
      ]
     },
     "execution_count": 22,
     "metadata": {},
     "output_type": "execute_result"
    }
   ],
   "source": [
    "# Write your solution here\n",
    "\n",
    "list(filter(lambda x:x[2]=='Blue',person))"
   ]
  },
  {
   "cell_type": "markdown",
   "id": "a995ba7d",
   "metadata": {},
   "source": [
    "## Bonus Question : Add Control Flow to the below Function to ensure that the user inputs an integer before advancing to the next step"
   ]
  },
  {
   "cell_type": "code",
   "execution_count": null,
   "id": "4f6ca47c",
   "metadata": {},
   "outputs": [],
   "source": [
    "# Modify this function, you can copy it in the cell below\n",
    "def create_ranged_list():\n",
    "    x = int(input('Please select a start parameter'))\n",
    "    y = int(input('Please select a stop parameter'))\n",
    "    z = int(input('Please select a step parameter'))\n",
    "    return list(range(x,y,z))"
   ]
  },
  {
   "cell_type": "code",
   "execution_count": 27,
   "id": "7d936e93",
   "metadata": {},
   "outputs": [],
   "source": [
    "# Create your function here\n",
    "def create_ranged_list():\n",
    "    #Step 1: Initialization\n",
    "    x=''\n",
    "    y=''\n",
    "    z=''\n",
    "    #Step 2: Create a while loop so that it keeps asking until an integer is provided\n",
    "    while type(x) != int:\n",
    "        try:\n",
    "            x= int(input('Please select a start parameter'))\n",
    "        except:\n",
    "            print(\"Please input an integer\")\n",
    "    while type(y) != int:\n",
    "        try:\n",
    "            y= int(input('Please select a stop parameter'))\n",
    "        except:\n",
    "            print(\"Please input an integer\")\n",
    "    while type(z) != int:\n",
    "        try:\n",
    "            z= int(input('Please select a step parameter'))\n",
    "        except:\n",
    "            print(\"Please input an integer\")\n",
    "    return list(range(x,y,z))"
   ]
  },
  {
   "cell_type": "code",
   "execution_count": 28,
   "id": "117281a0",
   "metadata": {},
   "outputs": [
    {
     "name": "stdin",
     "output_type": "stream",
     "text": [
      "Please select a start parameter w\n"
     ]
    },
    {
     "name": "stdout",
     "output_type": "stream",
     "text": [
      "Please input an integer\n"
     ]
    },
    {
     "name": "stdin",
     "output_type": "stream",
     "text": [
      "Please select a start parameter w\n"
     ]
    },
    {
     "name": "stdout",
     "output_type": "stream",
     "text": [
      "Please input an integer\n"
     ]
    },
    {
     "name": "stdin",
     "output_type": "stream",
     "text": [
      "Please select a start parameter 1\n",
      "Please select a stop parameter d\n"
     ]
    },
    {
     "name": "stdout",
     "output_type": "stream",
     "text": [
      "Please input an integer\n"
     ]
    },
    {
     "name": "stdin",
     "output_type": "stream",
     "text": [
      "Please select a stop parameter d\n"
     ]
    },
    {
     "name": "stdout",
     "output_type": "stream",
     "text": [
      "Please input an integer\n"
     ]
    },
    {
     "name": "stdin",
     "output_type": "stream",
     "text": [
      "Please select a stop parameter 4\n",
      "Please select a step parameter d\n"
     ]
    },
    {
     "name": "stdout",
     "output_type": "stream",
     "text": [
      "Please input an integer\n"
     ]
    },
    {
     "name": "stdin",
     "output_type": "stream",
     "text": [
      "Please select a step parameter 1\n"
     ]
    },
    {
     "data": {
      "text/plain": [
       "[1, 2, 3]"
      ]
     },
     "execution_count": 28,
     "metadata": {},
     "output_type": "execute_result"
    }
   ],
   "source": [
    "# Test the function here\n",
    "create_ranged_list()"
   ]
  }
 ],
 "metadata": {
  "kernelspec": {
   "display_name": "Python 3 (ipykernel)",
   "language": "python",
   "name": "python3"
  },
  "language_info": {
   "codemirror_mode": {
    "name": "ipython",
    "version": 3
   },
   "file_extension": ".py",
   "mimetype": "text/x-python",
   "name": "python",
   "nbconvert_exporter": "python",
   "pygments_lexer": "ipython3",
   "version": "3.8.18"
  }
 },
 "nbformat": 4,
 "nbformat_minor": 5
}
