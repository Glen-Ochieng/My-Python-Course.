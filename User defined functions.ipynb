{
 "cells": [
  {
   "cell_type": "markdown",
   "id": "4724f17e-adfb-4daa-9477-c1965b96f436",
   "metadata": {},
   "source": [
    "*Syntax*\n",
    "\n",
    "> def *<u>function_name* (arguements):\n",
    "\n",
    "    <block of code to execute when the function is called>\n",
    "\n",
    "**<i> The function name has to be in exclusively small letters separeted by underscores.**"
   ]
  },
  {
   "cell_type": "code",
   "execution_count": 41,
   "id": "bb0cff0d-3769-4d76-8722-cf1f5576ad04",
   "metadata": {},
   "outputs": [],
   "source": [
    "def welcome_message():\n",
    "    print('Welcome')"
   ]
  },
  {
   "cell_type": "code",
   "execution_count": 42,
   "id": "3c13d15d-100b-4291-93ec-5b3697aefc45",
   "metadata": {},
   "outputs": [
    {
     "name": "stdout",
     "output_type": "stream",
     "text": [
      "Welcome\n"
     ]
    }
   ],
   "source": [
    "welcome_message()"
   ]
  },
  {
   "cell_type": "code",
   "execution_count": 43,
   "id": "6eb4084d-7a6a-4ea5-b21f-59a2ac076636",
   "metadata": {},
   "outputs": [],
   "source": [
    "def welcome_message(x):\n",
    "    print(f'Welcome {x}')"
   ]
  },
  {
   "cell_type": "code",
   "execution_count": 44,
   "id": "ad0aa1f9-cdfc-4d38-80b2-4d07836ab7c7",
   "metadata": {},
   "outputs": [
    {
     "name": "stdout",
     "output_type": "stream",
     "text": [
      "Welcome home\n"
     ]
    }
   ],
   "source": [
    "welcome_message('home')"
   ]
  },
  {
   "cell_type": "code",
   "execution_count": 45,
   "id": "b951a689-4d10-4dee-abe2-6b2cc5ee1df0",
   "metadata": {},
   "outputs": [],
   "source": [
    "def welcome_message(x,y,z):\n",
    "    print(f'Welcome {x}, {y} and {z}') # for the print function you dictate where you want the punctuation to go."
   ]
  },
  {
   "cell_type": "code",
   "execution_count": 46,
   "id": "3496d482-e554-4b98-94e1-043c0b3fc46a",
   "metadata": {},
   "outputs": [
    {
     "name": "stdout",
     "output_type": "stream",
     "text": [
      "Welcome home, mom and dad\n"
     ]
    }
   ],
   "source": [
    "# The punctuation here should exactly match with the punction format of the arguements.\n",
    "welcome_message('home','mom','dad')"
   ]
  },
  {
   "cell_type": "markdown",
   "id": "07a297a6-08d9-49ca-8c33-1ad816477ec8",
   "metadata": {},
   "source": [
    "You can create functions whereby if they receive no arguements they preassume your set arguements."
   ]
  },
  {
   "cell_type": "code",
   "execution_count": 47,
   "id": "5935dd07-fbe8-4e81-89f0-2fafd62e65ab",
   "metadata": {},
   "outputs": [],
   "source": [
    "def welcome_message(x= 'name1', y='name2',z='name3'):\n",
    "    print(f'Welcome {x}, {y} and {z}')"
   ]
  },
  {
   "cell_type": "code",
   "execution_count": 48,
   "id": "761603c5-cb27-46ae-8fb2-a1bc2e02e1db",
   "metadata": {},
   "outputs": [
    {
     "name": "stdout",
     "output_type": "stream",
     "text": [
      "Welcome name1, name2 and name3\n"
     ]
    }
   ],
   "source": [
    "welcome_message()"
   ]
  },
  {
   "cell_type": "code",
   "execution_count": 49,
   "id": "f804a841-c405-4cd5-aeac-589ae14b27a8",
   "metadata": {},
   "outputs": [
    {
     "name": "stdout",
     "output_type": "stream",
     "text": [
      "Welcome John, name2 and name3\n"
     ]
    }
   ],
   "source": [
    "# If we start one of the three agruements.\n",
    "welcome_message('John')"
   ]
  },
  {
   "cell_type": "code",
   "execution_count": 50,
   "id": "d1e518ba-9d4a-4120-be2f-0b4321de960d",
   "metadata": {},
   "outputs": [
    {
     "name": "stdout",
     "output_type": "stream",
     "text": [
      "Welcome name1, name2 and John\n"
     ]
    }
   ],
   "source": [
    "# We can even select the exact arguement that John replaces\n",
    "welcome_message(z='John')"
   ]
  },
  {
   "cell_type": "code",
   "execution_count": 51,
   "id": "d67dee58-62ab-4842-90bd-a2a59a9b4b12",
   "metadata": {},
   "outputs": [],
   "source": [
    "def print_message():\n",
    "    print('hello, this message has been printed.')"
   ]
  },
  {
   "cell_type": "code",
   "execution_count": 52,
   "id": "396b42d8-577c-41bf-8613-6a16529bef0f",
   "metadata": {},
   "outputs": [
    {
     "name": "stdout",
     "output_type": "stream",
     "text": [
      "hello, this message has been printed.\n"
     ]
    }
   ],
   "source": [
    "print_message()"
   ]
  },
  {
   "cell_type": "code",
   "execution_count": 53,
   "id": "aa5abef1-e1ac-4ee4-87e9-750b999363b5",
   "metadata": {},
   "outputs": [],
   "source": [
    "def return_message():\n",
    "    return('hello, this message has been returned') \n",
    "# Return does not need the brackets to close the arguements. It's optional.\n",
    "# return 'hello, this message has been returned' could also have worked"
   ]
  },
  {
   "cell_type": "code",
   "execution_count": 54,
   "id": "55461cfe-c33a-4ac5-aa9c-6328a6defc0c",
   "metadata": {},
   "outputs": [
    {
     "data": {
      "text/plain": [
       "'hello, this message has been returned'"
      ]
     },
     "execution_count": 54,
     "metadata": {},
     "output_type": "execute_result"
    }
   ],
   "source": [
    "return_message()"
   ]
  },
  {
   "cell_type": "markdown",
   "id": "ff9b59c7-f005-417e-aaae-4d6f1114e556",
   "metadata": {},
   "source": [
    "<B>The difference between print and return is print print doesn't create an output! Therefore the output from print cannot be assigned nor operated on!!!"
   ]
  },
  {
   "cell_type": "code",
   "execution_count": 55,
   "id": "d749bc5c-4195-4f72-8388-184c1b481cad",
   "metadata": {},
   "outputs": [
    {
     "name": "stdout",
     "output_type": "stream",
     "text": [
      "hello, this message has been printed.\n"
     ]
    }
   ],
   "source": [
    "x=print_message()"
   ]
  },
  {
   "cell_type": "code",
   "execution_count": 56,
   "id": "e84144b6-5272-4d67-bdb4-503ec7c74295",
   "metadata": {},
   "outputs": [],
   "source": [
    "x"
   ]
  },
  {
   "cell_type": "markdown",
   "id": "f7caf455-972f-4cc9-8484-242a5aae2017",
   "metadata": {},
   "source": [
    "Nothing is returned"
   ]
  },
  {
   "cell_type": "code",
   "execution_count": 57,
   "id": "7ab8571a-ff78-49f9-9f91-8a03dd0a5423",
   "metadata": {},
   "outputs": [
    {
     "data": {
      "text/plain": [
       "NoneType"
      ]
     },
     "execution_count": 57,
     "metadata": {},
     "output_type": "execute_result"
    }
   ],
   "source": [
    "type(x)"
   ]
  },
  {
   "cell_type": "code",
   "execution_count": 58,
   "id": "737a9eed-5320-481d-8291-011749a03119",
   "metadata": {},
   "outputs": [],
   "source": [
    "x=return_message()"
   ]
  },
  {
   "cell_type": "code",
   "execution_count": 59,
   "id": "e56239a7-b0e1-4bd8-9b3f-a30f32b2fc07",
   "metadata": {},
   "outputs": [
    {
     "data": {
      "text/plain": [
       "'hello, this message has been returned'"
      ]
     },
     "execution_count": 59,
     "metadata": {},
     "output_type": "execute_result"
    }
   ],
   "source": [
    "x"
   ]
  },
  {
   "cell_type": "markdown",
   "id": "8b0d6397-1911-4586-878f-f95531511b8f",
   "metadata": {},
   "source": [
    "<b>Thus whenever, we need to assign an output then return is the better option."
   ]
  },
  {
   "cell_type": "code",
   "execution_count": 60,
   "id": "a895838e-0a5d-41ce-9ba7-4a64123afac7",
   "metadata": {},
   "outputs": [],
   "source": [
    "# As mentioned before python lacks a built-in mean function. Let's make a function that calculates the mean.\n",
    "\n",
    "def avg (x):\n",
    "    return (sum(x)/len(x))"
   ]
  },
  {
   "cell_type": "code",
   "execution_count": 61,
   "id": "a4bc0513-d951-4338-97ef-5dafd673e1f9",
   "metadata": {},
   "outputs": [],
   "source": [
    "list_1=[3,10,11,3]"
   ]
  },
  {
   "cell_type": "code",
   "execution_count": 62,
   "id": "bebd944b-f298-4676-bb66-24c02574023f",
   "metadata": {},
   "outputs": [
    {
     "data": {
      "text/plain": [
       "6.75"
      ]
     },
     "execution_count": 62,
     "metadata": {},
     "output_type": "execute_result"
    }
   ],
   "source": [
    "avg(list_1)"
   ]
  },
  {
   "cell_type": "code",
   "execution_count": 63,
   "id": "f86ecf11-51d4-4a4f-bc04-2b771de6d0d0",
   "metadata": {},
   "outputs": [],
   "source": [
    "# let's modify the function to whereby if the incorrect type of object(not an integer) is passed as an arguement,\n",
    "# it returns a specified error message."
   ]
  },
  {
   "cell_type": "code",
   "execution_count": 64,
   "id": "cd1488dd-de28-4ce4-9b28-b8e356c39c1a",
   "metadata": {},
   "outputs": [],
   "source": [
    "def avg(x):\n",
    "    if type(x)!= list:\n",
    "        print('Wrong data object')\n",
    "    else:\n",
    "        return(sum(x)/len(x))"
   ]
  },
  {
   "cell_type": "code",
   "execution_count": 65,
   "id": "7f82c7d8-8d00-4e74-9e1f-a398615dddb0",
   "metadata": {},
   "outputs": [
    {
     "name": "stdout",
     "output_type": "stream",
     "text": [
      "Wrong data object\n"
     ]
    }
   ],
   "source": [
    "avg('hello')"
   ]
  },
  {
   "cell_type": "code",
   "execution_count": 66,
   "id": "3410961d-5b46-46b7-88ff-fe42a71587b8",
   "metadata": {},
   "outputs": [
    {
     "data": {
      "text/plain": [
       "6.75"
      ]
     },
     "execution_count": 66,
     "metadata": {},
     "output_type": "execute_result"
    }
   ],
   "source": [
    "avg(list_1)"
   ]
  },
  {
   "cell_type": "code",
   "execution_count": 67,
   "id": "05b320bf-c4d8-453e-a2ce-331eab562d59",
   "metadata": {},
   "outputs": [],
   "source": [
    "# However, a smarted code would be:\n",
    "\n",
    "def avg(x):\n",
    "    if type(x) not in [list,tuple,set]:\n",
    "        print('Please pass in list, tuple or set')\n",
    "    else:\n",
    "        return(sum(x)/len(x))"
   ]
  },
  {
   "cell_type": "code",
   "execution_count": 68,
   "id": "1d35c962-d073-4094-b4b7-4a8580d88c2c",
   "metadata": {},
   "outputs": [],
   "source": [
    "# Or\n",
    "def avg(x):\n",
    "    if type(x) in [list,tuple,set]:\n",
    "        return(sum(x)/len(x))\n",
    "    else:\n",
    "        print('Please pass in list, tuple or set')"
   ]
  },
  {
   "cell_type": "code",
   "execution_count": 69,
   "id": "d797b4c7-9a30-4429-b4c0-a676cc5ac83e",
   "metadata": {},
   "outputs": [
    {
     "data": {
      "text/plain": [
       "6.75"
      ]
     },
     "execution_count": 69,
     "metadata": {},
     "output_type": "execute_result"
    }
   ],
   "source": [
    "avg(list_1)"
   ]
  },
  {
   "cell_type": "code",
   "execution_count": 70,
   "id": "5204bf6d-215c-4252-be79-1addba065c8d",
   "metadata": {},
   "outputs": [
    {
     "name": "stdout",
     "output_type": "stream",
     "text": [
      "Please pass in list, tuple or set\n"
     ]
    }
   ],
   "source": [
    "avg('hello')"
   ]
  },
  {
   "cell_type": "code",
   "execution_count": 71,
   "id": "6cdadb14-8993-4e98-8bfa-290d811c76e9",
   "metadata": {},
   "outputs": [
    {
     "data": {
      "text/plain": [
       "[0, 1, 2, 3, 4, 5, 6, 7, 8, 9, 10]"
      ]
     },
     "execution_count": 71,
     "metadata": {},
     "output_type": "execute_result"
    }
   ],
   "source": [
    "list(range(0,11,1))"
   ]
  },
  {
   "cell_type": "code",
   "execution_count": 72,
   "id": "2688e44f-515e-438b-afb8-921b7d9ed36f",
   "metadata": {},
   "outputs": [],
   "source": [
    "# The above as a function.\n",
    "\n",
    "def range_func(x,y,z):\n",
    "    return(list(range(x,y,z)))"
   ]
  },
  {
   "cell_type": "code",
   "execution_count": 73,
   "id": "d6f878dc-0dd9-4ea5-be3a-ccd82111a5f1",
   "metadata": {},
   "outputs": [
    {
     "data": {
      "text/plain": [
       "[0, 1, 2, 3, 4, 5, 6, 7, 8, 9, 10]"
      ]
     },
     "execution_count": 73,
     "metadata": {},
     "output_type": "execute_result"
    }
   ],
   "source": [
    "range_func(0,11,1)"
   ]
  },
  {
   "cell_type": "code",
   "execution_count": 80,
   "id": "e4762036-86aa-45af-b059-6e09e07e5955",
   "metadata": {},
   "outputs": [],
   "source": [
    "def greater_than_10(x):\n",
    "        if x > 10:\n",
    "            return True\n",
    "        else:\n",
    "            return False"
   ]
  },
  {
   "cell_type": "code",
   "execution_count": 81,
   "id": "df470d77-faec-4120-b095-7a46297399d8",
   "metadata": {},
   "outputs": [
    {
     "data": {
      "text/plain": [
       "False"
      ]
     },
     "execution_count": 81,
     "metadata": {},
     "output_type": "execute_result"
    }
   ],
   "source": [
    "greater_than_10(2)"
   ]
  },
  {
   "cell_type": "code",
   "execution_count": null,
   "id": "62d43fcd-6073-44e3-937e-992ac8160890",
   "metadata": {},
   "outputs": [],
   "source": [
    "# Assuming x is a list and not just a single value.\n",
    "\n",
    "def greater_than_10(x):\n",
    "    for element in x:\n",
    "        if element > 10:\n",
    "            print('True')\n",
    "        else:\n",
    "            print ('False')"
   ]
  },
  {
   "cell_type": "code",
   "execution_count": null,
   "id": "c7c6c75c-ec88-44a5-ac86-f39a4ee9e65f",
   "metadata": {},
   "outputs": [],
   "source": [
    "list_2=[3,4,4,11]"
   ]
  },
  {
   "cell_type": "code",
   "execution_count": 75,
   "id": "d61035d2-0bb8-448a-b98a-bddbf9ccb36f",
   "metadata": {},
   "outputs": [
    {
     "data": {
      "text/plain": [
       "'True'"
      ]
     },
     "execution_count": 75,
     "metadata": {},
     "output_type": "execute_result"
    }
   ],
   "source": [
    "greater_than_10(list_2)"
   ]
  },
  {
   "cell_type": "markdown",
   "id": "69841081-c6ca-44c3-b4c6-a400cbb70050",
   "metadata": {},
   "source": [
    "**There reason why return was switched out for print in this case is return exits out of loops. It is a terminating code.**"
   ]
  },
  {
   "cell_type": "code",
   "execution_count": 76,
   "id": "de1a1a0c-989a-4615-b319-2170672ccdfa",
   "metadata": {},
   "outputs": [],
   "source": [
    "def greater_than_10(x):\n",
    "    for element in x:\n",
    "        if element > 10:\n",
    "            return 'True'\n",
    "        else:\n",
    "            return 'False'"
   ]
  },
  {
   "cell_type": "code",
   "execution_count": 77,
   "id": "b84636e8-1dbe-4ada-9f38-15c794eff18e",
   "metadata": {},
   "outputs": [
    {
     "data": {
      "text/plain": [
       "'False'"
      ]
     },
     "execution_count": 77,
     "metadata": {},
     "output_type": "execute_result"
    }
   ],
   "source": [
    "greater_than_10(list_2)"
   ]
  },
  {
   "cell_type": "markdown",
   "id": "c5f72b23-784b-4862-a340-a55f5dd3a3a8",
   "metadata": {},
   "source": [
    "As you can see, it isn't working properly."
   ]
  },
  {
   "cell_type": "code",
   "execution_count": 78,
   "id": "cfc17911-ca91-4505-8059-63b91b1cb267",
   "metadata": {},
   "outputs": [],
   "source": [
    "# To solve this we can remove the indentation of the return statement such that after everything is complete then it returns\n",
    "def greater_than_10(x):\n",
    "    for element in x:\n",
    "        if element > 10:\n",
    "            return 'True'\n",
    "        else:\n",
    "            pass # because we have removed return, we insert pass so we don't get an error message.\n",
    "    return 'False'"
   ]
  },
  {
   "cell_type": "code",
   "execution_count": 79,
   "id": "06d0f0ea-3fe1-4e8d-b413-f42143f4a069",
   "metadata": {},
   "outputs": [
    {
     "data": {
      "text/plain": [
       "'True'"
      ]
     },
     "execution_count": 79,
     "metadata": {},
     "output_type": "execute_result"
    }
   ],
   "source": [
    "greater_than_10(list_2)\n",
    "# This now works, but it works as an or statement where if any of them is above 10 then it returns True."
   ]
  },
  {
   "cell_type": "markdown",
   "id": "87088ac0-d23a-4fd6-bceb-8abaaf34ed41",
   "metadata": {},
   "source": [
    "### Creating user input functions\n",
    "\n",
    "We can create a function that gives the user very specific instructions by making use of the input() function."
   ]
  },
  {
   "cell_type": "code",
   "execution_count": null,
   "id": "4e499e67-3abf-4f38-92a5-3c42b9a28126",
   "metadata": {},
   "outputs": [],
   "source": [
    "list(range(0,11,1))"
   ]
  },
  {
   "cell_type": "code",
   "execution_count": 84,
   "id": "44b368ae-a525-4bc4-bc49-4394cfa8c47f",
   "metadata": {},
   "outputs": [],
   "source": [
    "# We can create a function that can return a list of the range depending on the start and stop values inserted. \n",
    "# But, this time via a prompt. \n",
    "# Remember though to make the input an interger input.\n",
    "\n",
    "def create_ranged_list():\n",
    "    x= int(input('Please select a start parameter'))\n",
    "    y= int(input('Please select a stop parameter'))\n",
    "    z= int(input('Please select a step parameter'))\n",
    "    return(list(range(x,y,z)))"
   ]
  },
  {
   "attachments": {
    "7b6c5032-5772-4310-89c5-aaaa7b6762fa.png": {
     "image/png": "[encoded data removed]"
    }
   },
   "cell_type": "markdown",
   "id": "92b1a22c-920f-459f-8c89-452aa33b0be4",
   "metadata": {},
   "source": [
    "![image.png](attachment:7b6c5032-5772-4310-89c5-aaaa7b6762fa.png)"
   ]
  },
  {
   "cell_type": "code",
   "execution_count": 85,
   "id": "aa4023bd-28d7-42fc-bab9-334a6cc9a218",
   "metadata": {},
   "outputs": [
    {
     "name": "stdin",
     "output_type": "stream",
     "text": [
      "Please select a start parameter 1\n",
      "Please select a stop parameter 11\n",
      "Please select a step parameter 1\n"
     ]
    },
    {
     "data": {
      "text/plain": [
       "[1, 2, 3, 4, 5, 6, 7, 8, 9, 10]"
      ]
     },
     "execution_count": 85,
     "metadata": {},
     "output_type": "execute_result"
    }
   ],
   "source": [
    "create_ranged_list()"
   ]
  }
 ],
 "metadata": {
  "kernelspec": {
   "display_name": "Python 3 (ipykernel)",
   "language": "python",
   "name": "python3"
  },
  "language_info": {
   "codemirror_mode": {
    "name": "ipython",
    "version": 3
   },
   "file_extension": ".py",
   "mimetype": "text/x-python",
   "name": "python",
   "nbconvert_exporter": "python",
   "pygments_lexer": "ipython3",
   "version": "3.8.18"
  }
 },
 "nbformat": 4,
 "nbformat_minor": 5
}
