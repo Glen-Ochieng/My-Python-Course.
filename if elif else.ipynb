{
 "cells": [
  {
   "cell_type": "markdown",
   "id": "682573eb-e850-43f0-b467-46409651373b",
   "metadata": {},
   "source": [
    "### If statement\n",
    "\n",
    "*Syntax*\n",
    "\n",
    "if condition:\n",
    "\n",
    "indent(Tab/4 white spaces) block of code to excute if True"
   ]
  },
  {
   "cell_type": "code",
   "execution_count": 9,
   "id": "37288652-2db4-4b2d-acd5-63ce4ffcae3c",
   "metadata": {},
   "outputs": [
    {
     "name": "stdout",
     "output_type": "stream",
     "text": [
      "the condition is true\n"
     ]
    }
   ],
   "source": [
    "if 4>3:\n",
    "    print('the condition is true')"
   ]
  },
  {
   "cell_type": "code",
   "execution_count": 10,
   "id": "cb0f6273-3ed3-4114-b477-fe2ff9626723",
   "metadata": {},
   "outputs": [],
   "source": [
    "if 4<3:\n",
    "    print('the condition is true')"
   ]
  },
  {
   "cell_type": "markdown",
   "id": "9c1380ba-43ad-493a-ae40-acca1c6890ba",
   "metadata": {},
   "source": [
    "Nothing happens,as the condition is false and the code only runs if the condition is true."
   ]
  },
  {
   "cell_type": "code",
   "execution_count": 11,
   "id": "93c8c147-1902-4fff-b2f1-db5d94fb2dba",
   "metadata": {},
   "outputs": [
    {
     "name": "stdout",
     "output_type": "stream",
     "text": [
      "this statement is always true\n"
     ]
    }
   ],
   "source": [
    "# The danger of not indenting\n",
    "if 4<3:\n",
    "    print('the condition is true')\n",
    "print('this statement is always true')"
   ]
  },
  {
   "cell_type": "markdown",
   "id": "5ea1854d-16c2-4676-bad0-2b43840e70be",
   "metadata": {},
   "source": [
    "Because we did not indent the print statement it is not part of the if statement and is run independently whether or not the condition is true."
   ]
  },
  {
   "cell_type": "code",
   "execution_count": 12,
   "id": "6cc84794-fdae-43f6-bbe8-9b8b2522a286",
   "metadata": {},
   "outputs": [],
   "source": [
    "x=40"
   ]
  },
  {
   "cell_type": "code",
   "execution_count": 13,
   "id": "06a01070-f06f-446a-bf89-ac48c04eee04",
   "metadata": {},
   "outputs": [
    {
     "name": "stdout",
     "output_type": "stream",
     "text": [
      "120% of the value of x is 48.0\n"
     ]
    }
   ],
   "source": [
    "if x<50:\n",
    "    print(f'120% of the value of x is {x*1.2}')"
   ]
  },
  {
   "cell_type": "code",
   "execution_count": 14,
   "id": "9c9e4609-52d8-4287-b312-3f4e4e447a7c",
   "metadata": {},
   "outputs": [],
   "source": [
    "# The above is a reminder on string formatting \n",
    "\n",
    "# *Syntax*\n",
    "\n",
    "#f'new_text{existing text}' \n",
    "\n",
    "# and you get new text + existing text."
   ]
  },
  {
   "cell_type": "markdown",
   "id": "07358eab-e96e-4907-b18a-9194285c0e0d",
   "metadata": {},
   "source": [
    "### if else statement \n",
    "\n",
    "This adds a code to run also if the condition is false.\n",
    "\n",
    "*Syntax*\n",
    "\n",
    "if condition:\n",
    "\n",
    "    block of code to run if the condition is true.\n",
    "    \n",
    "else:\n",
    "\n",
    "    block of code to run if the condition is false."
   ]
  },
  {
   "cell_type": "code",
   "execution_count": 17,
   "id": "9dbc740d-f14e-4078-a383-5f5999e487f4",
   "metadata": {},
   "outputs": [],
   "source": [
    "x=5000"
   ]
  },
  {
   "cell_type": "code",
   "execution_count": 18,
   "id": "c262ac82-6ff7-46b9-b202-9fdf910481b3",
   "metadata": {},
   "outputs": [
    {
     "name": "stdout",
     "output_type": "stream",
     "text": [
      "x is more than 200\n"
     ]
    }
   ],
   "source": [
    "if x < 200:\n",
    "    print('x is less than 200')\n",
    "else:\n",
    "    print('x is more than 200') "
   ]
  },
  {
   "cell_type": "markdown",
   "id": "6386799a-b1c0-49d7-9f97-9748613b7b04",
   "metadata": {},
   "source": [
    "### if-elif-else\n",
    "\n",
    "*Syntax*\n",
    "\n",
    "if condition:\n",
    "\n",
    "    block of code to run if the condition is true\n",
    "    \n",
    "elif condition2:\n",
    "\n",
    "    block of code to run if condition2 is true\n",
    "\n",
    "else condition3:\n",
    "\n",
    "    block of code is neither of the above conditions is true"
   ]
  },
  {
   "cell_type": "code",
   "execution_count": 20,
   "id": "1e67a069-999d-4b5d-8e7d-c9d944f39f63",
   "metadata": {},
   "outputs": [
    {
     "name": "stdout",
     "output_type": "stream",
     "text": [
      "The if statement is True\n"
     ]
    }
   ],
   "source": [
    "# If both the if statements and the elif statements are the same the first code is the one that'll be run \n",
    "\n",
    "if 5<100:\n",
    "    print('The if statement is True')\n",
    "elif 5<100:\n",
    "    print('The elif statement is True')\n",
    "elif 5<100:\n",
    "    print('The second elif statement is True')"
   ]
  },
  {
   "cell_type": "code",
   "execution_count": 22,
   "id": "af1c9cb4-ace6-4fa3-9853-8f38f9f1e204",
   "metadata": {},
   "outputs": [
    {
     "name": "stdout",
     "output_type": "stream",
     "text": [
      "The elif statement is True\n"
     ]
    }
   ],
   "source": [
    "# Evaluation occurs from top to bottom\n",
    "\n",
    "if 5>100:\n",
    "    print('The if statement is True')\n",
    "elif 5<100:\n",
    "    print('The elif statement is True')\n",
    "elif 5<100:\n",
    "    print('The second elif statement is True')"
   ]
  },
  {
   "cell_type": "code",
   "execution_count": 24,
   "id": "9b3a48a3-68fc-4152-8226-724879c87dae",
   "metadata": {},
   "outputs": [
    {
     "name": "stdout",
     "output_type": "stream",
     "text": [
      "All the above conditions are False\n"
     ]
    }
   ],
   "source": [
    "if 5>100:\n",
    "    print('The if statement is True')\n",
    "elif 5>100:\n",
    "    print('The elif statement is True')\n",
    "elif 5>100:\n",
    "    print('The second elif statement is True')\n",
    "else:\n",
    "    print('All the above conditions are False')"
   ]
  },
  {
   "cell_type": "code",
   "execution_count": 26,
   "id": "6c4c5800-cf05-43d3-9c0a-41cca076514a",
   "metadata": {},
   "outputs": [
    {
     "name": "stdout",
     "output_type": "stream",
     "text": [
      "The if statement is True\n",
      "The second if statement is True\n",
      "The third if statement is True\n"
     ]
    }
   ],
   "source": [
    "# A go-around to the if-elif statements is just to print multiple if statements\n",
    "if 5<100:\n",
    "    print('The if statement is True')\n",
    "if 5<100:\n",
    "    print('The second if statement is True')\n",
    "if 5<100:\n",
    "    print('The third if statement is True')"
   ]
  },
  {
   "cell_type": "code",
   "execution_count": 27,
   "id": "8db618cd-9303-42a2-a011-81780250cbb1",
   "metadata": {},
   "outputs": [],
   "source": [
    "x=10"
   ]
  },
  {
   "cell_type": "code",
   "execution_count": 28,
   "id": "8575297e-8c99-436a-bb48-9f3675a450a3",
   "metadata": {},
   "outputs": [],
   "source": [
    "if x>=10:\n",
    "    x=x*100"
   ]
  },
  {
   "cell_type": "code",
   "execution_count": 29,
   "id": "6e1ddfde-d05a-41b7-9bfb-2eff8035b5c2",
   "metadata": {},
   "outputs": [
    {
     "data": {
      "text/plain": [
       "1000"
      ]
     },
     "execution_count": 29,
     "metadata": {},
     "output_type": "execute_result"
    }
   ],
   "source": [
    "x"
   ]
  },
  {
   "cell_type": "markdown",
   "id": "4e444b2c-8fae-4ee7-9642-a64491b95e5d",
   "metadata": {},
   "source": [
    "### Nested if-elif-else statements"
   ]
  },
  {
   "cell_type": "code",
   "execution_count": 30,
   "id": "60b36dfb-1051-46f2-a0ea-96547e9078cb",
   "metadata": {},
   "outputs": [],
   "source": [
    "x=40"
   ]
  },
  {
   "cell_type": "code",
   "execution_count": 31,
   "id": "82651322-5b0e-4982-827d-56f9432c171a",
   "metadata": {},
   "outputs": [
    {
     "name": "stdout",
     "output_type": "stream",
     "text": [
      "x is greater than 11 but less than or equal to 50\n"
     ]
    }
   ],
   "source": [
    "if x<11:\n",
    "    if x >=5:\n",
    "        print('x is less than 11 but greater than or equal to 5')\n",
    "    elif x < 5:\n",
    "        print('x is less than 5')\n",
    "elif x > 11:\n",
    "    if x > 50:\n",
    "        print('x is greater than 50')\n",
    "    elif x <= 50:\n",
    "        print('x is greater than 11 but less than or equal to 50')"
   ]
  },
  {
   "cell_type": "code",
   "execution_count": 32,
   "id": "362ac64a-0c3e-468a-9beb-fd6978400c89",
   "metadata": {},
   "outputs": [],
   "source": [
    "x=6"
   ]
  },
  {
   "cell_type": "code",
   "execution_count": 34,
   "id": "b4190dbc-71d4-42b8-b0f3-de3c1c8f3e68",
   "metadata": {},
   "outputs": [
    {
     "name": "stdout",
     "output_type": "stream",
     "text": [
      "x is less than 11 but greater than or equal to 5\n"
     ]
    }
   ],
   "source": [
    "if x<11:\n",
    "    if x >=5:\n",
    "        print('x is less than 11 but greater than or equal to 5')\n",
    "    elif x < 5:\n",
    "        print('x is less than 5')\n",
    "elif x > 11:\n",
    "    if x > 50:\n",
    "        print('x is greater than 50')\n",
    "    elif x <= 50:\n",
    "        print('x is greater than 11 but less than or equal to 50')"
   ]
  },
  {
   "cell_type": "code",
   "execution_count": 43,
   "id": "59cd6463-c2fb-41b5-9531-a42adcaa2ee4",
   "metadata": {},
   "outputs": [
    {
     "name": "stdout",
     "output_type": "stream",
     "text": [
      "The student has passed the exam\n"
     ]
    }
   ],
   "source": [
    "# Do not overwrite\n",
    "import random\n",
    "grade = random.randint(0,100)\n",
    "\n",
    "# Write your solution below\n",
    "if grade>=80:\n",
    "    print('The student has aced the exam')\n",
    "elif grade < 80 and grade >= 50:\n",
    "    print('The student has passed the exam')\n",
    "else:\n",
    "    print('better luck next time!')"
   ]
  },
  {
   "cell_type": "code",
   "execution_count": 44,
   "id": "8cd031f2-8a6e-4d3a-86e6-91b8621eda1f",
   "metadata": {},
   "outputs": [
    {
     "data": {
      "text/plain": [
       "77"
      ]
     },
     "execution_count": 44,
     "metadata": {},
     "output_type": "execute_result"
    }
   ],
   "source": [
    "grade"
   ]
  },
  {
   "cell_type": "code",
   "execution_count": 45,
   "id": "64602acc-f8a7-488d-9cc2-678813fe0540",
   "metadata": {},
   "outputs": [
    {
     "name": "stdout",
     "output_type": "stream",
     "text": [
      "The student has passed the exam\n"
     ]
    }
   ],
   "source": [
    "# This works as well because of the fact that the execution goes from top to bottom\n",
    "if grade >= 80:\n",
    "    print('The student has aced the exam')\n",
    "elif grade >=50:\n",
    "    print('The student has passed the exam')\n",
    "else:\n",
    "    print('The student has failed the exam, better luck next time!')"
   ]
  }
 ],
 "metadata": {
  "kernelspec": {
   "display_name": "Python 3 (ipykernel)",
   "language": "python",
   "name": "python3"
  },
  "language_info": {
   "codemirror_mode": {
    "name": "ipython",
    "version": 3
   },
   "file_extension": ".py",
   "mimetype": "text/x-python",
   "name": "python",
   "nbconvert_exporter": "python",
   "pygments_lexer": "ipython3",
   "version": "3.8.18"
  }
 },
 "nbformat": 4,
 "nbformat_minor": 5
}
